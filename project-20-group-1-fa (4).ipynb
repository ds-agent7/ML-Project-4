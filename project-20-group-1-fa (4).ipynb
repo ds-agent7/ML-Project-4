{
 "cells": [
  {
   "cell_type": "markdown",
   "execution_count": null,
   "metadata": {
    "papermill": {
     "duration": 0.048915,
     "end_time": "2020-09-08T18:53:14.428105",
     "exception": false,
     "start_time": "2020-09-08T18:53:14.379190",
     "status": "completed"
    },
    "tags": []
   },
   "source": [
    "# Рекомендательная система"
   ]
  },
  {
   "cell_type": "markdown",
   "execution_count": null,
   "metadata": {
    "papermill": {
     "duration": 0.045225,
     "end_time": "2020-09-08T18:53:14.520988",
     "exception": false,
     "start_time": "2020-09-08T18:53:14.475763",
     "status": "completed"
    },
    "tags": []
   },
   "source": [
    "В данном проекте мы рассмотрим основные этапы создания рекомендательной системы интернет-магазина.\n",
    "\n",
    "Основной целью проекта является изучение принципов работы рекомендательных систем, знакомство с различными алгоритмами и создание прототипа.\n",
    "\n",
    "В ходе работы над проектом были решены следующие задачи:\n",
    "\n",
    "1) EDA - разведывательный анализ данных\n",
    "\n",
    "2) Предобработка данных и генерация новых признаков\n",
    "\n",
    "3) Обучение простой модели LightFM\n",
    "\n",
    "4) Решение проблемы холодного старта путём добавления item_features и user_features: https://www.kaggle.com/fedorazarov/project-20-group-1-fa-hybrid\n",
    "\n",
    "5) Реализация рекомендательной системы с помощью бибилиотеки fast.ai: https://www.kaggle.com/fedorazarov/project-20-group-1-fa-fastai-collablearner\n",
    "\n",
    "6) Создание прототипа"
   ]
  },
  {
   "cell_type": "markdown",
   "execution_count": null,
   "metadata": {
    "papermill": {
     "duration": 0.045912,
     "end_time": "2020-09-08T18:53:14.612787",
     "exception": false,
     "start_time": "2020-09-08T18:53:14.566875",
     "status": "completed"
    },
    "tags": []
   },
   "source": [
    "# Подготовка данных"
   ]
  },
  {
   "cell_type": "code",
   "execution_count": 1,
   "metadata": {
    "_cell_guid": "b1076dfc-b9ad-4769-8c92-a6c4dae69d19",
    "_uuid": "8f2839f25d086af736a60e9eeb907d3b93b6e0e5",
    "execution": {
     "iopub.execute_input": "2020-09-08T18:53:14.718330Z",
     "iopub.status.busy": "2020-09-08T18:53:14.717414Z",
     "iopub.status.idle": "2020-09-08T18:54:20.926756Z",
     "shell.execute_reply": "2020-09-08T18:54:20.925570Z"
    },
    "papermill": {
     "duration": 66.268709,
     "end_time": "2020-09-08T18:54:20.926985",
     "exception": false,
     "start_time": "2020-09-08T18:53:14.658276",
     "status": "completed"
    },
    "tags": []
   },
   "outputs": [
    {
     "name": "stdout",
     "output_type": "stream",
     "text": [
      "/kaggle/input/recommendationsv4/train.csv\n",
      "/kaggle/input/recommendationsv4/meta_Grocery_and_Gourmet_Food.json\n",
      "/kaggle/input/recommendationsv4/test.csv\n",
      "/kaggle/input/recommendationsv4/sample_submission.csv\n"
     ]
    },
    {
     "name": "stderr",
     "output_type": "stream",
     "text": [
      "/opt/conda/lib/python3.7/site-packages/IPython/core/interactiveshell.py:3063: DtypeWarning: Columns (8) have mixed types.Specify dtype option on import or set low_memory=False.\n",
      "  interactivity=interactivity, compiler=compiler, result=result)\n",
      "/opt/conda/lib/python3.7/site-packages/IPython/core/interactiveshell.py:3063: DtypeWarning: Columns (5) have mixed types.Specify dtype option on import or set low_memory=False.\n",
      "  interactivity=interactivity, compiler=compiler, result=result)\n"
     ]
    }
   ],
   "source": [
    "import numpy as np\n",
    "import pandas as pd\n",
    "from collections import Counter\n",
    "import json\n",
    "import re\n",
    "\n",
    "import os\n",
    "for dirname, _, filenames in os.walk('/kaggle/input'):\n",
    "    for filename in filenames:\n",
    "        print(os.path.join(dirname, filename))\n",
    "\n",
    "# Загружаем датасеты\n",
    "train = pd.read_csv('/kaggle/input/recommendationsv4/train.csv')\n",
    "test = pd.read_csv('/kaggle/input/recommendationsv4/test.csv')\n",
    "submission = pd.read_csv('/kaggle/input/recommendationsv4/sample_submission.csv')\n",
    "\n",
    "# Постройчно прочитаем json с метаданными и положим результат в датасет \"meta\"\n",
    "with open('/kaggle/input/recommendationsv4/meta_Grocery_and_Gourmet_Food.json') as f:\n",
    "    meta_list = []\n",
    "    for line in f.readlines():\n",
    "        meta_list.append(json.loads(line))\n",
    "        \n",
    "meta = pd.DataFrame(meta_list)\n",
    "\n",
    "# Удалим дубликаты из тренировочного датасета\n",
    "train.drop_duplicates(inplace = True)\n",
    "\n",
    "# Объединим тренировочный датасет и данные из meta по идентификатору asin (Amazon Standard Identification Number)\n",
    "df_new_train = pd.merge(train, meta, on='asin')"
   ]
  },
  {
   "cell_type": "markdown",
   "execution_count": null,
   "metadata": {
    "papermill": {
     "duration": 0.04979,
     "end_time": "2020-09-08T18:54:21.025676",
     "exception": false,
     "start_time": "2020-09-08T18:54:20.975886",
     "status": "completed"
    },
    "tags": []
   },
   "source": [
    "Посмотрим для начала на тестовый и тренировочный датасеты"
   ]
  },
  {
   "cell_type": "code",
   "execution_count": 2,
   "metadata": {
    "execution": {
     "iopub.execute_input": "2020-09-08T18:54:21.133886Z",
     "iopub.status.busy": "2020-09-08T18:54:21.132066Z",
     "iopub.status.idle": "2020-09-08T18:54:22.064097Z",
     "shell.execute_reply": "2020-09-08T18:54:22.063369Z"
    },
    "papermill": {
     "duration": 0.989518,
     "end_time": "2020-09-08T18:54:22.064285",
     "exception": false,
     "start_time": "2020-09-08T18:54:21.074767",
     "status": "completed"
    },
    "tags": []
   },
   "outputs": [
    {
     "name": "stdout",
     "output_type": "stream",
     "text": [
      "<class 'pandas.core.frame.DataFrame'>\n",
      "Int64Index: 828935 entries, 0 to 857894\n",
      "Data columns (total 14 columns):\n",
      " #   Column          Non-Null Count   Dtype  \n",
      "---  ------          --------------   -----  \n",
      " 0   overall         828935 non-null  float64\n",
      " 1   verified        828935 non-null  bool   \n",
      " 2   reviewTime      828935 non-null  object \n",
      " 3   asin            828935 non-null  object \n",
      " 4   reviewerName    828771 non-null  object \n",
      " 5   reviewText      828661 non-null  object \n",
      " 6   summary         828769 non-null  object \n",
      " 7   unixReviewTime  828935 non-null  int64  \n",
      " 8   vote            115991 non-null  object \n",
      " 9   style           429265 non-null  object \n",
      " 10  image           7026 non-null    object \n",
      " 11  userid          828935 non-null  int64  \n",
      " 12  itemid          828935 non-null  int64  \n",
      " 13  rating          828935 non-null  float64\n",
      "dtypes: bool(1), float64(2), int64(3), object(8)\n",
      "memory usage: 89.3+ MB\n",
      "<class 'pandas.core.frame.DataFrame'>\n",
      "RangeIndex: 285965 entries, 0 to 285964\n",
      "Data columns (total 11 columns):\n",
      " #   Column          Non-Null Count   Dtype \n",
      "---  ------          --------------   ----- \n",
      " 0   verified        285965 non-null  bool  \n",
      " 1   reviewTime      285965 non-null  object\n",
      " 2   asin            285965 non-null  object\n",
      " 3   reviewerName    285918 non-null  object\n",
      " 4   unixReviewTime  285965 non-null  int64 \n",
      " 5   vote            39462 non-null   object\n",
      " 6   style           147680 non-null  object\n",
      " 7   image           2368 non-null    object\n",
      " 8   userid          285965 non-null  int64 \n",
      " 9   itemid          285965 non-null  int64 \n",
      " 10  Id              285965 non-null  int64 \n",
      "dtypes: bool(1), int64(4), object(6)\n",
      "memory usage: 22.1+ MB\n"
     ]
    }
   ],
   "source": [
    "train.info()\n",
    "test.info()"
   ]
  },
  {
   "cell_type": "markdown",
   "execution_count": null,
   "metadata": {
    "papermill": {
     "duration": 0.046734,
     "end_time": "2020-09-08T18:54:22.157796",
     "exception": false,
     "start_time": "2020-09-08T18:54:22.111062",
     "status": "completed"
    },
    "tags": []
   },
   "source": [
    "Видим, что в тренировочном датасете на три столбца больше:\n",
    "* присутствует overall - оценка по пятибальной шкале\n",
    "* присутствует reviewText - текст отзыва\n",
    "* присутствует summary - краткое содержание отзыва\n",
    "* присутствует rating - целевая переманная\n",
    "* отсутствует Id"
   ]
  },
  {
   "cell_type": "markdown",
   "execution_count": null,
   "metadata": {
    "papermill": {
     "duration": 0.047303,
     "end_time": "2020-09-08T18:54:22.252226",
     "exception": false,
     "start_time": "2020-09-08T18:54:22.204923",
     "status": "completed"
    },
    "tags": []
   },
   "source": [
    "Создадим копию расширенного датасета df_new, чтобы каждый раз заново не загружать данные, если что-то испортим."
   ]
  },
  {
   "cell_type": "code",
   "execution_count": 3,
   "metadata": {
    "execution": {
     "iopub.execute_input": "2020-09-08T18:54:22.352748Z",
     "iopub.status.busy": "2020-09-08T18:54:22.351797Z",
     "iopub.status.idle": "2020-09-08T18:54:24.319106Z",
     "shell.execute_reply": "2020-09-08T18:54:24.317961Z"
    },
    "papermill": {
     "duration": 2.02033,
     "end_time": "2020-09-08T18:54:24.319318",
     "exception": false,
     "start_time": "2020-09-08T18:54:22.298988",
     "status": "completed"
    },
    "tags": []
   },
   "outputs": [],
   "source": [
    "df = df_new_train.copy()"
   ]
  },
  {
   "cell_type": "markdown",
   "execution_count": null,
   "metadata": {
    "papermill": {
     "duration": 0.048561,
     "end_time": "2020-09-08T18:54:24.417870",
     "exception": false,
     "start_time": "2020-09-08T18:54:24.369309",
     "status": "completed"
    },
    "tags": []
   },
   "source": [
    "# EDA"
   ]
  },
  {
   "cell_type": "markdown",
   "execution_count": null,
   "metadata": {
    "papermill": {
     "duration": 0.124231,
     "end_time": "2020-09-08T18:54:24.590678",
     "exception": false,
     "start_time": "2020-09-08T18:54:24.466447",
     "status": "completed"
    },
    "tags": []
   },
   "source": [
    "Посмотрим на датасет"
   ]
  },
  {
   "cell_type": "code",
   "execution_count": 4,
   "metadata": {
    "execution": {
     "iopub.execute_input": "2020-09-08T18:54:24.726852Z",
     "iopub.status.busy": "2020-09-08T18:54:24.725578Z",
     "iopub.status.idle": "2020-09-08T18:54:24.753078Z",
     "shell.execute_reply": "2020-09-08T18:54:24.753770Z"
    },
    "papermill": {
     "duration": 0.112528,
     "end_time": "2020-09-08T18:54:24.753967",
     "exception": false,
     "start_time": "2020-09-08T18:54:24.641439",
     "status": "completed"
    },
    "tags": []
   },
   "outputs": [
    {
     "data": {
      "text/html": [
       "<div>\n",
       "<style scoped>\n",
       "    .dataframe tbody tr th:only-of-type {\n",
       "        vertical-align: middle;\n",
       "    }\n",
       "\n",
       "    .dataframe tbody tr th {\n",
       "        vertical-align: top;\n",
       "    }\n",
       "\n",
       "    .dataframe thead th {\n",
       "        text-align: right;\n",
       "    }\n",
       "</style>\n",
       "<table border=\"1\" class=\"dataframe\">\n",
       "  <thead>\n",
       "    <tr style=\"text-align: right;\">\n",
       "      <th></th>\n",
       "      <th>overall</th>\n",
       "      <th>verified</th>\n",
       "      <th>reviewTime</th>\n",
       "      <th>asin</th>\n",
       "      <th>reviewerName</th>\n",
       "      <th>reviewText</th>\n",
       "      <th>summary</th>\n",
       "      <th>unixReviewTime</th>\n",
       "      <th>vote</th>\n",
       "      <th>style</th>\n",
       "      <th>...</th>\n",
       "      <th>main_cat</th>\n",
       "      <th>price</th>\n",
       "      <th>also_buy</th>\n",
       "      <th>image_y</th>\n",
       "      <th>date</th>\n",
       "      <th>feature</th>\n",
       "      <th>details</th>\n",
       "      <th>similar_item</th>\n",
       "      <th>tech1</th>\n",
       "      <th>fit</th>\n",
       "    </tr>\n",
       "  </thead>\n",
       "  <tbody>\n",
       "    <tr>\n",
       "      <th>0</th>\n",
       "      <td>5.0</td>\n",
       "      <td>True</td>\n",
       "      <td>10 4, 2016</td>\n",
       "      <td>B01CPNIEQG</td>\n",
       "      <td>Heather</td>\n",
       "      <td>These are my FAVORITE spices in my collection....</td>\n",
       "      <td>Must Add to your Spice kitchen!</td>\n",
       "      <td>1475539200</td>\n",
       "      <td>NaN</td>\n",
       "      <td>NaN</td>\n",
       "      <td>...</td>\n",
       "      <td>Grocery</td>\n",
       "      <td>$9.95</td>\n",
       "      <td>[B01DGZ2B48, B01EZ489AO, B01DH795LM, B01EYW2LC...</td>\n",
       "      <td>[https://images-na.ssl-images-amazon.com/image...</td>\n",
       "      <td>NaN</td>\n",
       "      <td>NaN</td>\n",
       "      <td>\\n      &lt;div class=\"content\"&gt;\\n\\n\\n\\n\\n\\n\\n&lt;ul...</td>\n",
       "      <td>NaN</td>\n",
       "      <td>NaN</td>\n",
       "      <td>NaN</td>\n",
       "    </tr>\n",
       "    <tr>\n",
       "      <th>1</th>\n",
       "      <td>5.0</td>\n",
       "      <td>False</td>\n",
       "      <td>03 31, 2017</td>\n",
       "      <td>B01CPNIEQG</td>\n",
       "      <td>Tina McClain</td>\n",
       "      <td>Love this seasoning on chicken! The flavor is ...</td>\n",
       "      <td>Love all their seasoning!!</td>\n",
       "      <td>1490918400</td>\n",
       "      <td>NaN</td>\n",
       "      <td>NaN</td>\n",
       "      <td>...</td>\n",
       "      <td>Grocery</td>\n",
       "      <td>$9.95</td>\n",
       "      <td>[B01DGZ2B48, B01EZ489AO, B01DH795LM, B01EYW2LC...</td>\n",
       "      <td>[https://images-na.ssl-images-amazon.com/image...</td>\n",
       "      <td>NaN</td>\n",
       "      <td>NaN</td>\n",
       "      <td>\\n      &lt;div class=\"content\"&gt;\\n\\n\\n\\n\\n\\n\\n&lt;ul...</td>\n",
       "      <td>NaN</td>\n",
       "      <td>NaN</td>\n",
       "      <td>NaN</td>\n",
       "    </tr>\n",
       "    <tr>\n",
       "      <th>2</th>\n",
       "      <td>3.0</td>\n",
       "      <td>True</td>\n",
       "      <td>03 11, 2017</td>\n",
       "      <td>B01CPNIEQG</td>\n",
       "      <td>Ella</td>\n",
       "      <td>Ummm....interesting spice blend, but not reall...</td>\n",
       "      <td>It's not a bad taste, but they really shouldn'...</td>\n",
       "      <td>1489190400</td>\n",
       "      <td>4</td>\n",
       "      <td>NaN</td>\n",
       "      <td>...</td>\n",
       "      <td>Grocery</td>\n",
       "      <td>$9.95</td>\n",
       "      <td>[B01DGZ2B48, B01EZ489AO, B01DH795LM, B01EYW2LC...</td>\n",
       "      <td>[https://images-na.ssl-images-amazon.com/image...</td>\n",
       "      <td>NaN</td>\n",
       "      <td>NaN</td>\n",
       "      <td>\\n      &lt;div class=\"content\"&gt;\\n\\n\\n\\n\\n\\n\\n&lt;ul...</td>\n",
       "      <td>NaN</td>\n",
       "      <td>NaN</td>\n",
       "      <td>NaN</td>\n",
       "    </tr>\n",
       "    <tr>\n",
       "      <th>3</th>\n",
       "      <td>5.0</td>\n",
       "      <td>False</td>\n",
       "      <td>05 18, 2016</td>\n",
       "      <td>B01CPNIEQG</td>\n",
       "      <td>A. Yeager</td>\n",
       "      <td>I have loved adobo seasoning for years. Once I...</td>\n",
       "      <td>I have loved adobo seasoning for years</td>\n",
       "      <td>1463529600</td>\n",
       "      <td>NaN</td>\n",
       "      <td>NaN</td>\n",
       "      <td>...</td>\n",
       "      <td>Grocery</td>\n",
       "      <td>$9.95</td>\n",
       "      <td>[B01DGZ2B48, B01EZ489AO, B01DH795LM, B01EYW2LC...</td>\n",
       "      <td>[https://images-na.ssl-images-amazon.com/image...</td>\n",
       "      <td>NaN</td>\n",
       "      <td>NaN</td>\n",
       "      <td>\\n      &lt;div class=\"content\"&gt;\\n\\n\\n\\n\\n\\n\\n&lt;ul...</td>\n",
       "      <td>NaN</td>\n",
       "      <td>NaN</td>\n",
       "      <td>NaN</td>\n",
       "    </tr>\n",
       "    <tr>\n",
       "      <th>4</th>\n",
       "      <td>5.0</td>\n",
       "      <td>False</td>\n",
       "      <td>05 18, 2016</td>\n",
       "      <td>B01CPNIEQG</td>\n",
       "      <td>LuvstoShop</td>\n",
       "      <td>I love this blend. It makes my hashbrowns! So ...</td>\n",
       "      <td>Five Stars</td>\n",
       "      <td>1463529600</td>\n",
       "      <td>NaN</td>\n",
       "      <td>NaN</td>\n",
       "      <td>...</td>\n",
       "      <td>Grocery</td>\n",
       "      <td>$9.95</td>\n",
       "      <td>[B01DGZ2B48, B01EZ489AO, B01DH795LM, B01EYW2LC...</td>\n",
       "      <td>[https://images-na.ssl-images-amazon.com/image...</td>\n",
       "      <td>NaN</td>\n",
       "      <td>NaN</td>\n",
       "      <td>\\n      &lt;div class=\"content\"&gt;\\n\\n\\n\\n\\n\\n\\n&lt;ul...</td>\n",
       "      <td>NaN</td>\n",
       "      <td>NaN</td>\n",
       "      <td>NaN</td>\n",
       "    </tr>\n",
       "  </tbody>\n",
       "</table>\n",
       "<p>5 rows × 30 columns</p>\n",
       "</div>"
      ],
      "text/plain": [
       "   overall  verified   reviewTime        asin  reviewerName  \\\n",
       "0      5.0      True   10 4, 2016  B01CPNIEQG       Heather   \n",
       "1      5.0     False  03 31, 2017  B01CPNIEQG  Tina McClain   \n",
       "2      3.0      True  03 11, 2017  B01CPNIEQG          Ella   \n",
       "3      5.0     False  05 18, 2016  B01CPNIEQG     A. Yeager   \n",
       "4      5.0     False  05 18, 2016  B01CPNIEQG    LuvstoShop   \n",
       "\n",
       "                                          reviewText  \\\n",
       "0  These are my FAVORITE spices in my collection....   \n",
       "1  Love this seasoning on chicken! The flavor is ...   \n",
       "2  Ummm....interesting spice blend, but not reall...   \n",
       "3  I have loved adobo seasoning for years. Once I...   \n",
       "4  I love this blend. It makes my hashbrowns! So ...   \n",
       "\n",
       "                                             summary  unixReviewTime vote  \\\n",
       "0                    Must Add to your Spice kitchen!      1475539200  NaN   \n",
       "1                         Love all their seasoning!!      1490918400  NaN   \n",
       "2  It's not a bad taste, but they really shouldn'...      1489190400    4   \n",
       "3             I have loved adobo seasoning for years      1463529600  NaN   \n",
       "4                                         Five Stars      1463529600  NaN   \n",
       "\n",
       "  style  ... main_cat  price  \\\n",
       "0   NaN  ...  Grocery  $9.95   \n",
       "1   NaN  ...  Grocery  $9.95   \n",
       "2   NaN  ...  Grocery  $9.95   \n",
       "3   NaN  ...  Grocery  $9.95   \n",
       "4   NaN  ...  Grocery  $9.95   \n",
       "\n",
       "                                            also_buy  \\\n",
       "0  [B01DGZ2B48, B01EZ489AO, B01DH795LM, B01EYW2LC...   \n",
       "1  [B01DGZ2B48, B01EZ489AO, B01DH795LM, B01EYW2LC...   \n",
       "2  [B01DGZ2B48, B01EZ489AO, B01DH795LM, B01EYW2LC...   \n",
       "3  [B01DGZ2B48, B01EZ489AO, B01DH795LM, B01EYW2LC...   \n",
       "4  [B01DGZ2B48, B01EZ489AO, B01DH795LM, B01EYW2LC...   \n",
       "\n",
       "                                             image_y date feature  \\\n",
       "0  [https://images-na.ssl-images-amazon.com/image...  NaN     NaN   \n",
       "1  [https://images-na.ssl-images-amazon.com/image...  NaN     NaN   \n",
       "2  [https://images-na.ssl-images-amazon.com/image...  NaN     NaN   \n",
       "3  [https://images-na.ssl-images-amazon.com/image...  NaN     NaN   \n",
       "4  [https://images-na.ssl-images-amazon.com/image...  NaN     NaN   \n",
       "\n",
       "                                             details similar_item tech1  fit  \n",
       "0  \\n      <div class=\"content\">\\n\\n\\n\\n\\n\\n\\n<ul...          NaN   NaN  NaN  \n",
       "1  \\n      <div class=\"content\">\\n\\n\\n\\n\\n\\n\\n<ul...          NaN   NaN  NaN  \n",
       "2  \\n      <div class=\"content\">\\n\\n\\n\\n\\n\\n\\n<ul...          NaN   NaN  NaN  \n",
       "3  \\n      <div class=\"content\">\\n\\n\\n\\n\\n\\n\\n<ul...          NaN   NaN  NaN  \n",
       "4  \\n      <div class=\"content\">\\n\\n\\n\\n\\n\\n\\n<ul...          NaN   NaN  NaN  \n",
       "\n",
       "[5 rows x 30 columns]"
      ]
     },
     "execution_count": 4,
     "metadata": {},
     "output_type": "execute_result"
    }
   ],
   "source": [
    "df.head(5)"
   ]
  },
  {
   "cell_type": "code",
   "execution_count": 5,
   "metadata": {
    "execution": {
     "iopub.execute_input": "2020-09-08T18:54:24.865125Z",
     "iopub.status.busy": "2020-09-08T18:54:24.864155Z",
     "iopub.status.idle": "2020-09-08T18:54:27.396369Z",
     "shell.execute_reply": "2020-09-08T18:54:27.394752Z"
    },
    "papermill": {
     "duration": 2.593058,
     "end_time": "2020-09-08T18:54:27.396617",
     "exception": false,
     "start_time": "2020-09-08T18:54:24.803559",
     "status": "completed"
    },
    "tags": []
   },
   "outputs": [
    {
     "name": "stdout",
     "output_type": "stream",
     "text": [
      "<class 'pandas.core.frame.DataFrame'>\n",
      "Int64Index: 847593 entries, 0 to 847592\n",
      "Data columns (total 30 columns):\n",
      " #   Column          Non-Null Count   Dtype  \n",
      "---  ------          --------------   -----  \n",
      " 0   overall         847593 non-null  float64\n",
      " 1   verified        847593 non-null  bool   \n",
      " 2   reviewTime      847593 non-null  object \n",
      " 3   asin            847593 non-null  object \n",
      " 4   reviewerName    847425 non-null  object \n",
      " 5   reviewText      847315 non-null  object \n",
      " 6   summary         847426 non-null  object \n",
      " 7   unixReviewTime  847593 non-null  int64  \n",
      " 8   vote            118861 non-null  object \n",
      " 9   style           440351 non-null  object \n",
      " 10  image_x         7138 non-null    object \n",
      " 11  userid          847593 non-null  int64  \n",
      " 12  itemid          847593 non-null  int64  \n",
      " 13  rating          847593 non-null  float64\n",
      " 14  category        847593 non-null  object \n",
      " 15  description     776098 non-null  object \n",
      " 16  title           847593 non-null  object \n",
      " 17  brand           841489 non-null  object \n",
      " 18  rank            812995 non-null  object \n",
      " 19  also_view       463371 non-null  object \n",
      " 20  main_cat        846638 non-null  object \n",
      " 21  price           588972 non-null  object \n",
      " 22  also_buy        726858 non-null  object \n",
      " 23  image_y         755354 non-null  object \n",
      " 24  date            12087 non-null   object \n",
      " 25  feature         142734 non-null  object \n",
      " 26  details         832985 non-null  object \n",
      " 27  similar_item    1138 non-null    object \n",
      " 28  tech1           4372 non-null    object \n",
      " 29  fit             0 non-null       object \n",
      "dtypes: bool(1), float64(2), int64(3), object(24)\n",
      "memory usage: 194.8+ MB\n"
     ]
    }
   ],
   "source": [
    "df.info()"
   ]
  },
  {
   "cell_type": "markdown",
   "execution_count": null,
   "metadata": {
    "papermill": {
     "duration": 0.047174,
     "end_time": "2020-09-08T18:54:27.493988",
     "exception": false,
     "start_time": "2020-09-08T18:54:27.446814",
     "status": "completed"
    },
    "tags": []
   },
   "source": [
    "Всего 30 признаков. 1 бинарный, 5 числовых и 24 категориальных. Пройдемся по признакам."
   ]
  },
  {
   "cell_type": "markdown",
   "execution_count": null,
   "metadata": {
    "papermill": {
     "duration": 0.046862,
     "end_time": "2020-09-08T18:54:27.589293",
     "exception": false,
     "start_time": "2020-09-08T18:54:27.542431",
     "status": "completed"
    },
    "tags": []
   },
   "source": [
    "Напишем функцию, которая выдаст нам необходимую информацию для первичного анализа признака."
   ]
  },
  {
   "cell_type": "code",
   "execution_count": 6,
   "metadata": {
    "execution": {
     "iopub.execute_input": "2020-09-08T18:54:27.697559Z",
     "iopub.status.busy": "2020-09-08T18:54:27.696341Z",
     "iopub.status.idle": "2020-09-08T18:54:27.700283Z",
     "shell.execute_reply": "2020-09-08T18:54:27.699478Z"
    },
    "papermill": {
     "duration": 0.063341,
     "end_time": "2020-09-08T18:54:27.700428",
     "exception": false,
     "start_time": "2020-09-08T18:54:27.637087",
     "status": "completed"
    },
    "tags": []
   },
   "outputs": [],
   "source": [
    "# Функция без гистограммы\n",
    "def col_info(ys):\n",
    "    print('Количество пропусков: {},'.format(ys.isnull().sum()))\n",
    "    print('{},'.format(ys.describe()))\n",
    "    print('Распределение:\\n{},'.format(ys.value_counts()))\n",
    "\n",
    "# Функция с гистограммой\n",
    "def col_info_hist(ys):\n",
    "    print('Количество пропусков: {},'.format(ys.isnull().sum()))\n",
    "    print('{},'.format(ys.describe()))\n",
    "    print('Распределение:\\n{},'.format(ys.value_counts()))\n",
    "    ys.hist()"
   ]
  },
  {
   "cell_type": "markdown",
   "execution_count": null,
   "metadata": {
    "papermill": {
     "duration": 0.046554,
     "end_time": "2020-09-08T18:54:27.795965",
     "exception": false,
     "start_time": "2020-09-08T18:54:27.749411",
     "status": "completed"
    },
    "tags": []
   },
   "source": [
    "## Overall"
   ]
  },
  {
   "cell_type": "code",
   "execution_count": 7,
   "metadata": {
    "execution": {
     "iopub.execute_input": "2020-09-08T18:54:27.897313Z",
     "iopub.status.busy": "2020-09-08T18:54:27.896069Z",
     "iopub.status.idle": "2020-09-08T18:54:28.291305Z",
     "shell.execute_reply": "2020-09-08T18:54:28.290586Z"
    },
    "papermill": {
     "duration": 0.448171,
     "end_time": "2020-09-08T18:54:28.291469",
     "exception": false,
     "start_time": "2020-09-08T18:54:27.843298",
     "status": "completed"
    },
    "tags": []
   },
   "outputs": [
    {
     "name": "stdout",
     "output_type": "stream",
     "text": [
      "Количество пропусков: 0,\n",
      "count    847593.000000\n",
      "mean          4.441068\n",
      "std           1.065026\n",
      "min           1.000000\n",
      "25%           4.000000\n",
      "50%           5.000000\n",
      "75%           5.000000\n",
      "max           5.000000\n",
      "Name: overall, dtype: float64,\n",
      "Распределение:\n",
      "5.0    607524\n",
      "4.0    111868\n",
      "3.0     59795\n",
      "1.0     37071\n",
      "2.0     31335\n",
      "Name: overall, dtype: int64,\n"
     ]
    },
    {
     "data": {
      "image/png": "[encoded data removed]",
      "text/plain": [
       "<Figure size 432x288 with 1 Axes>"
      ]
     },
     "metadata": {
      "needs_background": "light"
     },
     "output_type": "display_data"
    }
   ],
   "source": [
    "col_info_hist(df.overall)"
   ]
  },
  {
   "cell_type": "markdown",
   "execution_count": null,
   "metadata": {
    "papermill": {
     "duration": 0.047431,
     "end_time": "2020-09-08T18:54:28.386020",
     "exception": false,
     "start_time": "2020-09-08T18:54:28.338589",
     "status": "completed"
    },
    "tags": []
   },
   "source": [
    "Похоже на оценку по пятибальной шкале. Подавляющее большинство - пятерки. Данного признака нет в тестовой выборке, но мы можем использовать его для анализа других признаков.[](http://)"
   ]
  },
  {
   "cell_type": "code",
   "execution_count": 8,
   "metadata": {
    "execution": {
     "iopub.execute_input": "2020-09-08T18:54:28.487234Z",
     "iopub.status.busy": "2020-09-08T18:54:28.486416Z",
     "iopub.status.idle": "2020-09-08T18:54:28.498842Z",
     "shell.execute_reply": "2020-09-08T18:54:28.498190Z"
    },
    "papermill": {
     "duration": 0.065783,
     "end_time": "2020-09-08T18:54:28.498993",
     "exception": false,
     "start_time": "2020-09-08T18:54:28.433210",
     "status": "completed"
    },
    "tags": []
   },
   "outputs": [],
   "source": [
    "df['overall']=df['overall'].astype('int32')"
   ]
  },
  {
   "cell_type": "markdown",
   "execution_count": null,
   "metadata": {
    "papermill": {
     "duration": 0.046843,
     "end_time": "2020-09-08T18:54:28.592965",
     "exception": false,
     "start_time": "2020-09-08T18:54:28.546122",
     "status": "completed"
    },
    "tags": []
   },
   "source": [
    "## verified"
   ]
  },
  {
   "cell_type": "code",
   "execution_count": 9,
   "metadata": {
    "execution": {
     "iopub.execute_input": "2020-09-08T18:54:28.695208Z",
     "iopub.status.busy": "2020-09-08T18:54:28.694244Z",
     "iopub.status.idle": "2020-09-08T18:54:28.732579Z",
     "shell.execute_reply": "2020-09-08T18:54:28.733210Z"
    },
    "papermill": {
     "duration": 0.092664,
     "end_time": "2020-09-08T18:54:28.733427",
     "exception": false,
     "start_time": "2020-09-08T18:54:28.640763",
     "status": "completed"
    },
    "tags": []
   },
   "outputs": [
    {
     "name": "stdout",
     "output_type": "stream",
     "text": [
      "Количество пропусков: 0,\n",
      "count     847593\n",
      "unique         2\n",
      "top         True\n",
      "freq      736369\n",
      "Name: verified, dtype: object,\n",
      "Распределение:\n",
      "True     736369\n",
      "False    111224\n",
      "Name: verified, dtype: int64,\n"
     ]
    }
   ],
   "source": [
    "col_info(df.verified)"
   ]
  },
  {
   "cell_type": "markdown",
   "execution_count": null,
   "metadata": {
    "papermill": {
     "duration": 0.047491,
     "end_time": "2020-09-08T18:54:28.828884",
     "exception": false,
     "start_time": "2020-09-08T18:54:28.781393",
     "status": "completed"
    },
    "tags": []
   },
   "source": [
    "Данный признак скорее всего означает, что либо комментарий, либо аккаунт пользователя подтвержден. Пропусков нет.\n",
    "Заменим значения на 1 и 0."
   ]
  },
  {
   "cell_type": "code",
   "execution_count": 10,
   "metadata": {
    "execution": {
     "iopub.execute_input": "2020-09-08T18:54:28.932234Z",
     "iopub.status.busy": "2020-09-08T18:54:28.931326Z",
     "iopub.status.idle": "2020-09-08T18:54:29.038765Z",
     "shell.execute_reply": "2020-09-08T18:54:29.039446Z"
    },
    "papermill": {
     "duration": 0.163284,
     "end_time": "2020-09-08T18:54:29.039641",
     "exception": false,
     "start_time": "2020-09-08T18:54:28.876357",
     "status": "completed"
    },
    "tags": []
   },
   "outputs": [],
   "source": [
    "dic_verified = {\n",
    "    True: 1,\n",
    "    False: 0\n",
    "}\n",
    "df['verified'] = df['verified'].map(dic_verified)"
   ]
  },
  {
   "cell_type": "markdown",
   "execution_count": null,
   "metadata": {
    "papermill": {
     "duration": 0.047612,
     "end_time": "2020-09-08T18:54:29.135249",
     "exception": false,
     "start_time": "2020-09-08T18:54:29.087637",
     "status": "completed"
    },
    "tags": []
   },
   "source": [
    "Посмотрим, как влияет признак verified на среднюю оценку."
   ]
  },
  {
   "cell_type": "code",
   "execution_count": 11,
   "metadata": {
    "execution": {
     "iopub.execute_input": "2020-09-08T18:54:29.241048Z",
     "iopub.status.busy": "2020-09-08T18:54:29.240263Z",
     "iopub.status.idle": "2020-09-08T18:54:30.489812Z",
     "shell.execute_reply": "2020-09-08T18:54:30.489211Z"
    },
    "papermill": {
     "duration": 1.306882,
     "end_time": "2020-09-08T18:54:30.489949",
     "exception": false,
     "start_time": "2020-09-08T18:54:29.183067",
     "status": "completed"
    },
    "tags": []
   },
   "outputs": [
    {
     "name": "stdout",
     "output_type": "stream",
     "text": [
      "Средняя оценка при значении verified = 1:  4.479455273103566\n",
      "Средняя оценка при значении verified = 0:  4.186920089189384\n"
     ]
    },
    {
     "data": {
      "text/plain": [
       "<matplotlib.axes._subplots.AxesSubplot at 0x7f71f1ad0510>"
      ]
     },
     "execution_count": 11,
     "metadata": {},
     "output_type": "execute_result"
    },
    {
     "data": {
      "image/png": "[encoded data removed]",
      "text/plain": [
       "<Figure size 432x288 with 1 Axes>"
      ]
     },
     "metadata": {
      "needs_background": "light"
     },
     "output_type": "display_data"
    }
   ],
   "source": [
    "print('Средняя оценка при значении verified = 1: ',df[df.verified == 1].overall.mean())\n",
    "df['overall'][df['verified'] == 1].hist(bins=10)\n",
    "print('Средняя оценка при значении verified = 0: ',df[df.verified == 0].overall.mean())\n",
    "df['overall'][df['verified'] == 0].hist(bins=10)"
   ]
  },
  {
   "cell_type": "markdown",
   "execution_count": null,
   "metadata": {
    "papermill": {
     "duration": 0.047521,
     "end_time": "2020-09-08T18:54:30.585497",
     "exception": false,
     "start_time": "2020-09-08T18:54:30.537976",
     "status": "completed"
    },
    "tags": []
   },
   "source": [
    "Видим, что средняя оценка товаров с признаком verified = 1 выше, но в целом распределение оценок похожее."
   ]
  },
  {
   "cell_type": "markdown",
   "execution_count": null,
   "metadata": {
    "papermill": {
     "duration": 0.047798,
     "end_time": "2020-09-08T18:54:30.681321",
     "exception": false,
     "start_time": "2020-09-08T18:54:30.633523",
     "status": "completed"
    },
    "tags": []
   },
   "source": [
    "## reviewTime"
   ]
  },
  {
   "cell_type": "code",
   "execution_count": 12,
   "metadata": {
    "execution": {
     "iopub.execute_input": "2020-09-08T18:54:30.908770Z",
     "iopub.status.busy": "2020-09-08T18:54:30.907927Z",
     "iopub.status.idle": "2020-09-08T18:54:31.728488Z",
     "shell.execute_reply": "2020-09-08T18:54:31.727637Z"
    },
    "papermill": {
     "duration": 0.999109,
     "end_time": "2020-09-08T18:54:31.728633",
     "exception": false,
     "start_time": "2020-09-08T18:54:30.729524",
     "status": "completed"
    },
    "tags": []
   },
   "outputs": [
    {
     "name": "stdout",
     "output_type": "stream",
     "text": [
      "Количество пропусков: 0,\n",
      "count         847593\n",
      "unique          4580\n",
      "top       03 1, 2016\n",
      "freq             941\n",
      "Name: reviewTime, dtype: object,\n",
      "Распределение:\n",
      "03 1, 2016     941\n",
      "07 14, 2016    873\n",
      "01 20, 2016    783\n",
      "06 3, 2015     783\n",
      "02 20, 2016    767\n",
      "              ... \n",
      "06 4, 2006       1\n",
      "06 25, 2004      1\n",
      "11 21, 2006      1\n",
      "04 27, 2006      1\n",
      "07 26, 2007      1\n",
      "Name: reviewTime, Length: 4580, dtype: int64,\n"
     ]
    }
   ],
   "source": [
    "col_info(df.reviewTime)"
   ]
  },
  {
   "cell_type": "markdown",
   "execution_count": null,
   "metadata": {
    "papermill": {
     "duration": 0.047756,
     "end_time": "2020-09-08T18:54:31.824526",
     "exception": false,
     "start_time": "2020-09-08T18:54:31.776770",
     "status": "completed"
    },
    "tags": []
   },
   "source": [
    "Дата отзыва. Эта информация есть в колонке unixReviewTime в более удобном формате. Удалим данный столбец."
   ]
  },
  {
   "cell_type": "code",
   "execution_count": 13,
   "metadata": {
    "execution": {
     "iopub.execute_input": "2020-09-08T18:54:31.941825Z",
     "iopub.status.busy": "2020-09-08T18:54:31.940364Z",
     "iopub.status.idle": "2020-09-08T18:54:32.358568Z",
     "shell.execute_reply": "2020-09-08T18:54:32.357672Z"
    },
    "papermill": {
     "duration": 0.486035,
     "end_time": "2020-09-08T18:54:32.358726",
     "exception": false,
     "start_time": "2020-09-08T18:54:31.872691",
     "status": "completed"
    },
    "tags": []
   },
   "outputs": [],
   "source": [
    "df = df.drop(['reviewTime'], axis=1)"
   ]
  },
  {
   "cell_type": "markdown",
   "execution_count": null,
   "metadata": {
    "papermill": {
     "duration": 0.048751,
     "end_time": "2020-09-08T18:54:32.456360",
     "exception": false,
     "start_time": "2020-09-08T18:54:32.407609",
     "status": "completed"
    },
    "tags": []
   },
   "source": [
    "## reviewerName"
   ]
  },
  {
   "cell_type": "code",
   "execution_count": 14,
   "metadata": {
    "execution": {
     "iopub.execute_input": "2020-09-08T18:54:32.758665Z",
     "iopub.status.busy": "2020-09-08T18:54:32.757436Z",
     "iopub.status.idle": "2020-09-08T18:54:34.776023Z",
     "shell.execute_reply": "2020-09-08T18:54:34.774732Z"
    },
    "papermill": {
     "duration": 2.269223,
     "end_time": "2020-09-08T18:54:34.776425",
     "exception": false,
     "start_time": "2020-09-08T18:54:32.507202",
     "status": "completed"
    },
    "tags": []
   },
   "outputs": [
    {
     "name": "stdout",
     "output_type": "stream",
     "text": [
      "Количество пропусков: 168,\n",
      "count              847425\n",
      "unique             101207\n",
      "top       Amazon Customer\n",
      "freq                31346\n",
      "Name: reviewerName, dtype: object,\n",
      "Распределение:\n",
      "Amazon Customer     31346\n",
      "Kindle Customer      6128\n",
      "Linda                 729\n",
      "John                  714\n",
      "David                 606\n",
      "                    ...  \n",
      "Pamela R. Bone          1\n",
      "Roger Gardner           1\n",
      "forrest73               1\n",
      "American -Bonsai        1\n",
      "cpnut                   1\n",
      "Name: reviewerName, Length: 101207, dtype: int64,\n"
     ]
    }
   ],
   "source": [
    "col_info(df.reviewerName)"
   ]
  },
  {
   "cell_type": "markdown",
   "execution_count": null,
   "metadata": {
    "papermill": {
     "duration": 0.052733,
     "end_time": "2020-09-08T18:54:34.882249",
     "exception": false,
     "start_time": "2020-09-08T18:54:34.829516",
     "status": "completed"
    },
    "tags": []
   },
   "source": [
    "Видим, что довольно много отзывов с Амазона и Киндла. 180 пропусков. Проверим, один userid у Amazon Customer, или одному имени пользователя может соответствовать несколько userid."
   ]
  },
  {
   "cell_type": "code",
   "execution_count": 15,
   "metadata": {
    "execution": {
     "iopub.execute_input": "2020-09-08T18:54:35.221860Z",
     "iopub.status.busy": "2020-09-08T18:54:35.220992Z",
     "iopub.status.idle": "2020-09-08T18:54:35.340463Z",
     "shell.execute_reply": "2020-09-08T18:54:35.339628Z"
    },
    "papermill": {
     "duration": 0.409496,
     "end_time": "2020-09-08T18:54:35.340637",
     "exception": false,
     "start_time": "2020-09-08T18:54:34.931141",
     "status": "completed"
    },
    "tags": []
   },
   "outputs": [
    {
     "data": {
      "text/plain": [
       "7477      91\n",
       "1330      60\n",
       "24035     55\n",
       "8027      53\n",
       "15752     44\n",
       "          ..\n",
       "73871      1\n",
       "115807     1\n",
       "58045      1\n",
       "62767      1\n",
       "65437      1\n",
       "Name: userid, Length: 5329, dtype: int64"
      ]
     },
     "execution_count": 15,
     "metadata": {},
     "output_type": "execute_result"
    }
   ],
   "source": [
    "df[df.reviewerName=='Amazon Customer'].userid.value_counts()"
   ]
  },
  {
   "cell_type": "markdown",
   "execution_count": null,
   "metadata": {
    "papermill": {
     "duration": 0.048928,
     "end_time": "2020-09-08T18:54:35.438440",
     "exception": false,
     "start_time": "2020-09-08T18:54:35.389512",
     "status": "completed"
    },
    "tags": []
   },
   "source": [
    "В таком случае, имя пользователя нам не нужно. Удалим столбец."
   ]
  },
  {
   "cell_type": "code",
   "execution_count": 16,
   "metadata": {
    "execution": {
     "iopub.execute_input": "2020-09-08T18:54:35.725361Z",
     "iopub.status.busy": "2020-09-08T18:54:35.554592Z",
     "iopub.status.idle": "2020-09-08T18:54:36.184186Z",
     "shell.execute_reply": "2020-09-08T18:54:36.183473Z"
    },
    "papermill": {
     "duration": 0.696381,
     "end_time": "2020-09-08T18:54:36.184351",
     "exception": false,
     "start_time": "2020-09-08T18:54:35.487970",
     "status": "completed"
    },
    "tags": []
   },
   "outputs": [],
   "source": [
    "df = df.drop(['reviewerName'], axis=1)"
   ]
  },
  {
   "cell_type": "markdown",
   "execution_count": null,
   "metadata": {
    "papermill": {
     "duration": 0.048466,
     "end_time": "2020-09-08T18:54:36.281832",
     "exception": false,
     "start_time": "2020-09-08T18:54:36.233366",
     "status": "completed"
    },
    "tags": []
   },
   "source": [
    "## reviewText"
   ]
  },
  {
   "cell_type": "code",
   "execution_count": 17,
   "metadata": {
    "execution": {
     "iopub.execute_input": "2020-09-08T18:54:36.607365Z",
     "iopub.status.busy": "2020-09-08T18:54:36.606487Z",
     "iopub.status.idle": "2020-09-08T18:54:36.613538Z",
     "shell.execute_reply": "2020-09-08T18:54:36.612634Z"
    },
    "papermill": {
     "duration": 0.282634,
     "end_time": "2020-09-08T18:54:36.613703",
     "exception": false,
     "start_time": "2020-09-08T18:54:36.331069",
     "status": "completed"
    },
    "tags": []
   },
   "outputs": [
    {
     "name": "stdout",
     "output_type": "stream",
     "text": [
      "Количество пропусков: 278,\n"
     ]
    }
   ],
   "source": [
    "print('Количество пропусков: {},'.format(df.reviewText.isnull().sum()))"
   ]
  },
  {
   "cell_type": "markdown",
   "execution_count": null,
   "metadata": {
    "papermill": {
     "duration": 0.049032,
     "end_time": "2020-09-08T18:54:36.712362",
     "exception": false,
     "start_time": "2020-09-08T18:54:36.663330",
     "status": "completed"
    },
    "tags": []
   },
   "source": [
    "Посмотрим на пример отзыва"
   ]
  },
  {
   "cell_type": "code",
   "execution_count": 18,
   "metadata": {
    "execution": {
     "iopub.execute_input": "2020-09-08T18:54:36.818964Z",
     "iopub.status.busy": "2020-09-08T18:54:36.817728Z",
     "iopub.status.idle": "2020-09-08T18:54:36.866886Z",
     "shell.execute_reply": "2020-09-08T18:54:36.866207Z"
    },
    "papermill": {
     "duration": 0.105356,
     "end_time": "2020-09-08T18:54:36.867026",
     "exception": false,
     "start_time": "2020-09-08T18:54:36.761670",
     "status": "completed"
    },
    "tags": []
   },
   "outputs": [
    {
     "data": {
      "text/plain": [
       "\"What's not to love, its Swiss Miss Hot Cocoa, not much to say. It is delicious, not the healthiest thing in the world but its chocolate. I have it every morning in my coffee with a bit of milk, it is how I treat myself in the A.M.\\n\\nLove this stuff and always have!!!\""
      ]
     },
     "execution_count": 18,
     "metadata": {},
     "output_type": "execute_result"
    }
   ],
   "source": [
    "df.reviewText[25]"
   ]
  },
  {
   "cell_type": "markdown",
   "execution_count": null,
   "metadata": {
    "papermill": {
     "duration": 0.04832,
     "end_time": "2020-09-08T18:54:36.964725",
     "exception": false,
     "start_time": "2020-09-08T18:54:36.916405",
     "status": "completed"
    },
    "tags": []
   },
   "source": [
    "Выделим из всех отзывов наиболее часто встречающиеся слова."
   ]
  },
  {
   "cell_type": "markdown",
   "execution_count": null,
   "metadata": {
    "papermill": {
     "duration": 0.049213,
     "end_time": "2020-09-08T18:54:37.066201",
     "exception": false,
     "start_time": "2020-09-08T18:54:37.016988",
     "status": "completed"
    },
    "tags": []
   },
   "source": [
    "ВНИМАНИЕ!!! Весь код, который закомменчен ниже в ноутбуке рабочий, в результате генерируется большое количество dummy-переменных. На этапе тестирования код закомментирован для скорости, при желании добавить новые фичи уберите комментарии."
   ]
  },
  {
   "cell_type": "code",
   "execution_count": 19,
   "metadata": {
    "execution": {
     "iopub.execute_input": "2020-09-08T18:54:37.174634Z",
     "iopub.status.busy": "2020-09-08T18:54:37.173375Z",
     "iopub.status.idle": "2020-09-08T18:54:37.177463Z",
     "shell.execute_reply": "2020-09-08T18:54:37.178046Z"
    },
    "papermill": {
     "duration": 0.062881,
     "end_time": "2020-09-08T18:54:37.178243",
     "exception": false,
     "start_time": "2020-09-08T18:54:37.115362",
     "status": "completed"
    },
    "tags": []
   },
   "outputs": [
    {
     "data": {
      "text/plain": [
       "'\\n# Зададим переменной количество наиболее частов встречающихся слов, которое хотим оставить\\nN_WORDS = 200\\n\\n# Приведем значения к str\\ndf[\\'reviewText\\']=df[\\'reviewText\\'].astype(\\'str\\')\\n# Разбиваем reviewText на список слов, предварительно приводим текст к нижнему регистру\\ndf[\\'reviewText\\']=df[\\'reviewText\\'].apply(lambda x: re.sub(\"[^\\\\w]\", \" \",  x.lower()).split())\\n                                        \\n# Создаем пустой список, в который будут добавляться все слова\\nall_words = []\\n\\n# Добавляем слова каждой записи в общий список\\nfor words in df.reviewText:\\n    # разбиваем текст на слова, предварительно приводим к нижнему регистру\\n    all_words.extend(words)\\n\\n# Считаем частоту слов в датасете\\ncnt = Counter()\\nfor word in all_words:\\n    cnt[word] +=1\\n    \\n#Оставим топ N_WORDS слов\\ntop_words = []\\nfor i in range (0, len(cnt.most_common(N_WORDS))):\\n    words = cnt.most_common(N_WORDS)[i][0]\\n    top_words.append(words)\\n    \\n# Удаляем дубликаты из all_words\\nall_words = list(dict.fromkeys(all_words))\\n\\nprint(\\'Всего слов \\', len(all_words))\\nprint(\\'Топ\\', N_WORDS, \\'слов: \\',top_words)'"
      ]
     },
     "execution_count": 19,
     "metadata": {},
     "output_type": "execute_result"
    }
   ],
   "source": [
    "'''\n",
    "# Зададим переменной количество наиболее частов встречающихся слов, которое хотим оставить\n",
    "N_WORDS = 200\n",
    "\n",
    "# Приведем значения к str\n",
    "df['reviewText']=df['reviewText'].astype('str')\n",
    "# Разбиваем reviewText на список слов, предварительно приводим текст к нижнему регистру\n",
    "df['reviewText']=df['reviewText'].apply(lambda x: re.sub(\"[^\\w]\", \" \",  x.lower()).split())\n",
    "                                        \n",
    "# Создаем пустой список, в который будут добавляться все слова\n",
    "all_words = []\n",
    "\n",
    "# Добавляем слова каждой записи в общий список\n",
    "for words in df.reviewText:\n",
    "    # разбиваем текст на слова, предварительно приводим к нижнему регистру\n",
    "    all_words.extend(words)\n",
    "\n",
    "# Считаем частоту слов в датасете\n",
    "cnt = Counter()\n",
    "for word in all_words:\n",
    "    cnt[word] +=1\n",
    "    \n",
    "#Оставим топ N_WORDS слов\n",
    "top_words = []\n",
    "for i in range (0, len(cnt.most_common(N_WORDS))):\n",
    "    words = cnt.most_common(N_WORDS)[i][0]\n",
    "    top_words.append(words)\n",
    "    \n",
    "# Удаляем дубликаты из all_words\n",
    "all_words = list(dict.fromkeys(all_words))\n",
    "\n",
    "print('Всего слов ', len(all_words))\n",
    "print('Топ', N_WORDS, 'слов: ',top_words)'''"
   ]
  },
  {
   "cell_type": "markdown",
   "execution_count": null,
   "metadata": {
    "papermill": {
     "duration": 0.048783,
     "end_time": "2020-09-08T18:54:37.277067",
     "exception": false,
     "start_time": "2020-09-08T18:54:37.228284",
     "status": "completed"
    },
    "tags": []
   },
   "source": [
    "Среди самых частых слов много предлогов и артиклей. Отберем вручную список из 50 значимых по нашему мнению слов."
   ]
  },
  {
   "cell_type": "code",
   "execution_count": 20,
   "metadata": {
    "execution": {
     "iopub.execute_input": "2020-09-08T18:54:37.387489Z",
     "iopub.status.busy": "2020-09-08T18:54:37.385632Z",
     "iopub.status.idle": "2020-09-08T18:54:37.391708Z",
     "shell.execute_reply": "2020-09-08T18:54:37.390884Z"
    },
    "papermill": {
     "duration": 0.065397,
     "end_time": "2020-09-08T18:54:37.391853",
     "exception": false,
     "start_time": "2020-09-08T18:54:37.326456",
     "status": "completed"
    },
    "tags": []
   },
   "outputs": [],
   "source": [
    "top_word_list = [\n",
    "    'good',\n",
    "    'great',\n",
    "    'like',\n",
    "    'so',\n",
    "    'taste',\n",
    "    'very',\n",
    "    'flavor',\n",
    "    'love',\n",
    "    'tea',\n",
    "    'product',\n",
    "    'coffee',\n",
    "    'more',\n",
    "    'really',\n",
    "    'price',\n",
    "    'much',\n",
    "    'buy',\n",
    "    'best',\n",
    "    'make',\n",
    "    'time',\n",
    "    'sugar',\n",
    "    'little',\n",
    "    'delicious',\n",
    "    'only',\n",
    "    'chocolate',\n",
    "    'better',\n",
    "    'again',\n",
    "    'well',\n",
    "    'nice',\n",
    "    'tastes',\n",
    "    'sweet',\n",
    "    'fresh',\n",
    "    'favorite',\n",
    "    'eat',\n",
    "    'cup',\n",
    "    'now',\n",
    "    'quality',\n",
    "    'tasty',\n",
    "    'salt',\n",
    "    'organic',\n",
    "    'brand',\n",
    "    'flavors',\n",
    "    'oil',\n",
    "    'perfect',\n",
    "    'first',\n",
    "    'order',\n",
    "    'many',\n",
    "    'box',\n",
    "    'mix',\n",
    "    'always',\n",
    "    'hot',\n",
    "]"
   ]
  },
  {
   "cell_type": "markdown",
   "execution_count": null,
   "metadata": {
    "papermill": {
     "duration": 0.049419,
     "end_time": "2020-09-08T18:54:37.490675",
     "exception": false,
     "start_time": "2020-09-08T18:54:37.441256",
     "status": "completed"
    },
    "tags": []
   },
   "source": [
    "Далее мы можем оставить только самые популярные слова и создать на их основе dummy-переменные.\n",
    "\n",
    "**Я пока что закомментировал создание dummy-переменных для самых частых слов. Если хотите с ними обучить модель, то код ниже рабочий**"
   ]
  },
  {
   "cell_type": "code",
   "execution_count": 21,
   "metadata": {
    "execution": {
     "iopub.execute_input": "2020-09-08T18:54:37.601077Z",
     "iopub.status.busy": "2020-09-08T18:54:37.599887Z",
     "iopub.status.idle": "2020-09-08T18:54:37.605402Z",
     "shell.execute_reply": "2020-09-08T18:54:37.604630Z"
    },
    "papermill": {
     "duration": 0.062625,
     "end_time": "2020-09-08T18:54:37.605546",
     "exception": false,
     "start_time": "2020-09-08T18:54:37.542921",
     "status": "completed"
    },
    "tags": []
   },
   "outputs": [
    {
     "data": {
      "text/plain": [
       "\"# Напишем функцию, которая будет оставлять в списке только слова из top_word_list, остальные удалит\\ndef leave_top_words(words):\\n    top_words = []\\n    for word in words:\\n        if word in top_word_list:\\n            top_words.append(word)\\n    x = top_words\\n    return x\\n\\n# Применим функцию к датасету, оставим только слова из top_word_list в столбце reviewText\\ndf['reviewText'] = df['reviewText'].apply(lambda x: leave_top_words(x))\\n\\n\\n# Создание dummy-переменных на основе слов из top_word_list\\n\\n# Функция для отображения категорий в записи\\ndef find_item(cell):\\n    if item in cell:\\n        return 1\\n    return 0\\n\\n# Cоздаем столбцы со словами из top_word_list и заполняем 0 или 1\\nfor item in top_word_list:\\n    column_name = 'reviewText_' + item\\n    df[column_name] = df['reviewText'].apply(find_item)\""
      ]
     },
     "execution_count": 21,
     "metadata": {},
     "output_type": "execute_result"
    }
   ],
   "source": [
    "'''# Напишем функцию, которая будет оставлять в списке только слова из top_word_list, остальные удалит\n",
    "def leave_top_words(words):\n",
    "    top_words = []\n",
    "    for word in words:\n",
    "        if word in top_word_list:\n",
    "            top_words.append(word)\n",
    "    x = top_words\n",
    "    return x\n",
    "\n",
    "# Применим функцию к датасету, оставим только слова из top_word_list в столбце reviewText\n",
    "df['reviewText'] = df['reviewText'].apply(lambda x: leave_top_words(x))\n",
    "\n",
    "\n",
    "# Создание dummy-переменных на основе слов из top_word_list\n",
    "\n",
    "# Функция для отображения категорий в записи\n",
    "def find_item(cell):\n",
    "    if item in cell:\n",
    "        return 1\n",
    "    return 0\n",
    "\n",
    "# Cоздаем столбцы со словами из top_word_list и заполняем 0 или 1\n",
    "for item in top_word_list:\n",
    "    column_name = 'reviewText_' + item\n",
    "    df[column_name] = df['reviewText'].apply(find_item)'''"
   ]
  },
  {
   "cell_type": "markdown",
   "execution_count": null,
   "metadata": {
    "papermill": {
     "duration": 0.049721,
     "end_time": "2020-09-08T18:54:37.705608",
     "exception": false,
     "start_time": "2020-09-08T18:54:37.655887",
     "status": "completed"
    },
    "tags": []
   },
   "source": [
    "Поздно заметил, что данного признака нет в тестовой выборке, но было жалко удалять труд. Хорошо, что наработки понадобились дальше.\n",
    "Удалим столбец."
   ]
  },
  {
   "cell_type": "code",
   "execution_count": 22,
   "metadata": {
    "execution": {
     "iopub.execute_input": "2020-09-08T18:54:37.826294Z",
     "iopub.status.busy": "2020-09-08T18:54:37.824833Z",
     "iopub.status.idle": "2020-09-08T18:54:38.347508Z",
     "shell.execute_reply": "2020-09-08T18:54:38.346817Z"
    },
    "papermill": {
     "duration": 0.592453,
     "end_time": "2020-09-08T18:54:38.347677",
     "exception": false,
     "start_time": "2020-09-08T18:54:37.755224",
     "status": "completed"
    },
    "tags": []
   },
   "outputs": [],
   "source": [
    "# Удалим столбец reviewText\n",
    "df = df.drop(['reviewText'], axis=1)"
   ]
  },
  {
   "cell_type": "markdown",
   "execution_count": null,
   "metadata": {
    "papermill": {
     "duration": 0.049135,
     "end_time": "2020-09-08T18:54:38.446380",
     "exception": false,
     "start_time": "2020-09-08T18:54:38.397245",
     "status": "completed"
    },
    "tags": []
   },
   "source": [
    "## summary"
   ]
  },
  {
   "cell_type": "code",
   "execution_count": 23,
   "metadata": {
    "execution": {
     "iopub.execute_input": "2020-09-08T18:54:38.553811Z",
     "iopub.status.busy": "2020-09-08T18:54:38.552876Z",
     "iopub.status.idle": "2020-09-08T18:54:38.557203Z",
     "shell.execute_reply": "2020-09-08T18:54:38.557803Z"
    },
    "papermill": {
     "duration": 0.06201,
     "end_time": "2020-09-08T18:54:38.557997",
     "exception": false,
     "start_time": "2020-09-08T18:54:38.495987",
     "status": "completed"
    },
    "tags": []
   },
   "outputs": [
    {
     "data": {
      "text/plain": [
       "'Classic hot chocolate'"
      ]
     },
     "execution_count": 23,
     "metadata": {},
     "output_type": "execute_result"
    }
   ],
   "source": [
    "df.summary[25]"
   ]
  },
  {
   "cell_type": "markdown",
   "execution_count": null,
   "metadata": {
    "papermill": {
     "duration": 0.057005,
     "end_time": "2020-09-08T18:54:38.665923",
     "exception": false,
     "start_time": "2020-09-08T18:54:38.608918",
     "status": "completed"
    },
    "tags": []
   },
   "source": [
    "Данного признака нет в тестовом датасете. Удалим столбец."
   ]
  },
  {
   "cell_type": "code",
   "execution_count": 24,
   "metadata": {
    "execution": {
     "iopub.execute_input": "2020-09-08T18:54:39.255606Z",
     "iopub.status.busy": "2020-09-08T18:54:38.786123Z",
     "iopub.status.idle": "2020-09-08T18:54:39.259953Z",
     "shell.execute_reply": "2020-09-08T18:54:39.259115Z"
    },
    "papermill": {
     "duration": 0.54298,
     "end_time": "2020-09-08T18:54:39.260097",
     "exception": false,
     "start_time": "2020-09-08T18:54:38.717117",
     "status": "completed"
    },
    "tags": []
   },
   "outputs": [],
   "source": [
    "df = df.drop(['summary'], axis=1)"
   ]
  },
  {
   "cell_type": "markdown",
   "execution_count": null,
   "metadata": {
    "papermill": {
     "duration": 0.049742,
     "end_time": "2020-09-08T18:54:39.359901",
     "exception": false,
     "start_time": "2020-09-08T18:54:39.310159",
     "status": "completed"
    },
    "tags": []
   },
   "source": [
    "## asin"
   ]
  },
  {
   "cell_type": "markdown",
   "execution_count": null,
   "metadata": {
    "papermill": {
     "duration": 0.050379,
     "end_time": "2020-09-08T18:54:39.461442",
     "exception": false,
     "start_time": "2020-09-08T18:54:39.411063",
     "status": "completed"
    },
    "tags": []
   },
   "source": [
    "идентификатор для модели нам не нужен, но у нас есть признаки also_buy и similar_item, для которых он может понадобиться. Пока оставим."
   ]
  },
  {
   "cell_type": "code",
   "execution_count": 25,
   "metadata": {
    "execution": {
     "iopub.execute_input": "2020-09-08T18:54:39.698991Z",
     "iopub.status.busy": "2020-09-08T18:54:39.698119Z",
     "iopub.status.idle": "2020-09-08T18:54:40.554550Z",
     "shell.execute_reply": "2020-09-08T18:54:40.553840Z"
    },
    "papermill": {
     "duration": 1.042205,
     "end_time": "2020-09-08T18:54:40.554697",
     "exception": false,
     "start_time": "2020-09-08T18:54:39.512492",
     "status": "completed"
    },
    "tags": []
   },
   "outputs": [
    {
     "name": "stdout",
     "output_type": "stream",
     "text": [
      "Количество пропусков: 0,\n",
      "count         847593\n",
      "unique         41302\n",
      "top       B00BUKL666\n",
      "freq            5430\n",
      "Name: asin, dtype: object,\n",
      "Распределение:\n",
      "B00BUKL666    5430\n",
      "B00D3M2QP4    4733\n",
      "B008QMX2SG    4611\n",
      "B0001LO3FG    4252\n",
      "B00R7PWK7W    2449\n",
      "              ... \n",
      "B001684NXK       1\n",
      "B006UCU89U       1\n",
      "B000O6IBQ0       1\n",
      "B001GE4CKI       1\n",
      "B000SUKHZ0       1\n",
      "Name: asin, Length: 41302, dtype: int64,\n"
     ]
    }
   ],
   "source": [
    "col_info(df.asin)"
   ]
  },
  {
   "cell_type": "markdown",
   "execution_count": null,
   "metadata": {
    "papermill": {
     "duration": 0.049582,
     "end_time": "2020-09-08T18:54:40.655652",
     "exception": false,
     "start_time": "2020-09-08T18:54:40.606070",
     "status": "completed"
    },
    "tags": []
   },
   "source": [
    "Видим, что всего у нас 41302 различных продукта."
   ]
  },
  {
   "cell_type": "markdown",
   "execution_count": null,
   "metadata": {
    "papermill": {
     "duration": 0.050484,
     "end_time": "2020-09-08T18:54:40.756883",
     "exception": false,
     "start_time": "2020-09-08T18:54:40.706399",
     "status": "completed"
    },
    "tags": []
   },
   "source": [
    "В дальнейшем мы этот признак не используем т.к. пока не придумали как использовать признаки also_view и also_buy, для которых asin скорее всего понадобится.\n",
    "Пока что удалим."
   ]
  },
  {
   "cell_type": "code",
   "execution_count": 26,
   "metadata": {
    "execution": {
     "iopub.execute_input": "2020-09-08T18:54:40.878651Z",
     "iopub.status.busy": "2020-09-08T18:54:40.877231Z",
     "iopub.status.idle": "2020-09-08T18:54:41.318402Z",
     "shell.execute_reply": "2020-09-08T18:54:41.317582Z"
    },
    "papermill": {
     "duration": 0.511245,
     "end_time": "2020-09-08T18:54:41.318552",
     "exception": false,
     "start_time": "2020-09-08T18:54:40.807307",
     "status": "completed"
    },
    "tags": []
   },
   "outputs": [],
   "source": [
    "df = df.drop(['asin'], axis=1)"
   ]
  },
  {
   "cell_type": "markdown",
   "execution_count": null,
   "metadata": {
    "papermill": {
     "duration": 0.114234,
     "end_time": "2020-09-08T18:54:41.483275",
     "exception": false,
     "start_time": "2020-09-08T18:54:41.369041",
     "status": "completed"
    },
    "tags": []
   },
   "source": [
    "## unixReviewTime"
   ]
  },
  {
   "cell_type": "code",
   "execution_count": 27,
   "metadata": {
    "execution": {
     "iopub.execute_input": "2020-09-08T18:54:41.594836Z",
     "iopub.status.busy": "2020-09-08T18:54:41.593450Z",
     "iopub.status.idle": "2020-09-08T18:54:41.665098Z",
     "shell.execute_reply": "2020-09-08T18:54:41.663996Z"
    },
    "papermill": {
     "duration": 0.130663,
     "end_time": "2020-09-08T18:54:41.665356",
     "exception": false,
     "start_time": "2020-09-08T18:54:41.534693",
     "status": "completed"
    },
    "tags": []
   },
   "outputs": [
    {
     "name": "stdout",
     "output_type": "stream",
     "text": [
      "Количество пропусков: 0,\n",
      "count    8.475930e+05\n",
      "mean     1.441914e+09\n",
      "std      5.992384e+07\n",
      "min      9.657792e+08\n",
      "25%      1.412122e+09\n",
      "50%      1.449360e+09\n",
      "75%      1.485130e+09\n",
      "max      1.538438e+09\n",
      "Name: unixReviewTime, dtype: float64,\n",
      "Распределение:\n",
      "1456790400    941\n",
      "1468454400    873\n",
      "1433289600    783\n",
      "1453248000    783\n",
      "1455926400    767\n",
      "             ... \n",
      "1113782400      1\n",
      "1132444800      1\n",
      "1167609600      1\n",
      "1105142400      1\n",
      "1155081600      1\n",
      "Name: unixReviewTime, Length: 4580, dtype: int64,\n"
     ]
    }
   ],
   "source": [
    "col_info(df.unixReviewTime)"
   ]
  },
  {
   "cell_type": "markdown",
   "execution_count": null,
   "metadata": {
    "papermill": {
     "duration": 0.052997,
     "end_time": "2020-09-08T18:54:41.770067",
     "exception": false,
     "start_time": "2020-09-08T18:54:41.717070",
     "status": "completed"
    },
    "tags": []
   },
   "source": [
    "Пропусков нет. Посмотрим, как изменялись оценки со временем."
   ]
  },
  {
   "cell_type": "code",
   "execution_count": 28,
   "metadata": {
    "execution": {
     "iopub.execute_input": "2020-09-08T18:54:41.886094Z",
     "iopub.status.busy": "2020-09-08T18:54:41.884745Z",
     "iopub.status.idle": "2020-09-08T18:54:45.338704Z",
     "shell.execute_reply": "2020-09-08T18:54:45.337764Z"
    },
    "papermill": {
     "duration": 3.515753,
     "end_time": "2020-09-08T18:54:45.338898",
     "exception": false,
     "start_time": "2020-09-08T18:54:41.823145",
     "status": "completed"
    },
    "tags": []
   },
   "outputs": [
    {
     "data": {
      "text/plain": [
       "<matplotlib.axes._subplots.AxesSubplot at 0x7f71eda3b4d0>"
      ]
     },
     "execution_count": 28,
     "metadata": {},
     "output_type": "execute_result"
    },
    {
     "data": {
      "image/png": "[encoded data removed]",
      "text/plain": [
       "<Figure size 432x288 with 1 Axes>"
      ]
     },
     "metadata": {
      "needs_background": "light"
     },
     "output_type": "display_data"
    }
   ],
   "source": [
    "df.unixReviewTime.hist(bins=100)\n",
    "df[df.overall == 5].unixReviewTime.hist(bins=100)\n",
    "df[df.overall == 4].unixReviewTime.hist(bins=100)\n",
    "df[df.overall == 3].unixReviewTime.hist(bins=100)\n",
    "df[df.overall == 1].unixReviewTime.hist(bins=100)\n",
    "df[df.overall == 2].unixReviewTime.hist(bins=100)"
   ]
  },
  {
   "cell_type": "markdown",
   "execution_count": null,
   "metadata": {
    "papermill": {
     "duration": 0.051809,
     "end_time": "2020-09-08T18:54:45.442427",
     "exception": false,
     "start_time": "2020-09-08T18:54:45.390618",
     "status": "completed"
    },
    "tags": []
   },
   "source": [
    "Посмотрим, на распределение отзывов по датам, приведя даты к удобному виду."
   ]
  },
  {
   "cell_type": "code",
   "execution_count": 29,
   "metadata": {
    "execution": {
     "iopub.execute_input": "2020-09-08T18:54:45.562488Z",
     "iopub.status.busy": "2020-09-08T18:54:45.561572Z",
     "iopub.status.idle": "2020-09-08T18:54:45.628848Z",
     "shell.execute_reply": "2020-09-08T18:54:45.631683Z"
    },
    "papermill": {
     "duration": 0.136767,
     "end_time": "2020-09-08T18:54:45.631964",
     "exception": false,
     "start_time": "2020-09-08T18:54:45.495197",
     "status": "completed"
    },
    "tags": []
   },
   "outputs": [
    {
     "name": "stdout",
     "output_type": "stream",
     "text": [
      "Самый первый отзыв: 2000-08-09 00:00:00\n",
      "25 квантиль: 2014-10-01 00:00:00\n",
      "50 квантиль: 2015-12-06 00:00:00\n",
      "75 квантиль: 2017-01-23 00:00:00\n",
      "Последний отзыв: 2018-10-02 00:00:00\n"
     ]
    }
   ],
   "source": [
    "from datetime import datetime\n",
    "tsmin = df.unixReviewTime.min()\n",
    "ts25 = int(df.unixReviewTime.quantile(0.25))\n",
    "ts50 = int(df.unixReviewTime.quantile(0.50))\n",
    "ts75 = int(df.unixReviewTime.quantile(0.75))\n",
    "tsmax = df.unixReviewTime.max()\n",
    "print('Самый первый отзыв:', datetime.utcfromtimestamp(tsmin).strftime('%Y-%m-%d %H:%M:%S'))\n",
    "print('25 квантиль:', datetime.utcfromtimestamp(ts25).strftime('%Y-%m-%d %H:%M:%S'))\n",
    "print('50 квантиль:', datetime.utcfromtimestamp(ts50).strftime('%Y-%m-%d %H:%M:%S'))\n",
    "print('75 квантиль:', datetime.utcfromtimestamp(ts75).strftime('%Y-%m-%d %H:%M:%S'))\n",
    "print('Последний отзыв:', datetime.utcfromtimestamp(tsmax).strftime('%Y-%m-%d %H:%M:%S'))"
   ]
  },
  {
   "cell_type": "markdown",
   "execution_count": null,
   "metadata": {
    "papermill": {
     "duration": 0.051706,
     "end_time": "2020-09-08T18:54:45.741001",
     "exception": false,
     "start_time": "2020-09-08T18:54:45.689295",
     "status": "completed"
    },
    "tags": []
   },
   "source": [
    "Создадим категории в зависимости от даты написания отзыва"
   ]
  },
  {
   "cell_type": "code",
   "execution_count": 30,
   "metadata": {
    "execution": {
     "iopub.execute_input": "2020-09-08T18:54:45.854439Z",
     "iopub.status.busy": "2020-09-08T18:54:45.853469Z",
     "iopub.status.idle": "2020-09-08T18:54:46.611632Z",
     "shell.execute_reply": "2020-09-08T18:54:46.610877Z"
    },
    "papermill": {
     "duration": 0.819219,
     "end_time": "2020-09-08T18:54:46.611784",
     "exception": false,
     "start_time": "2020-09-08T18:54:45.792565",
     "status": "completed"
    },
    "tags": []
   },
   "outputs": [],
   "source": [
    "# Создадим 3 категории в зависимости от даты написания\n",
    "def cat_date(x):\n",
    "    if x <= ts25: x = 'old'\n",
    "    elif ts25 < x <= ts50: x = 'middle_old'\n",
    "    elif ts50 < x <= ts75: x = 'middle_new'\n",
    "    elif ts75 < x: x = 'new'\n",
    "    return x      \n",
    "\n",
    "# Заменим значения в столбце на категории\n",
    "df['unixReviewTime'] = df['unixReviewTime'].apply(lambda x: cat_date(x))"
   ]
  },
  {
   "cell_type": "markdown",
   "execution_count": null,
   "metadata": {
    "papermill": {
     "duration": 0.051217,
     "end_time": "2020-09-08T18:54:46.715770",
     "exception": false,
     "start_time": "2020-09-08T18:54:46.664553",
     "status": "completed"
    },
    "tags": []
   },
   "source": [
    "Создание dummy-переменных сделаем позже."
   ]
  },
  {
   "cell_type": "markdown",
   "execution_count": null,
   "metadata": {
    "papermill": {
     "duration": 0.050717,
     "end_time": "2020-09-08T18:54:46.818024",
     "exception": false,
     "start_time": "2020-09-08T18:54:46.767307",
     "status": "completed"
    },
    "tags": []
   },
   "source": [
    "## vote"
   ]
  },
  {
   "cell_type": "code",
   "execution_count": 31,
   "metadata": {
    "execution": {
     "iopub.execute_input": "2020-09-08T18:54:46.950415Z",
     "iopub.status.busy": "2020-09-08T18:54:46.949035Z",
     "iopub.status.idle": "2020-09-08T18:54:47.916276Z",
     "shell.execute_reply": "2020-09-08T18:54:47.915080Z"
    },
    "papermill": {
     "duration": 1.046027,
     "end_time": "2020-09-08T18:54:47.916488",
     "exception": false,
     "start_time": "2020-09-08T18:54:46.870461",
     "status": "completed"
    },
    "tags": []
   },
   "outputs": [
    {
     "name": "stdout",
     "output_type": "stream",
     "text": [
      "Количество пропусков: 728732,\n",
      "count     118861.0\n",
      "unique       477.0\n",
      "top            2.0\n",
      "freq       30774.0\n",
      "Name: vote, dtype: float64,\n",
      "Распределение:\n",
      "2.0      30774\n",
      "3.0      15336\n",
      "2        13786\n",
      "4.0       8893\n",
      "3         6969\n",
      "         ...  \n",
      "387.0        1\n",
      "393.0        1\n",
      "402.0        1\n",
      "404.0        1\n",
      "203.0        1\n",
      "Name: vote, Length: 477, dtype: int64,\n"
     ]
    }
   ],
   "source": [
    "col_info(df.vote)"
   ]
  },
  {
   "cell_type": "code",
   "execution_count": 32,
   "metadata": {
    "execution": {
     "iopub.execute_input": "2020-09-08T18:54:48.116816Z",
     "iopub.status.busy": "2020-09-08T18:54:48.115719Z",
     "iopub.status.idle": "2020-09-08T18:54:48.288274Z",
     "shell.execute_reply": "2020-09-08T18:54:48.287620Z"
    },
    "papermill": {
     "duration": 0.319337,
     "end_time": "2020-09-08T18:54:48.288410",
     "exception": false,
     "start_time": "2020-09-08T18:54:47.969073",
     "status": "completed"
    },
    "tags": []
   },
   "outputs": [
    {
     "data": {
      "text/plain": [
       "array([nan, 4.0, 5.0, 8.0, '7', 7.0, 3.0, 2.0, '28', '2', '4', 6.0, '3',\n",
       "       '30', '14', '8', '6', '17', '5', '142', '21', '16', 9.0, 15.0,\n",
       "       12.0, 18.0, 404.0, 22.0, 10.0, '22', 13.0, 136.0, '18', '12', '34',\n",
       "       '69', '10', '48', '20', 11.0, 14.0, 133.0, 16.0, 36.0, 31.0, 117.0,\n",
       "       17.0, 29.0, 37.0, '39', '9', '11', '27', 172.0, 251.0, '41', 52.0,\n",
       "       38.0, 27.0, '15', '61', '38', 25.0, 127.0, '36', 28.0, 61.0, 24.0,\n",
       "       49.0, 51.0, 19.0, 20.0, '13', 74.0, 121.0, 45.0, 33.0, 266.0, '44',\n",
       "       '232', '25', 47.0, 138.0, 176.0, 75.0, 30.0, '42', 128.0, '24',\n",
       "       '184', '624', 40.0, 272.0, 881.0, 53.0, 21.0, 43.0, 184.0, '35',\n",
       "       35.0, 23.0, 39.0, 227.0, 42.0, 507.0, 59.0, 114.0, 87.0, 55.0,\n",
       "       26.0, '19', 41.0, '82', 143.0, 73.0, 187.0, 66.0, '45', 56.0, '76',\n",
       "       112.0, 57.0, '115', '75', '33', '50', 50.0, 68.0, 54.0, 63.0, '47',\n",
       "       '43', 108.0, 185.0, '302', 208.0, '59', 269.0, 78.0, 103.0, '26',\n",
       "       148.0, 160.0, '80', 32.0, 71.0, 130.0, 85.0, '52', '123', 62.0,\n",
       "       95.0, 44.0, 115.0, 603.0, 82.0, 34.0, '55', 88.0, '176', 232.0,\n",
       "       '86', '132', '37', 67.0, '119', '70', '85', 48.0, '54', 296.0,\n",
       "       '560', '29', 91.0, '46', 203.0, 360.0, 857.0, 107.0, '679', 679.0,\n",
       "       146.0, '32', '31', '89', '60', 94.0, 46.0, '77', '23', 129.0,\n",
       "       '122', '40', '223', 100.0, '121', 65.0, '53', '101', 64.0, 255.0,\n",
       "       116.0, 171.0, 276.0, 186.0, '186', 190.0, 531.0, '68', 166.0,\n",
       "       '1,157', 123.0, 435.0, '516', '416', '173', '92', 92.0, 195.0,\n",
       "       '342', 576.0, 202.0, '264', 752.0, 264.0, 181.0, 199.0, 362.0,\n",
       "       198.0, 60.0, '112', 680.0, '1,626', 268.0, 150.0, '218', 278.0,\n",
       "       '91', 111.0, 89.0, '428', 83.0, 295.0, 224.0, '88', '155', '62',\n",
       "       '144', '157', '58', 216.0, 358.0, 102.0, '66', 934.0, 79.0, '146',\n",
       "       145.0, 164.0, '202', 118.0, 96.0, 93.0, 72.0, '148', '56', '49',\n",
       "       '64', 170.0, '72', '300', '296', '716', 259.0, 300.0, 119.0, 58.0,\n",
       "       '65', '205', 205.0, '159', 126.0, '107', 101.0, '81', 179.0, '139',\n",
       "       139.0, 77.0, '251', '143', 110.0, 134.0, 122.0, '57', 173.0, '110',\n",
       "       '84', 81.0, 86.0, '135', 273.0, 580.0, 156.0, '460', 165.0, 226.0,\n",
       "       265.0, '109', '228', '163', '181', '250', 158.0, '230', '180',\n",
       "       214.0, 70.0, 247.0, '71', '97', 69.0, '51', 125.0, '111', '102',\n",
       "       '74', 76.0, 113.0, '136', '120', '1,491', '79', '87', 167.0, '195',\n",
       "       '104', 594.0, 99.0, '117', '278', '363', '154', '131', 414.0, '96',\n",
       "       242.0, 80.0, '98', 402.0, 206.0, 387.0, '93', 90.0, '257', 84.0,\n",
       "       194.0, 377.0, 327.0, '189', 98.0, '172', 104.0, 193.0, 142.0,\n",
       "       124.0, 241.0, 191.0, 222.0, '1,383', '170', '188', 246.0, '78',\n",
       "       254.0, 238.0, '116', '83', 346.0, 144.0, '187', '113', 109.0,\n",
       "       175.0, '265', '118', '1,060', 316.0, 225.0, '240', '67', 240.0,\n",
       "       275.0, '343', '126', '127', '392', 149.0, '63', '128', '94', '106',\n",
       "       '105', 359.0, '95', 168.0, 263.0, '334', '309', 105.0, 577.0,\n",
       "       824.0, '152', 644.0, 159.0, 375.0, 192.0, 393.0, 132.0, 106.0,\n",
       "       '129', 369.0, 197.0, 147.0, 351.0, 290.0, 425.0, 180.0, '926',\n",
       "       '289', 289.0, 239.0, 188.0, '710', 317.0, '125', '385', 154.0,\n",
       "       '622', 141.0, '349', 817.0, '588', 220.0, 97.0, 157.0, '164',\n",
       "       '133', 310.0, 304.0, 140.0, '171', 229.0, '99', '169', 659.0,\n",
       "       363.0, '73', '221', '141', 217.0, 209.0, 211.0, '375', 291.0,\n",
       "       '150', 131.0, 210.0, 373.0, '174', '284', '151', '331', '712',\n",
       "       '145', 120.0, '193', '153'], dtype=object)"
      ]
     },
     "execution_count": 32,
     "metadata": {},
     "output_type": "execute_result"
    }
   ],
   "source": [
    "df.vote.unique()"
   ]
  },
  {
   "cell_type": "markdown",
   "execution_count": null,
   "metadata": {
    "papermill": {
     "duration": 0.054535,
     "end_time": "2020-09-08T18:54:48.396693",
     "exception": false,
     "start_time": "2020-09-08T18:54:48.342158",
     "status": "completed"
    },
    "tags": []
   },
   "source": [
    "Скорее всего, данные признак показывает количество голосов, отданных за отзыв.\n",
    "Видим, что в значениях числа через запятую, с нулём и без нуля. Также видим большое количество пропусков. \n",
    "Скорее всего, за эти отзывы никто не проголосовал, что вполне естественно, и мы можем заменить пропуски на 0."
   ]
  },
  {
   "cell_type": "code",
   "execution_count": 33,
   "metadata": {
    "execution": {
     "iopub.execute_input": "2020-09-08T18:54:48.664016Z",
     "iopub.status.busy": "2020-09-08T18:54:48.663130Z",
     "iopub.status.idle": "2020-09-08T18:54:48.787693Z",
     "shell.execute_reply": "2020-09-08T18:54:48.786821Z"
    },
    "papermill": {
     "duration": 0.338887,
     "end_time": "2020-09-08T18:54:48.787833",
     "exception": false,
     "start_time": "2020-09-08T18:54:48.448946",
     "status": "completed"
    },
    "tags": []
   },
   "outputs": [],
   "source": [
    "# Заменим пропуски на 0\n",
    "df.vote = df.vote.fillna(0)"
   ]
  },
  {
   "cell_type": "code",
   "execution_count": 34,
   "metadata": {
    "execution": {
     "iopub.execute_input": "2020-09-08T18:54:48.904292Z",
     "iopub.status.busy": "2020-09-08T18:54:48.902925Z",
     "iopub.status.idle": "2020-09-08T18:54:50.755359Z",
     "shell.execute_reply": "2020-09-08T18:54:50.756266Z"
    },
    "papermill": {
     "duration": 1.916829,
     "end_time": "2020-09-08T18:54:50.756552",
     "exception": false,
     "start_time": "2020-09-08T18:54:48.839723",
     "status": "completed"
    },
    "tags": []
   },
   "outputs": [
    {
     "data": {
      "text/plain": [
       "array([   0,    4,    5,    8,    7,    3,    2,   28,    6,   30,   14,\n",
       "         17,  142,   21,   16,    9,   15,   12,   18,  404,   22,   10,\n",
       "         13,  136,   34,   69,   48,   20,   11,  133,   36,   31,  117,\n",
       "         29,   37,   39,   27,  172,  251,   41,   52,   38,   61,   25,\n",
       "        127,   24,   49,   51,   19,   74,  121,   45,   33,  266,   44,\n",
       "        232,   47,  138,  176,   75,   42,  128,  184,  624,   40,  272,\n",
       "        881,   53,   43,   35,   23,  227,  507,   59,  114,   87,   55,\n",
       "         26,   82,  143,   73,  187,   66,   56,   76,  112,   57,  115,\n",
       "         50,   68,   54,   63,  108,  185,  302,  208,  269,   78,  103,\n",
       "        148,  160,   80,   32,   71,  130,   85,  123,   62,   95,  603,\n",
       "         88,   86,  132,   67,  119,   70,  296,  560,   91,   46,  203,\n",
       "        360,  857,  107,  679,  146,   89,   60,   94,   77,  129,  122,\n",
       "        223,  100,   65,  101,   64,  255,  116,  171,  276,  186,  190,\n",
       "        531,  166, 1157,  435,  516,  416,  173,   92,  195,  342,  576,\n",
       "        202,  264,  752,  181,  199,  362,  198,  680, 1626,  268,  150,\n",
       "        218,  278,  111,  428,   83,  295,  224,  155,  144,  157,   58,\n",
       "        216,  358,  102,  934,   79,  145,  164,  118,   96,   93,   72,\n",
       "        170,  300,  716,  259,  205,  159,  126,   81,  179,  139,  110,\n",
       "        134,   84,  135,  273,  580,  156,  460,  165,  226,  265,  109,\n",
       "        228,  163,  250,  158,  230,  180,  214,  247,   97,  125,  113,\n",
       "        120, 1491,  167,  104,  594,   99,  363,  154,  131,  414,  242,\n",
       "         98,  402,  206,  387,   90,  257,  194,  377,  327,  189,  193,\n",
       "        124,  241,  191,  222, 1383,  188,  246,  254,  238,  346,  175,\n",
       "       1060,  316,  225,  240,  275,  343,  392,  149,  106,  105,  359,\n",
       "        168,  263,  334,  309,  577,  824,  152,  644,  375,  192,  393,\n",
       "        369,  197,  147,  351,  290,  425,  926,  289,  239,  710,  317,\n",
       "        385,  622,  141,  349,  817,  588,  220,  310,  304,  140,  229,\n",
       "        169,  659,  221,  217,  209,  211,  291,  210,  373,  174,  284,\n",
       "        151,  331,  712,  153], dtype=int32)"
      ]
     },
     "execution_count": 34,
     "metadata": {},
     "output_type": "execute_result"
    }
   ],
   "source": [
    "# Удалим запятые\n",
    "df['vote'] = df['vote'].astype('str')\n",
    "df['vote'] = df['vote'].apply(lambda x: x.replace(',', ''))\n",
    "# Заменим пропуски на 0\n",
    "df['vote'] = df['vote'].apply(lambda x: x.replace('nan', '0'))\n",
    "df.vote = df.vote.fillna(0)\n",
    "# Приведем к int32\n",
    "df['vote'] = df['vote'].astype('float')\n",
    "df['vote'] = df['vote'].astype('int32')\n",
    "# Посмотрим на результат\n",
    "df.vote.unique()"
   ]
  },
  {
   "cell_type": "markdown",
   "execution_count": null,
   "metadata": {
    "papermill": {
     "duration": 0.058545,
     "end_time": "2020-09-08T18:54:50.875350",
     "exception": false,
     "start_time": "2020-09-08T18:54:50.816805",
     "status": "completed"
    },
    "tags": []
   },
   "source": [
    "Сделаем признак категориальным. Выделим 3 категории по количеству голосов."
   ]
  },
  {
   "cell_type": "code",
   "execution_count": 35,
   "metadata": {
    "execution": {
     "iopub.execute_input": "2020-09-08T18:54:51.000328Z",
     "iopub.status.busy": "2020-09-08T18:54:50.999014Z",
     "iopub.status.idle": "2020-09-08T18:54:51.476904Z",
     "shell.execute_reply": "2020-09-08T18:54:51.475980Z"
    },
    "papermill": {
     "duration": 0.545799,
     "end_time": "2020-09-08T18:54:51.477052",
     "exception": false,
     "start_time": "2020-09-08T18:54:50.931253",
     "status": "completed"
    },
    "tags": []
   },
   "outputs": [],
   "source": [
    "# Создадим 3 категории по количеству голосов\n",
    "def cat_vote(x):\n",
    "    if x < 10: x = 'low'\n",
    "    elif 10 <= x <= 100: x = 'middle'\n",
    "    elif 100 < x: x = 'high'\n",
    "    return x      \n",
    "\n",
    "# Заменим значения в столбце на категории\n",
    "df['vote'] = df['vote'].apply(lambda x: cat_vote(x))"
   ]
  },
  {
   "cell_type": "markdown",
   "execution_count": null,
   "metadata": {
    "papermill": {
     "duration": 0.052536,
     "end_time": "2020-09-08T18:54:51.582776",
     "exception": false,
     "start_time": "2020-09-08T18:54:51.530240",
     "status": "completed"
    },
    "tags": []
   },
   "source": [
    "dummy-переменные создадим после EDA"
   ]
  },
  {
   "cell_type": "markdown",
   "execution_count": null,
   "metadata": {
    "papermill": {
     "duration": 0.053788,
     "end_time": "2020-09-08T18:54:51.689817",
     "exception": false,
     "start_time": "2020-09-08T18:54:51.636029",
     "status": "completed"
    },
    "tags": []
   },
   "source": [
    "# style"
   ]
  },
  {
   "cell_type": "code",
   "execution_count": 36,
   "metadata": {
    "execution": {
     "iopub.execute_input": "2020-09-08T18:54:51.896056Z",
     "iopub.status.busy": "2020-09-08T18:54:51.895108Z",
     "iopub.status.idle": "2020-09-08T18:54:52.546550Z",
     "shell.execute_reply": "2020-09-08T18:54:52.545580Z"
    },
    "papermill": {
     "duration": 0.803748,
     "end_time": "2020-09-08T18:54:52.546714",
     "exception": false,
     "start_time": "2020-09-08T18:54:51.742966",
     "status": "completed"
    },
    "tags": []
   },
   "outputs": [
    {
     "name": "stdout",
     "output_type": "stream",
     "text": [
      "Количество пропусков: 407242,\n",
      "count                      440351\n",
      "unique                      25892\n",
      "top       {'Size:': ' Pack of 1'}\n",
      "freq                         4856\n",
      "Name: style, dtype: object,\n",
      "Распределение:\n",
      "{'Size:': ' Pack of 1'}                                               4856\n",
      "{'Package Quantity:': ' 1'}                                           4526\n",
      "{'Package Type:': ' Standard Packaging'}                              3898\n",
      "{'Size:': ' 1 Pack'}                                                  3848\n",
      "{'Size:': ' 24 Count'}                                                3640\n",
      "                                                                      ... \n",
      "{'Size:': ' 12 ct', 'Flavor:': ' Smile Jamaica'}                         1\n",
      "{'Size:': ' 4 Ounce', 'Flavor:': ' Lady Londonderry Tea Pouches'}        1\n",
      "{'Size:': ' 6 Count', 'Flavor:': ' Original Soft Caramel'}               1\n",
      "{'Flavor:': ' Ice Coffee'}                                               1\n",
      "{'Size:': ' 10.6 OZ - Pack of 3', 'Flavor:': ' Milky Cream Fudge'}       1\n",
      "Name: style, Length: 25892, dtype: int64,\n"
     ]
    }
   ],
   "source": [
    "col_info(df['style'])"
   ]
  },
  {
   "cell_type": "markdown",
   "execution_count": null,
   "metadata": {
    "papermill": {
     "duration": 0.057947,
     "end_time": "2020-09-08T18:54:52.665381",
     "exception": false,
     "start_time": "2020-09-08T18:54:52.607434",
     "status": "completed"
    },
    "tags": []
   },
   "source": [
    "Видим словарь из размера упаковки и вкуса. Скорее всего, отсюда можно что-то полезное выделить, но но пропусков больше половины. Займемся если останется время."
   ]
  },
  {
   "cell_type": "code",
   "execution_count": 37,
   "metadata": {
    "execution": {
     "iopub.execute_input": "2020-09-08T18:54:53.494436Z",
     "iopub.status.busy": "2020-09-08T18:54:53.107298Z",
     "iopub.status.idle": "2020-09-08T18:54:54.184733Z",
     "shell.execute_reply": "2020-09-08T18:54:54.183835Z"
    },
    "papermill": {
     "duration": 1.463077,
     "end_time": "2020-09-08T18:54:54.184880",
     "exception": false,
     "start_time": "2020-09-08T18:54:52.721803",
     "status": "completed"
    },
    "tags": []
   },
   "outputs": [],
   "source": [
    "df = df.drop(['style'], axis=1)"
   ]
  },
  {
   "cell_type": "markdown",
   "execution_count": null,
   "metadata": {
    "papermill": {
     "duration": 0.051968,
     "end_time": "2020-09-08T18:54:54.289604",
     "exception": false,
     "start_time": "2020-09-08T18:54:54.237636",
     "status": "completed"
    },
    "tags": []
   },
   "source": [
    "## image_x"
   ]
  },
  {
   "cell_type": "markdown",
   "execution_count": null,
   "metadata": {
    "papermill": {
     "duration": 0.053751,
     "end_time": "2020-09-08T18:54:54.396285",
     "exception": false,
     "start_time": "2020-09-08T18:54:54.342534",
     "status": "completed"
    },
    "tags": []
   },
   "source": [
    "Ссылки на картинки. Удалим столбец."
   ]
  },
  {
   "cell_type": "code",
   "execution_count": 38,
   "metadata": {
    "execution": {
     "iopub.execute_input": "2020-09-08T18:54:54.524574Z",
     "iopub.status.busy": "2020-09-08T18:54:54.509498Z",
     "iopub.status.idle": "2020-09-08T18:54:54.919046Z",
     "shell.execute_reply": "2020-09-08T18:54:54.918346Z"
    },
    "papermill": {
     "duration": 0.469481,
     "end_time": "2020-09-08T18:54:54.919243",
     "exception": false,
     "start_time": "2020-09-08T18:54:54.449762",
     "status": "completed"
    },
    "tags": []
   },
   "outputs": [],
   "source": [
    "df = df.drop(['image_x'], axis=1)"
   ]
  },
  {
   "cell_type": "markdown",
   "execution_count": null,
   "metadata": {
    "papermill": {
     "duration": 0.057508,
     "end_time": "2020-09-08T18:54:55.030391",
     "exception": false,
     "start_time": "2020-09-08T18:54:54.972883",
     "status": "completed"
    },
    "tags": []
   },
   "source": [
    "## userid"
   ]
  },
  {
   "cell_type": "code",
   "execution_count": 39,
   "metadata": {
    "execution": {
     "iopub.execute_input": "2020-09-08T18:54:55.148611Z",
     "iopub.status.busy": "2020-09-08T18:54:55.147228Z",
     "iopub.status.idle": "2020-09-08T18:54:55.231336Z",
     "shell.execute_reply": "2020-09-08T18:54:55.229340Z"
    },
    "papermill": {
     "duration": 0.145349,
     "end_time": "2020-09-08T18:54:55.231580",
     "exception": false,
     "start_time": "2020-09-08T18:54:55.086231",
     "status": "completed"
    },
    "tags": []
   },
   "outputs": [
    {
     "name": "stdout",
     "output_type": "stream",
     "text": [
      "Количество пропусков: 0,\n",
      "count    847593.000000\n",
      "mean      53756.091163\n",
      "std       37211.809152\n",
      "min           0.000000\n",
      "25%       20347.000000\n",
      "50%       48581.000000\n",
      "75%       84723.000000\n",
      "max      127495.000000\n",
      "Name: userid, dtype: float64,\n",
      "Распределение:\n",
      "842      427\n",
      "17987    317\n",
      "355      302\n",
      "2024     296\n",
      "2809     279\n",
      "        ... \n",
      "66068      1\n",
      "71046      1\n",
      "90602      1\n",
      "37414      1\n",
      "77032      1\n",
      "Name: userid, Length: 127448, dtype: int64,\n"
     ]
    }
   ],
   "source": [
    "col_info(df.userid)"
   ]
  },
  {
   "cell_type": "markdown",
   "execution_count": null,
   "metadata": {
    "papermill": {
     "duration": 0.052244,
     "end_time": "2020-09-08T18:54:55.338344",
     "exception": false,
     "start_time": "2020-09-08T18:54:55.286100",
     "status": "completed"
    },
    "tags": []
   },
   "source": [
    "ID пользователя. Пропусков нет, идем дальше."
   ]
  },
  {
   "cell_type": "markdown",
   "execution_count": null,
   "metadata": {
    "papermill": {
     "duration": 0.053331,
     "end_time": "2020-09-08T18:54:55.448540",
     "exception": false,
     "start_time": "2020-09-08T18:54:55.395209",
     "status": "completed"
    },
    "tags": []
   },
   "source": [
    "## itemid"
   ]
  },
  {
   "cell_type": "code",
   "execution_count": 40,
   "metadata": {
    "execution": {
     "iopub.execute_input": "2020-09-08T18:54:55.565411Z",
     "iopub.status.busy": "2020-09-08T18:54:55.564055Z",
     "iopub.status.idle": "2020-09-08T18:54:55.629618Z",
     "shell.execute_reply": "2020-09-08T18:54:55.628771Z"
    },
    "papermill": {
     "duration": 0.127817,
     "end_time": "2020-09-08T18:54:55.629824",
     "exception": false,
     "start_time": "2020-09-08T18:54:55.502007",
     "status": "completed"
    },
    "tags": []
   },
   "outputs": [
    {
     "name": "stdout",
     "output_type": "stream",
     "text": [
      "Количество пропусков: 0,\n",
      "count    847593.00000\n",
      "mean      17090.10489\n",
      "std       11584.74670\n",
      "min           0.00000\n",
      "25%        6478.00000\n",
      "50%       16108.00000\n",
      "75%       26719.00000\n",
      "max       41319.00000\n",
      "Name: itemid, dtype: float64,\n",
      "Распределение:\n",
      "22208    5430\n",
      "23540    4733\n",
      "24556    4611\n",
      "379      4252\n",
      "32046    2449\n",
      "         ... \n",
      "38965       1\n",
      "23635       1\n",
      "34272       1\n",
      "39917       1\n",
      "38902       1\n",
      "Name: itemid, Length: 41302, dtype: int64,\n"
     ]
    }
   ],
   "source": [
    "col_info(df.itemid)"
   ]
  },
  {
   "cell_type": "markdown",
   "execution_count": null,
   "metadata": {
    "papermill": {
     "duration": 0.053192,
     "end_time": "2020-09-08T18:54:55.738196",
     "exception": false,
     "start_time": "2020-09-08T18:54:55.685004",
     "status": "completed"
    },
    "tags": []
   },
   "source": [
    "Проверим, если в тестовом и тренировочном датасетах пропущенные id. Это может быть проблемой при предсказании с помощьюу LightFM c item_features."
   ]
  },
  {
   "cell_type": "code",
   "execution_count": 41,
   "metadata": {
    "execution": {
     "iopub.execute_input": "2020-09-08T18:54:55.861620Z",
     "iopub.status.busy": "2020-09-08T18:54:55.860222Z",
     "iopub.status.idle": "2020-09-08T18:54:55.877408Z",
     "shell.execute_reply": "2020-09-08T18:54:55.876591Z"
    },
    "papermill": {
     "duration": 0.083439,
     "end_time": "2020-09-08T18:54:55.877553",
     "exception": false,
     "start_time": "2020-09-08T18:54:55.794114",
     "status": "completed"
    },
    "tags": []
   },
   "outputs": [
    {
     "name": "stdout",
     "output_type": "stream",
     "text": [
      "Количество уникальных itemid в тренировочном датасете: 41302\n",
      "Максимальный itemid в тренировочном датасете: 41320\n"
     ]
    }
   ],
   "source": [
    "print('Количество уникальных itemid в тренировочном датасете:',len(df.itemid.unique()))\n",
    "print('Максимальный itemid в тренировочном датасете:',df.itemid.max()+1)"
   ]
  },
  {
   "cell_type": "markdown",
   "execution_count": null,
   "metadata": {
    "papermill": {
     "duration": 0.054284,
     "end_time": "2020-09-08T18:54:55.988549",
     "exception": false,
     "start_time": "2020-09-08T18:54:55.934265",
     "status": "completed"
    },
    "tags": []
   },
   "source": [
    "Видим, что есть пропущенные itemid. Подумаем, что с этим делать после eda."
   ]
  },
  {
   "cell_type": "code",
   "execution_count": 42,
   "metadata": {
    "execution": {
     "iopub.execute_input": "2020-09-08T18:54:56.142737Z",
     "iopub.status.busy": "2020-09-08T18:54:56.140907Z",
     "iopub.status.idle": "2020-09-08T18:54:56.189098Z",
     "shell.execute_reply": "2020-09-08T18:54:56.188377Z"
    },
    "papermill": {
     "duration": 0.129615,
     "end_time": "2020-09-08T18:54:56.189321",
     "exception": false,
     "start_time": "2020-09-08T18:54:56.059706",
     "status": "completed"
    },
    "tags": []
   },
   "outputs": [
    {
     "data": {
      "text/html": [
       "<div>\n",
       "<style scoped>\n",
       "    .dataframe tbody tr th:only-of-type {\n",
       "        vertical-align: middle;\n",
       "    }\n",
       "\n",
       "    .dataframe tbody tr th {\n",
       "        vertical-align: top;\n",
       "    }\n",
       "\n",
       "    .dataframe thead th {\n",
       "        text-align: right;\n",
       "    }\n",
       "</style>\n",
       "<table border=\"1\" class=\"dataframe\">\n",
       "  <thead>\n",
       "    <tr style=\"text-align: right;\">\n",
       "      <th></th>\n",
       "      <th>overall</th>\n",
       "      <th>verified</th>\n",
       "      <th>unixReviewTime</th>\n",
       "      <th>vote</th>\n",
       "      <th>userid</th>\n",
       "      <th>itemid</th>\n",
       "      <th>rating</th>\n",
       "      <th>category</th>\n",
       "      <th>description</th>\n",
       "      <th>title</th>\n",
       "      <th>...</th>\n",
       "      <th>main_cat</th>\n",
       "      <th>price</th>\n",
       "      <th>also_buy</th>\n",
       "      <th>image_y</th>\n",
       "      <th>date</th>\n",
       "      <th>feature</th>\n",
       "      <th>details</th>\n",
       "      <th>similar_item</th>\n",
       "      <th>tech1</th>\n",
       "      <th>fit</th>\n",
       "    </tr>\n",
       "  </thead>\n",
       "  <tbody>\n",
       "    <tr>\n",
       "      <th>0</th>\n",
       "      <td>5</td>\n",
       "      <td>1</td>\n",
       "      <td>middle_new</td>\n",
       "      <td>low</td>\n",
       "      <td>102179</td>\n",
       "      <td>37138</td>\n",
       "      <td>1.0</td>\n",
       "      <td>[Grocery &amp; Gourmet Food, Herbs, Spices &amp; Seaso...</td>\n",
       "      <td>[Adobo seasoning (known as adobo seco) is a ve...</td>\n",
       "      <td>Primal Palate Organic Spices Adobo Seasoning, ...</td>\n",
       "      <td>...</td>\n",
       "      <td>Grocery</td>\n",
       "      <td>$9.95</td>\n",
       "      <td>[B01DGZ2B48, B01EZ489AO, B01DH795LM, B01EYW2LC...</td>\n",
       "      <td>[https://images-na.ssl-images-amazon.com/image...</td>\n",
       "      <td>NaN</td>\n",
       "      <td>NaN</td>\n",
       "      <td>\\n      &lt;div class=\"content\"&gt;\\n\\n\\n\\n\\n\\n\\n&lt;ul...</td>\n",
       "      <td>NaN</td>\n",
       "      <td>NaN</td>\n",
       "      <td>NaN</td>\n",
       "    </tr>\n",
       "  </tbody>\n",
       "</table>\n",
       "<p>1 rows × 23 columns</p>\n",
       "</div>"
      ],
      "text/plain": [
       "   overall  verified unixReviewTime vote  userid  itemid  rating  \\\n",
       "0        5         1     middle_new  low  102179   37138     1.0   \n",
       "\n",
       "                                            category  \\\n",
       "0  [Grocery & Gourmet Food, Herbs, Spices & Seaso...   \n",
       "\n",
       "                                         description  \\\n",
       "0  [Adobo seasoning (known as adobo seco) is a ve...   \n",
       "\n",
       "                                               title  ... main_cat  price  \\\n",
       "0  Primal Palate Organic Spices Adobo Seasoning, ...  ...  Grocery  $9.95   \n",
       "\n",
       "                                            also_buy  \\\n",
       "0  [B01DGZ2B48, B01EZ489AO, B01DH795LM, B01EYW2LC...   \n",
       "\n",
       "                                             image_y date feature  \\\n",
       "0  [https://images-na.ssl-images-amazon.com/image...  NaN     NaN   \n",
       "\n",
       "                                             details similar_item tech1  fit  \n",
       "0  \\n      <div class=\"content\">\\n\\n\\n\\n\\n\\n\\n<ul...          NaN   NaN  NaN  \n",
       "\n",
       "[1 rows x 23 columns]"
      ]
     },
     "execution_count": 42,
     "metadata": {},
     "output_type": "execute_result"
    }
   ],
   "source": [
    "df.head(1)"
   ]
  },
  {
   "cell_type": "markdown",
   "execution_count": null,
   "metadata": {
    "papermill": {
     "duration": 0.05679,
     "end_time": "2020-09-08T18:54:56.307285",
     "exception": false,
     "start_time": "2020-09-08T18:54:56.250495",
     "status": "completed"
    },
    "tags": []
   },
   "source": [
    "ID товара. Пропусков нет."
   ]
  },
  {
   "cell_type": "markdown",
   "execution_count": null,
   "metadata": {
    "papermill": {
     "duration": 0.054921,
     "end_time": "2020-09-08T18:54:56.416513",
     "exception": false,
     "start_time": "2020-09-08T18:54:56.361592",
     "status": "completed"
    },
    "tags": []
   },
   "source": [
    "## rating"
   ]
  },
  {
   "cell_type": "code",
   "execution_count": 43,
   "metadata": {
    "execution": {
     "iopub.execute_input": "2020-09-08T18:54:56.532380Z",
     "iopub.status.busy": "2020-09-08T18:54:56.531462Z",
     "iopub.status.idle": "2020-09-08T18:54:56.592774Z",
     "shell.execute_reply": "2020-09-08T18:54:56.591640Z"
    },
    "papermill": {
     "duration": 0.121971,
     "end_time": "2020-09-08T18:54:56.593038",
     "exception": false,
     "start_time": "2020-09-08T18:54:56.471067",
     "status": "completed"
    },
    "tags": []
   },
   "outputs": [
    {
     "name": "stdout",
     "output_type": "stream",
     "text": [
      "Количество пропусков: 0,\n",
      "count    847593.000000\n",
      "mean          0.848747\n",
      "std           0.358296\n",
      "min           0.000000\n",
      "25%           1.000000\n",
      "50%           1.000000\n",
      "75%           1.000000\n",
      "max           1.000000\n",
      "Name: rating, dtype: float64,\n",
      "Распределение:\n",
      "1.0    719392\n",
      "0.0    128201\n",
      "Name: rating, dtype: int64,\n"
     ]
    }
   ],
   "source": [
    "col_info(df.rating)"
   ]
  },
  {
   "cell_type": "markdown",
   "execution_count": null,
   "metadata": {
    "papermill": {
     "duration": 0.059019,
     "end_time": "2020-09-08T18:54:56.709555",
     "exception": false,
     "start_time": "2020-09-08T18:54:56.650536",
     "status": "completed"
    },
    "tags": []
   },
   "source": [
    "Целевая переменная. Здесь всего 2 значения - понравился пользователю товар или нет.\n",
    "Посмотрим, как этот признак зависит от оценки."
   ]
  },
  {
   "cell_type": "code",
   "execution_count": 44,
   "metadata": {
    "execution": {
     "iopub.execute_input": "2020-09-08T18:54:56.839047Z",
     "iopub.status.busy": "2020-09-08T18:54:56.838026Z",
     "iopub.status.idle": "2020-09-08T18:54:57.400416Z",
     "shell.execute_reply": "2020-09-08T18:54:57.401365Z"
    },
    "papermill": {
     "duration": 0.627946,
     "end_time": "2020-09-08T18:54:57.401618",
     "exception": false,
     "start_time": "2020-09-08T18:54:56.773672",
     "status": "completed"
    },
    "tags": []
   },
   "outputs": [
    {
     "name": "stdout",
     "output_type": "stream",
     "text": [
      "Оценки при rating = 0:\n",
      " 3    59795\n",
      "1    37071\n",
      "2    31335\n",
      "Name: overall, dtype: int64\n",
      "Оценки при rating = 1:\n",
      " 5    607524\n",
      "4    111868\n",
      "Name: overall, dtype: int64\n"
     ]
    }
   ],
   "source": [
    "print('Оценки при rating = 0:\\n', df[df.rating == 0].overall.value_counts())\n",
    "print('Оценки при rating = 1:\\n', df[df.rating == 1].overall.value_counts())"
   ]
  },
  {
   "cell_type": "markdown",
   "execution_count": null,
   "metadata": {
    "papermill": {
     "duration": 0.054488,
     "end_time": "2020-09-08T18:54:57.512230",
     "exception": false,
     "start_time": "2020-09-08T18:54:57.457742",
     "status": "completed"
    },
    "tags": []
   },
   "source": [
    "При оценках 4 или 5 считаем, что товар понравился. 1,2 или 3 - не понравился."
   ]
  },
  {
   "cell_type": "markdown",
   "execution_count": null,
   "metadata": {
    "papermill": {
     "duration": 0.054078,
     "end_time": "2020-09-08T18:54:57.622261",
     "exception": false,
     "start_time": "2020-09-08T18:54:57.568183",
     "status": "completed"
    },
    "tags": []
   },
   "source": [
    "## category"
   ]
  },
  {
   "cell_type": "code",
   "execution_count": 45,
   "metadata": {
    "execution": {
     "iopub.execute_input": "2020-09-08T18:54:57.742044Z",
     "iopub.status.busy": "2020-09-08T18:54:57.740689Z",
     "iopub.status.idle": "2020-09-08T18:54:57.746945Z",
     "shell.execute_reply": "2020-09-08T18:54:57.746290Z"
    },
    "papermill": {
     "duration": 0.070884,
     "end_time": "2020-09-08T18:54:57.747097",
     "exception": false,
     "start_time": "2020-09-08T18:54:57.676213",
     "status": "completed"
    },
    "tags": []
   },
   "outputs": [
    {
     "data": {
      "text/plain": [
       "['Grocery & Gourmet Food', 'Beverages', 'Coffee, Tea & Cocoa', 'Cocoa']"
      ]
     },
     "execution_count": 45,
     "metadata": {},
     "output_type": "execute_result"
    }
   ],
   "source": [
    "df.category[25]"
   ]
  },
  {
   "cell_type": "markdown",
   "execution_count": null,
   "metadata": {
    "papermill": {
     "duration": 0.056159,
     "end_time": "2020-09-08T18:54:57.860448",
     "exception": false,
     "start_time": "2020-09-08T18:54:57.804289",
     "status": "completed"
    },
    "tags": []
   },
   "source": [
    "Видим в данном признаке список категорий, к которй относится товар.\n",
    "Посмотрим, сколько всего категорий и выделим самые популярные."
   ]
  },
  {
   "cell_type": "code",
   "execution_count": 46,
   "metadata": {
    "execution": {
     "iopub.execute_input": "2020-09-08T18:54:57.984589Z",
     "iopub.status.busy": "2020-09-08T18:54:57.983217Z",
     "iopub.status.idle": "2020-09-08T18:54:57.989698Z",
     "shell.execute_reply": "2020-09-08T18:54:57.988853Z"
    },
    "papermill": {
     "duration": 0.073185,
     "end_time": "2020-09-08T18:54:57.989847",
     "exception": false,
     "start_time": "2020-09-08T18:54:57.916662",
     "status": "completed"
    },
    "tags": []
   },
   "outputs": [
    {
     "data": {
      "text/plain": [
       "\"# Зададим переменной количество категорий\\nN_CATS = 500\\n\\n# Создаем пустой список, в который будут добавляться все категории\\nall_categories = []\\n\\n# Добавляем категории каждой записи в общий список\\nfor category in df.category:\\n    all_categories.extend(category)\\n\\n# Считаем частоту категорий в датасете\\ncnt = Counter()\\nfor word in all_categories:\\n    cnt[word] +=1\\n    \\n#Оставим топ N_CATS категорий\\ntop_cat = []\\nfor i in range (0, len(cnt.most_common(N_CATS))):\\n    cat = cnt.most_common(N_CATS)[i][0]\\n    top_cat.append(cat)\\n    \\n# Удаляем дубликаты из all_categories\\nall_categories = list(dict.fromkeys(all_categories))\\n\\nprint('Всего категорий: ', len(all_categories))\\nprint('Топ', N_CATS, 'категорий: ',top_cat)\""
      ]
     },
     "execution_count": 46,
     "metadata": {},
     "output_type": "execute_result"
    }
   ],
   "source": [
    "'''# Зададим переменной количество категорий\n",
    "N_CATS = 500\n",
    "\n",
    "# Создаем пустой список, в который будут добавляться все категории\n",
    "all_categories = []\n",
    "\n",
    "# Добавляем категории каждой записи в общий список\n",
    "for category in df.category:\n",
    "    all_categories.extend(category)\n",
    "\n",
    "# Считаем частоту категорий в датасете\n",
    "cnt = Counter()\n",
    "for word in all_categories:\n",
    "    cnt[word] +=1\n",
    "    \n",
    "#Оставим топ N_CATS категорий\n",
    "top_cat = []\n",
    "for i in range (0, len(cnt.most_common(N_CATS))):\n",
    "    cat = cnt.most_common(N_CATS)[i][0]\n",
    "    top_cat.append(cat)\n",
    "    \n",
    "# Удаляем дубликаты из all_categories\n",
    "all_categories = list(dict.fromkeys(all_categories))\n",
    "\n",
    "print('Всего категорий: ', len(all_categories))\n",
    "print('Топ', N_CATS, 'категорий: ',top_cat)'''"
   ]
  },
  {
   "cell_type": "markdown",
   "execution_count": null,
   "metadata": {
    "papermill": {
     "duration": 0.059046,
     "end_time": "2020-09-08T18:54:58.108507",
     "exception": false,
     "start_time": "2020-09-08T18:54:58.049461",
     "status": "completed"
    },
    "tags": []
   },
   "source": [
    "Далее мы можем оставить только самые популярные категории и создать на их основе dummy-переменные.\n",
    "\n",
    "**Я пока что закомментировал создание dummy-переменных для топовых категорий. Если хотите с ними обучить модель, то код ниже рабочий**"
   ]
  },
  {
   "cell_type": "code",
   "execution_count": 47,
   "metadata": {
    "execution": {
     "iopub.execute_input": "2020-09-08T18:54:58.238437Z",
     "iopub.status.busy": "2020-09-08T18:54:58.237125Z",
     "iopub.status.idle": "2020-09-08T18:54:58.242856Z",
     "shell.execute_reply": "2020-09-08T18:54:58.242042Z"
    },
    "papermill": {
     "duration": 0.072781,
     "end_time": "2020-09-08T18:54:58.243019",
     "exception": false,
     "start_time": "2020-09-08T18:54:58.170238",
     "status": "completed"
    },
    "tags": []
   },
   "outputs": [
    {
     "data": {
      "text/plain": [
       "\"# Напишем функцию, которая будет оставлять только топовые категории в списке, остальные удалит\\ndef top_category(categories):\\n    top_categories = []\\n    for category in categories:\\n        if category in top_cat:\\n            top_categories.append(category)\\n    x = top_categories\\n    return x\\n\\n# Применим функцию к датасету, оставим только топовые категории в стольце category\\ndf['category'] = df['category'].apply(lambda x: top_category(x))\\n\\n\\n# Создание dummy-переменных на основе топовых категорий \\n\\n# Функция для отображения категорий в записи\\ndef find_item(cell):\\n    if item in cell:\\n        return 1\\n    return 0\\n\\n# Cоздаем столбцы с категориями и заполняем 0 или 1\\nfor item in top_cat:\\n    column_name = 'category' + item\\n    df[column_name] = df['category'].apply(find_item)\""
      ]
     },
     "execution_count": 47,
     "metadata": {},
     "output_type": "execute_result"
    }
   ],
   "source": [
    "'''# Напишем функцию, которая будет оставлять только топовые категории в списке, остальные удалит\n",
    "def top_category(categories):\n",
    "    top_categories = []\n",
    "    for category in categories:\n",
    "        if category in top_cat:\n",
    "            top_categories.append(category)\n",
    "    x = top_categories\n",
    "    return x\n",
    "\n",
    "# Применим функцию к датасету, оставим только топовые категории в стольце category\n",
    "df['category'] = df['category'].apply(lambda x: top_category(x))\n",
    "\n",
    "\n",
    "# Создание dummy-переменных на основе топовых категорий \n",
    "\n",
    "# Функция для отображения категорий в записи\n",
    "def find_item(cell):\n",
    "    if item in cell:\n",
    "        return 1\n",
    "    return 0\n",
    "\n",
    "# Cоздаем столбцы с категориями и заполняем 0 или 1\n",
    "for item in top_cat:\n",
    "    column_name = 'category' + item\n",
    "    df[column_name] = df['category'].apply(find_item)'''"
   ]
  },
  {
   "cell_type": "code",
   "execution_count": 48,
   "metadata": {
    "execution": {
     "iopub.execute_input": "2020-09-08T18:54:58.629112Z",
     "iopub.status.busy": "2020-09-08T18:54:58.627895Z",
     "iopub.status.idle": "2020-09-08T18:54:58.632038Z",
     "shell.execute_reply": "2020-09-08T18:54:58.631378Z"
    },
    "papermill": {
     "duration": 0.333242,
     "end_time": "2020-09-08T18:54:58.632219",
     "exception": false,
     "start_time": "2020-09-08T18:54:58.298977",
     "status": "completed"
    },
    "tags": []
   },
   "outputs": [],
   "source": [
    "# Удалим столбец с категориями\n",
    "df = df.drop(['category'], axis = 1)"
   ]
  },
  {
   "cell_type": "markdown",
   "execution_count": null,
   "metadata": {
    "papermill": {
     "duration": 0.056685,
     "end_time": "2020-09-08T18:54:58.748147",
     "exception": false,
     "start_time": "2020-09-08T18:54:58.691462",
     "status": "completed"
    },
    "tags": []
   },
   "source": [
    "## description"
   ]
  },
  {
   "cell_type": "code",
   "execution_count": 49,
   "metadata": {
    "execution": {
     "iopub.execute_input": "2020-09-08T18:54:58.868426Z",
     "iopub.status.busy": "2020-09-08T18:54:58.867338Z",
     "iopub.status.idle": "2020-09-08T18:54:58.872634Z",
     "shell.execute_reply": "2020-09-08T18:54:58.871825Z"
    },
    "papermill": {
     "duration": 0.068559,
     "end_time": "2020-09-08T18:54:58.872781",
     "exception": false,
     "start_time": "2020-09-08T18:54:58.804222",
     "status": "completed"
    },
    "tags": []
   },
   "outputs": [
    {
     "data": {
      "text/plain": [
       "['Torani Vanilla Syrup, Sugar Free, 25.4 Fl Oz',\n",
       " 'Statements regarding dietary supplements have not been evaluated by the FDA and are not intended to diagnose, treat, cure, or prevent any disease or health condition.']"
      ]
     },
     "execution_count": 49,
     "metadata": {},
     "output_type": "execute_result"
    }
   ],
   "source": [
    "df.description[115]"
   ]
  },
  {
   "cell_type": "markdown",
   "execution_count": null,
   "metadata": {
    "papermill": {
     "duration": 0.05619,
     "end_time": "2020-09-08T18:54:58.983936",
     "exception": false,
     "start_time": "2020-09-08T18:54:58.927746",
     "status": "completed"
    },
    "tags": []
   },
   "source": [
    "Cделаем то же самое, что мы делали для признака reviewText: найдем самые часто встречающиеся слова, оставим только их и подготовимся к созданию dummy-переменных."
   ]
  },
  {
   "cell_type": "code",
   "execution_count": 50,
   "metadata": {
    "execution": {
     "iopub.execute_input": "2020-09-08T18:54:59.106268Z",
     "iopub.status.busy": "2020-09-08T18:54:59.105239Z",
     "iopub.status.idle": "2020-09-08T18:54:59.110691Z",
     "shell.execute_reply": "2020-09-08T18:54:59.109918Z"
    },
    "papermill": {
     "duration": 0.069226,
     "end_time": "2020-09-08T18:54:59.110856",
     "exception": false,
     "start_time": "2020-09-08T18:54:59.041630",
     "status": "completed"
    },
    "tags": []
   },
   "outputs": [
    {
     "data": {
      "text/plain": [
       "'# Зададим переменной количество наиболее частов встречающихся слов, которое хотим оставить\\nN_WORDS = 200\\n\\n# Сейчас в поле description список строк. Приведем к единой строке.\\ndf[\\'description\\']=df[\\'description\\'].astype(\\'str\\')\\n\\n# Разбиваем description на список слов, предварительно приводим текст к нижнему регистру\\ndf[\\'description\\']=df[\\'description\\'].apply(lambda x: re.sub(\"[^\\\\w]\", \" \",  x.lower()).split())\\n                                        \\n# Создаем пустой список, в который будут добавляться все слова\\nall_words = []\\n\\n# Добавляем слова каждой записи в общий список\\nfor words in df[\\'description\\']:\\n    # разбиваем текст на слова, предварительно приводим к нижнему регистру\\n    all_words.extend(words)\\n\\n# Считаем частоту слов в датасете\\ncnt = Counter()\\nfor word in all_words:\\n    cnt[word] +=1\\n    \\n#Оставим топ N_WORDS слов\\ntop_words = []\\nfor i in range (0, len(cnt.most_common(N_WORDS))):\\n    words = cnt.most_common(N_WORDS)[i][0]\\n    top_words.append(words)\\n    \\n# Удаляем дубликаты из all_words\\nall_words = list(dict.fromkeys(all_words))\\n\\nprint(\\'Всего слов \\', len(all_words))\\nprint(\\'Топ\\', N_WORDS, \\'слов: \\',top_words)'"
      ]
     },
     "execution_count": 50,
     "metadata": {},
     "output_type": "execute_result"
    }
   ],
   "source": [
    "'''# Зададим переменной количество наиболее частов встречающихся слов, которое хотим оставить\n",
    "N_WORDS = 200\n",
    "\n",
    "# Сейчас в поле description список строк. Приведем к единой строке.\n",
    "df['description']=df['description'].astype('str')\n",
    "\n",
    "# Разбиваем description на список слов, предварительно приводим текст к нижнему регистру\n",
    "df['description']=df['description'].apply(lambda x: re.sub(\"[^\\w]\", \" \",  x.lower()).split())\n",
    "                                        \n",
    "# Создаем пустой список, в который будут добавляться все слова\n",
    "all_words = []\n",
    "\n",
    "# Добавляем слова каждой записи в общий список\n",
    "for words in df['description']:\n",
    "    # разбиваем текст на слова, предварительно приводим к нижнему регистру\n",
    "    all_words.extend(words)\n",
    "\n",
    "# Считаем частоту слов в датасете\n",
    "cnt = Counter()\n",
    "for word in all_words:\n",
    "    cnt[word] +=1\n",
    "    \n",
    "#Оставим топ N_WORDS слов\n",
    "top_words = []\n",
    "for i in range (0, len(cnt.most_common(N_WORDS))):\n",
    "    words = cnt.most_common(N_WORDS)[i][0]\n",
    "    top_words.append(words)\n",
    "    \n",
    "# Удаляем дубликаты из all_words\n",
    "all_words = list(dict.fromkeys(all_words))\n",
    "\n",
    "print('Всего слов ', len(all_words))\n",
    "print('Топ', N_WORDS, 'слов: ',top_words)'''"
   ]
  },
  {
   "cell_type": "markdown",
   "execution_count": null,
   "metadata": {
    "papermill": {
     "duration": 0.055617,
     "end_time": "2020-09-08T18:54:59.223340",
     "exception": false,
     "start_time": "2020-09-08T18:54:59.167723",
     "status": "completed"
    },
    "tags": []
   },
   "source": [
    "Среди самых частых слов много предлогов и артиклей. Отберем вручную список из 50 значимых по нашему мнению слов."
   ]
  },
  {
   "cell_type": "code",
   "execution_count": 51,
   "metadata": {
    "execution": {
     "iopub.execute_input": "2020-09-08T18:54:59.351043Z",
     "iopub.status.busy": "2020-09-08T18:54:59.349703Z",
     "iopub.status.idle": "2020-09-08T18:54:59.354535Z",
     "shell.execute_reply": "2020-09-08T18:54:59.353688Z"
    },
    "papermill": {
     "duration": 0.076066,
     "end_time": "2020-09-08T18:54:59.354703",
     "exception": false,
     "start_time": "2020-09-08T18:54:59.278637",
     "status": "completed"
    },
    "tags": []
   },
   "outputs": [],
   "source": [
    "top_word_list = [\n",
    "    'health',\n",
    "    'treat',\n",
    "    'intended',\n",
    "    'disease',\n",
    "    'prevent',\n",
    "    'cure',\n",
    "    'dietary',\n",
    "    'diagnose',\n",
    "    'evaluated',\n",
    "    'statements',\n",
    "    'condition',\n",
    "    'supplements',\n",
    "    'fda',\n",
    "    'organic',\n",
    "    'flavor',\n",
    "    'tea',\n",
    "    'natural',\n",
    "    'sugar',\n",
    "    'salt',\n",
    "    'water',\n",
    "    'oil',\n",
    "    'coffee',\n",
    "    'ingredients',\n",
    "    'milk',\n",
    "    'free',\n",
    "    'products',\n",
    "    'chocolate',\n",
    "    'taste',\n",
    "    'cup',\n",
    "    'delicious',\n",
    "    'quality',\n",
    "    'flavors',\n",
    "    'soy',\n",
    "    'food',\n",
    "    'flour',\n",
    "    'acid',\n",
    "    'wheat', \n",
    "    'great',\n",
    "    'powder',\n",
    "    'corn',\n",
    "    'nuts',\n",
    "    'rice',\n",
    "    'protein',\n",
    "    'coconut',\n",
    "    'gluten',\n",
    "    'butter',\n",
    "    'syrup',\n",
    "    'blend',\n",
    "    'high',\n",
    "    'best'\n",
    "]"
   ]
  },
  {
   "cell_type": "markdown",
   "execution_count": null,
   "metadata": {
    "papermill": {
     "duration": 0.058688,
     "end_time": "2020-09-08T18:54:59.471689",
     "exception": false,
     "start_time": "2020-09-08T18:54:59.413001",
     "status": "completed"
    },
    "tags": []
   },
   "source": [
    "Далее мы можем оставить только самые популярные слова и создать на их основе dummy-переменные.\n",
    "\n",
    "**Я пока что закомментировал создание dummy-переменных для самых частых слов. Если хотите с ними обучить модель, то код ниже рабочий**"
   ]
  },
  {
   "cell_type": "code",
   "execution_count": 52,
   "metadata": {
    "execution": {
     "iopub.execute_input": "2020-09-08T18:54:59.602258Z",
     "iopub.status.busy": "2020-09-08T18:54:59.601032Z",
     "iopub.status.idle": "2020-09-08T18:54:59.605837Z",
     "shell.execute_reply": "2020-09-08T18:54:59.606416Z"
    },
    "papermill": {
     "duration": 0.07421,
     "end_time": "2020-09-08T18:54:59.606621",
     "exception": false,
     "start_time": "2020-09-08T18:54:59.532411",
     "status": "completed"
    },
    "tags": []
   },
   "outputs": [
    {
     "data": {
      "text/plain": [
       "\"# Напишем функцию, которая будет оставлять в списке только слова из top_word_list, остальные удалит\\ndef leave_top_words(words):\\n    top_words = []\\n    for word in words:\\n        if word in top_word_list:\\n            top_words.append(word)\\n    x = top_words\\n    return x\\n\\n# Применим функцию к датасету, оставим только слова из top_word_list в столбце description\\ndf['description'] = df['description'].apply(lambda x: leave_top_words(x))\\n\\n\\n# Создание dummy-переменных на основе слов из top_word_list\\n\\n# Функция для отображения категорий в записи\\ndef find_item(cell):\\n    if item in cell:\\n        return 1\\n    return 0\\n\\n# Cоздаем столбцы со словами из top_word_list и заполняем 0 или 1\\nfor item in top_word_list:\\n    column_name = 'description' + item\\n    df[column_name] = df['description'].apply(find_item)\""
      ]
     },
     "execution_count": 52,
     "metadata": {},
     "output_type": "execute_result"
    }
   ],
   "source": [
    "'''# Напишем функцию, которая будет оставлять в списке только слова из top_word_list, остальные удалит\n",
    "def leave_top_words(words):\n",
    "    top_words = []\n",
    "    for word in words:\n",
    "        if word in top_word_list:\n",
    "            top_words.append(word)\n",
    "    x = top_words\n",
    "    return x\n",
    "\n",
    "# Применим функцию к датасету, оставим только слова из top_word_list в столбце description\n",
    "df['description'] = df['description'].apply(lambda x: leave_top_words(x))\n",
    "\n",
    "\n",
    "# Создание dummy-переменных на основе слов из top_word_list\n",
    "\n",
    "# Функция для отображения категорий в записи\n",
    "def find_item(cell):\n",
    "    if item in cell:\n",
    "        return 1\n",
    "    return 0\n",
    "\n",
    "# Cоздаем столбцы со словами из top_word_list и заполняем 0 или 1\n",
    "for item in top_word_list:\n",
    "    column_name = 'description' + item\n",
    "    df[column_name] = df['description'].apply(find_item)'''"
   ]
  },
  {
   "cell_type": "code",
   "execution_count": 53,
   "metadata": {
    "execution": {
     "iopub.execute_input": "2020-09-08T18:54:59.740057Z",
     "iopub.status.busy": "2020-09-08T18:54:59.739209Z",
     "iopub.status.idle": "2020-09-08T18:55:00.043724Z",
     "shell.execute_reply": "2020-09-08T18:55:00.042815Z"
    },
    "papermill": {
     "duration": 0.380383,
     "end_time": "2020-09-08T18:55:00.043874",
     "exception": false,
     "start_time": "2020-09-08T18:54:59.663491",
     "status": "completed"
    },
    "tags": []
   },
   "outputs": [],
   "source": [
    "df = df.drop(['description'], axis = 1)"
   ]
  },
  {
   "cell_type": "markdown",
   "execution_count": null,
   "metadata": {
    "papermill": {
     "duration": 0.055473,
     "end_time": "2020-09-08T18:55:00.156017",
     "exception": false,
     "start_time": "2020-09-08T18:55:00.100544",
     "status": "completed"
    },
    "tags": []
   },
   "source": [
    "## title"
   ]
  },
  {
   "cell_type": "code",
   "execution_count": 54,
   "metadata": {
    "execution": {
     "iopub.execute_input": "2020-09-08T18:55:00.275301Z",
     "iopub.status.busy": "2020-09-08T18:55:00.274422Z",
     "iopub.status.idle": "2020-09-08T18:55:00.279341Z",
     "shell.execute_reply": "2020-09-08T18:55:00.278530Z"
    },
    "papermill": {
     "duration": 0.06845,
     "end_time": "2020-09-08T18:55:00.279477",
     "exception": false,
     "start_time": "2020-09-08T18:55:00.211027",
     "status": "completed"
    },
    "tags": []
   },
   "outputs": [
    {
     "data": {
      "text/plain": [
       "'Torani Syrup, Sugar Free Vanilla, 25.4 oz'"
      ]
     },
     "execution_count": 54,
     "metadata": {},
     "output_type": "execute_result"
    }
   ],
   "source": [
    "df.title[115]"
   ]
  },
  {
   "cell_type": "markdown",
   "execution_count": null,
   "metadata": {
    "papermill": {
     "duration": 0.055994,
     "end_time": "2020-09-08T18:55:00.391561",
     "exception": false,
     "start_time": "2020-09-08T18:55:00.335567",
     "status": "completed"
    },
    "tags": []
   },
   "source": [
    "Видим, что title частично содержится в description. Удалим данный признак."
   ]
  },
  {
   "cell_type": "code",
   "execution_count": 55,
   "metadata": {
    "execution": {
     "iopub.execute_input": "2020-09-08T18:55:00.523583Z",
     "iopub.status.busy": "2020-09-08T18:55:00.522725Z",
     "iopub.status.idle": "2020-09-08T18:55:00.827869Z",
     "shell.execute_reply": "2020-09-08T18:55:00.827025Z"
    },
    "papermill": {
     "duration": 0.37877,
     "end_time": "2020-09-08T18:55:00.828011",
     "exception": false,
     "start_time": "2020-09-08T18:55:00.449241",
     "status": "completed"
    },
    "tags": []
   },
   "outputs": [],
   "source": [
    "df = df.drop(['title'], axis = 1)"
   ]
  },
  {
   "cell_type": "markdown",
   "execution_count": null,
   "metadata": {
    "papermill": {
     "duration": 0.057401,
     "end_time": "2020-09-08T18:55:00.941000",
     "exception": false,
     "start_time": "2020-09-08T18:55:00.883599",
     "status": "completed"
    },
    "tags": []
   },
   "source": [
    "## brand"
   ]
  },
  {
   "cell_type": "code",
   "execution_count": 56,
   "metadata": {
    "execution": {
     "iopub.execute_input": "2020-09-08T18:55:01.166839Z",
     "iopub.status.busy": "2020-09-08T18:55:01.165652Z",
     "iopub.status.idle": "2020-09-08T18:55:01.828474Z",
     "shell.execute_reply": "2020-09-08T18:55:01.827492Z"
    },
    "papermill": {
     "duration": 0.831104,
     "end_time": "2020-09-08T18:55:01.828652",
     "exception": false,
     "start_time": "2020-09-08T18:55:00.997548",
     "status": "completed"
    },
    "tags": []
   },
   "outputs": [
    {
     "name": "stdout",
     "output_type": "stream",
     "text": [
      "Количество пропусков: 6104,\n",
      "count     841489\n",
      "unique      8866\n",
      "top         KIND\n",
      "freq       22506\n",
      "Name: brand, dtype: object,\n",
      "Распределение:\n",
      "KIND                     22506\n",
      "Bob's Red Mill           13061\n",
      "Twinings                 11182\n",
      "Planters                 10384\n",
      "Frontier                  6926\n",
      "                         ...  \n",
      "LOU'S BONSAI  NURSERY        1\n",
      "Drumstick                    1\n",
      "Sugar                        1\n",
      "Liberty                      1\n",
      "Caffe Vita                   1\n",
      "Name: brand, Length: 8866, dtype: int64,\n"
     ]
    }
   ],
   "source": [
    "col_info(df.brand)"
   ]
  },
  {
   "cell_type": "markdown",
   "execution_count": null,
   "metadata": {
    "papermill": {
     "duration": 0.055008,
     "end_time": "2020-09-08T18:55:01.939724",
     "exception": false,
     "start_time": "2020-09-08T18:55:01.884716",
     "status": "completed"
    },
    "tags": []
   },
   "source": [
    "Пропусков относительно не много. 8866 разных производителей. Можно выделить самых известных и сделать для них dummy-переменные, как мы делали для других категориальных признаков."
   ]
  },
  {
   "cell_type": "code",
   "execution_count": 57,
   "metadata": {
    "execution": {
     "iopub.execute_input": "2020-09-08T18:55:02.060813Z",
     "iopub.status.busy": "2020-09-08T18:55:02.059719Z",
     "iopub.status.idle": "2020-09-08T18:55:02.063420Z",
     "shell.execute_reply": "2020-09-08T18:55:02.063986Z"
    },
    "papermill": {
     "duration": 0.068321,
     "end_time": "2020-09-08T18:55:02.064157",
     "exception": false,
     "start_time": "2020-09-08T18:55:01.995836",
     "status": "completed"
    },
    "tags": []
   },
   "outputs": [
    {
     "data": {
      "text/plain": [
       "\"# Зададим переменной количество производителей\\nN_BRANDS = 50\\n\\n# Приведем к str\\ndf['brand']=df['brand'].astype('str')\\n\\n# Создаем пустой список, в который будут добавляться все производители\\nall_brands = []\\n\\n# Добавляем производителя из каждой записи в общий список\\nfor brand in df.brand:\\n    all_brands.append(brand)\\n\\n# Считаем количество производителей в датасете\\ncnt = Counter()\\nfor word in all_brands:\\n    cnt[word] +=1\\n    \\n#Оставим топ N_BRANDS производителей\\ntop_brand = []\\nfor i in range (0, len(cnt.most_common(N_BRANDS))):\\n    br = cnt.most_common(N_BRANDS)[i][0]\\n    top_brand.append(br)\\n    \\n# Удаляем дубликаты из all_brands\\nall_brands = list(dict.fromkeys(all_brands))\\n\\nprint('Всего производителей: ', len(all_brands))\\nprint('Топ', N_BRANDS, 'производителей: ',top_brand)\""
      ]
     },
     "execution_count": 57,
     "metadata": {},
     "output_type": "execute_result"
    }
   ],
   "source": [
    "'''# Зададим переменной количество производителей\n",
    "N_BRANDS = 50\n",
    "\n",
    "# Приведем к str\n",
    "df['brand']=df['brand'].astype('str')\n",
    "\n",
    "# Создаем пустой список, в который будут добавляться все производители\n",
    "all_brands = []\n",
    "\n",
    "# Добавляем производителя из каждой записи в общий список\n",
    "for brand in df.brand:\n",
    "    all_brands.append(brand)\n",
    "\n",
    "# Считаем количество производителей в датасете\n",
    "cnt = Counter()\n",
    "for word in all_brands:\n",
    "    cnt[word] +=1\n",
    "    \n",
    "#Оставим топ N_BRANDS производителей\n",
    "top_brand = []\n",
    "for i in range (0, len(cnt.most_common(N_BRANDS))):\n",
    "    br = cnt.most_common(N_BRANDS)[i][0]\n",
    "    top_brand.append(br)\n",
    "    \n",
    "# Удаляем дубликаты из all_brands\n",
    "all_brands = list(dict.fromkeys(all_brands))\n",
    "\n",
    "print('Всего производителей: ', len(all_brands))\n",
    "print('Топ', N_BRANDS, 'производителей: ',top_brand)'''"
   ]
  },
  {
   "cell_type": "markdown",
   "execution_count": null,
   "metadata": {
    "papermill": {
     "duration": 0.055375,
     "end_time": "2020-09-08T18:55:02.174887",
     "exception": false,
     "start_time": "2020-09-08T18:55:02.119512",
     "status": "completed"
    },
    "tags": []
   },
   "source": [
    "Далее мы можем оставить только самых популярных производителей и создать на их основе dummy-переменные.\n",
    "\n",
    "**Я пока что закомментировал создание dummy-переменных для топовых категорий. Если хотите с ними обучить модель, то код ниже рабочий**"
   ]
  },
  {
   "cell_type": "code",
   "execution_count": 58,
   "metadata": {
    "execution": {
     "iopub.execute_input": "2020-09-08T18:55:02.356536Z",
     "iopub.status.busy": "2020-09-08T18:55:02.355637Z",
     "iopub.status.idle": "2020-09-08T18:55:02.359684Z",
     "shell.execute_reply": "2020-09-08T18:55:02.359024Z"
    },
    "papermill": {
     "duration": 0.128663,
     "end_time": "2020-09-08T18:55:02.359818",
     "exception": false,
     "start_time": "2020-09-08T18:55:02.231155",
     "status": "completed"
    },
    "tags": []
   },
   "outputs": [
    {
     "data": {
      "text/plain": [
       "\"# Напишем функцию, которая будет оставлять только топовых производителей, остальных удалит\\ndef leave_top_brand(brands):\\n    top_brands = []\\n    for brand in brands:\\n        if brand in top_brand:\\n            top_brands.append(brand)\\n    x = top_brands\\n    return x\\n\\n# Применим функцию к датасету, оставим только топовых производителей в стольце brand\\ndf['brand'] = df['brand'].apply(lambda x: leave_top_brand(x))\\n\\n\\n# Создание dummy-переменных на основе топовых производителей \\n\\n# Функция для отображения производителей в записи\\ndef find_item(cell):\\n    if item in cell:\\n        return 1\\n    return 0\\n\\n# Cоздаем столбцы с производителями и заполняем 0 или 1\\nfor item in top_brand:\\n    column_name = 'brand_' + item\\n    df[column_name] = df['brand'].apply(find_item)\""
      ]
     },
     "execution_count": 58,
     "metadata": {},
     "output_type": "execute_result"
    }
   ],
   "source": [
    "'''# Напишем функцию, которая будет оставлять только топовых производителей, остальных удалит\n",
    "def leave_top_brand(brands):\n",
    "    top_brands = []\n",
    "    for brand in brands:\n",
    "        if brand in top_brand:\n",
    "            top_brands.append(brand)\n",
    "    x = top_brands\n",
    "    return x\n",
    "\n",
    "# Применим функцию к датасету, оставим только топовых производителей в стольце brand\n",
    "df['brand'] = df['brand'].apply(lambda x: leave_top_brand(x))\n",
    "\n",
    "\n",
    "# Создание dummy-переменных на основе топовых производителей \n",
    "\n",
    "# Функция для отображения производителей в записи\n",
    "def find_item(cell):\n",
    "    if item in cell:\n",
    "        return 1\n",
    "    return 0\n",
    "\n",
    "# Cоздаем столбцы с производителями и заполняем 0 или 1\n",
    "for item in top_brand:\n",
    "    column_name = 'brand_' + item\n",
    "    df[column_name] = df['brand'].apply(find_item)'''"
   ]
  },
  {
   "cell_type": "code",
   "execution_count": 59,
   "metadata": {
    "execution": {
     "iopub.execute_input": "2020-09-08T18:55:02.491879Z",
     "iopub.status.busy": "2020-09-08T18:55:02.489407Z",
     "iopub.status.idle": "2020-09-08T18:55:02.728959Z",
     "shell.execute_reply": "2020-09-08T18:55:02.728252Z"
    },
    "papermill": {
     "duration": 0.313243,
     "end_time": "2020-09-08T18:55:02.729100",
     "exception": false,
     "start_time": "2020-09-08T18:55:02.415857",
     "status": "completed"
    },
    "tags": []
   },
   "outputs": [],
   "source": [
    "df = df.drop(['brand'], axis = 1)"
   ]
  },
  {
   "cell_type": "markdown",
   "execution_count": null,
   "metadata": {
    "papermill": {
     "duration": 0.054724,
     "end_time": "2020-09-08T18:55:02.839480",
     "exception": false,
     "start_time": "2020-09-08T18:55:02.784756",
     "status": "completed"
    },
    "tags": []
   },
   "source": [
    "## rank"
   ]
  },
  {
   "cell_type": "code",
   "execution_count": 60,
   "metadata": {
    "execution": {
     "iopub.execute_input": "2020-09-08T18:55:03.059179Z",
     "iopub.status.busy": "2020-09-08T18:55:03.058348Z",
     "iopub.status.idle": "2020-09-08T18:55:03.066323Z",
     "shell.execute_reply": "2020-09-08T18:55:03.065426Z"
    },
    "papermill": {
     "duration": 0.171773,
     "end_time": "2020-09-08T18:55:03.066499",
     "exception": false,
     "start_time": "2020-09-08T18:55:02.894726",
     "status": "completed"
    },
    "tags": []
   },
   "outputs": [
    {
     "name": "stdout",
     "output_type": "stream",
     "text": [
      "Количество пропусков: 34598,\n"
     ]
    }
   ],
   "source": [
    "print('Количество пропусков: {},'.format(df['rank'].isnull().sum()))"
   ]
  },
  {
   "cell_type": "markdown",
   "execution_count": null,
   "metadata": {
    "papermill": {
     "duration": 0.056522,
     "end_time": "2020-09-08T18:55:03.179129",
     "exception": false,
     "start_time": "2020-09-08T18:55:03.122607",
     "status": "completed"
    },
    "tags": []
   },
   "source": [
    "Посмотрим, как выглядят значения"
   ]
  },
  {
   "cell_type": "code",
   "execution_count": 61,
   "metadata": {
    "execution": {
     "iopub.execute_input": "2020-09-08T18:55:03.297959Z",
     "iopub.status.busy": "2020-09-08T18:55:03.297136Z",
     "iopub.status.idle": "2020-09-08T18:55:03.301496Z",
     "shell.execute_reply": "2020-09-08T18:55:03.300708Z"
    },
    "papermill": {
     "duration": 0.06666,
     "end_time": "2020-09-08T18:55:03.301650",
     "exception": false,
     "start_time": "2020-09-08T18:55:03.234990",
     "status": "completed"
    },
    "tags": []
   },
   "outputs": [
    {
     "data": {
      "text/plain": [
       "'19,771inGroceryGourmetFood('"
      ]
     },
     "execution_count": 61,
     "metadata": {},
     "output_type": "execute_result"
    }
   ],
   "source": [
    "df['rank'][1]"
   ]
  },
  {
   "cell_type": "markdown",
   "execution_count": null,
   "metadata": {
    "papermill": {
     "duration": 0.055676,
     "end_time": "2020-09-08T18:55:03.413507",
     "exception": false,
     "start_time": "2020-09-08T18:55:03.357831",
     "status": "completed"
    },
    "tags": []
   },
   "source": [
    "Приведем значения данного признака к единому числовому виду"
   ]
  },
  {
   "cell_type": "code",
   "execution_count": 62,
   "metadata": {
    "execution": {
     "iopub.execute_input": "2020-09-08T18:55:03.538504Z",
     "iopub.status.busy": "2020-09-08T18:55:03.537617Z",
     "iopub.status.idle": "2020-09-08T18:55:11.515769Z",
     "shell.execute_reply": "2020-09-08T18:55:11.514695Z"
    },
    "papermill": {
     "duration": 8.046332,
     "end_time": "2020-09-08T18:55:11.515986",
     "exception": false,
     "start_time": "2020-09-08T18:55:03.469654",
     "status": "completed"
    },
    "tags": []
   },
   "outputs": [
    {
     "name": "stdout",
     "output_type": "stream",
     "text": [
      "Количество пропусков: 0,\n",
      "count    8.475930e+05\n",
      "mean     6.676660e+05\n",
      "std      2.289290e+06\n",
      "min      4.000000e+00\n",
      "25%      1.094000e+04\n",
      "50%      4.999900e+04\n",
      "75%      1.799160e+05\n",
      "max      9.999999e+06\n",
      "Name: rank, dtype: float64,\n",
      "Распределение:\n",
      "9999999    47163\n",
      "18          7421\n",
      "4575        4733\n",
      "2949        4611\n",
      "142261      4252\n",
      "           ...  \n",
      "1169810        1\n",
      "784450         1\n",
      "293005         1\n",
      "265756         1\n",
      "643797         1\n",
      "Name: rank, Length: 35977, dtype: int64,\n"
     ]
    }
   ],
   "source": [
    "# Приведем все к str\n",
    "df['rank'] = df['rank'].astype('str')\n",
    "# Удалим все значения кроме числовых\n",
    "df['rank'] = df['rank'].apply(lambda x: re.sub('\\D', '', x))\n",
    "# Заменим пропуски на высокий ранг (предположим, что чем ниже ранг, тем лучше)\n",
    "df['rank'] = df['rank'].apply(lambda x: 9999999 if x == '' else x)\n",
    "df['rank'] = df['rank'].astype('float')\n",
    "# Остаются какие-то большие значения, заменим их на высокий ранг\n",
    "df['rank'] = df['rank'].apply(lambda x: 9999999 if x > 9999999 else x)\n",
    "df['rank'] = df['rank'].astype('int32')\n",
    "# Посмотрим на результат\n",
    "col_info(df['rank'])"
   ]
  },
  {
   "cell_type": "markdown",
   "execution_count": null,
   "metadata": {
    "papermill": {
     "duration": 0.056002,
     "end_time": "2020-09-08T18:55:11.629972",
     "exception": false,
     "start_time": "2020-09-08T18:55:11.573970",
     "status": "completed"
    },
    "tags": []
   },
   "source": [
    "Заменим значения на категории. Создание dummy-переменных сделаем после EDA"
   ]
  },
  {
   "cell_type": "code",
   "execution_count": 63,
   "metadata": {
    "execution": {
     "iopub.execute_input": "2020-09-08T18:55:11.753572Z",
     "iopub.status.busy": "2020-09-08T18:55:11.752442Z",
     "iopub.status.idle": "2020-09-08T18:55:12.400260Z",
     "shell.execute_reply": "2020-09-08T18:55:12.399557Z"
    },
    "papermill": {
     "duration": 0.713246,
     "end_time": "2020-09-08T18:55:12.400425",
     "exception": false,
     "start_time": "2020-09-08T18:55:11.687179",
     "status": "completed"
    },
    "tags": []
   },
   "outputs": [],
   "source": [
    "# Создадим 3 категории рангов\n",
    "def cat_rank(x):\n",
    "    if x < 1093: x = 'high'\n",
    "    elif 1093 <= x <= 18000: x = 'middle'\n",
    "    elif 18000 < x: x = 'low'\n",
    "    return x      \n",
    "\n",
    "# Заменим значения в столбце на категории\n",
    "df['rank'] = df['rank'].apply(lambda x: cat_rank(x))"
   ]
  },
  {
   "cell_type": "markdown",
   "execution_count": null,
   "metadata": {
    "papermill": {
     "duration": 0.057777,
     "end_time": "2020-09-08T18:55:12.542520",
     "exception": false,
     "start_time": "2020-09-08T18:55:12.484743",
     "status": "completed"
    },
    "tags": []
   },
   "source": [
    "## also_view"
   ]
  },
  {
   "cell_type": "code",
   "execution_count": 64,
   "metadata": {
    "execution": {
     "iopub.execute_input": "2020-09-08T18:55:12.668289Z",
     "iopub.status.busy": "2020-09-08T18:55:12.667110Z",
     "iopub.status.idle": "2020-09-08T18:55:12.672549Z",
     "shell.execute_reply": "2020-09-08T18:55:12.671757Z"
    },
    "papermill": {
     "duration": 0.071755,
     "end_time": "2020-09-08T18:55:12.672691",
     "exception": false,
     "start_time": "2020-09-08T18:55:12.600936",
     "status": "completed"
    },
    "tags": []
   },
   "outputs": [
    {
     "data": {
      "text/plain": [
       "['B006K3UC86', 'B000WGB3OY']"
      ]
     },
     "execution_count": 64,
     "metadata": {},
     "output_type": "execute_result"
    }
   ],
   "source": [
    "df.also_view[127]"
   ]
  },
  {
   "cell_type": "markdown",
   "execution_count": null,
   "metadata": {
    "papermill": {
     "duration": 0.05694,
     "end_time": "2020-09-08T18:55:12.787646",
     "exception": false,
     "start_time": "2020-09-08T18:55:12.730706",
     "status": "completed"
    },
    "tags": []
   },
   "source": [
    "Видим список других товаров в виде asin."
   ]
  },
  {
   "cell_type": "markdown",
   "execution_count": null,
   "metadata": {
    "papermill": {
     "duration": 0.065168,
     "end_time": "2020-09-08T18:55:12.910698",
     "exception": false,
     "start_time": "2020-09-08T18:55:12.845530",
     "status": "completed"
    },
    "tags": []
   },
   "source": [
    "В качестве идеи: \n",
    "* так же как мы делали для категорий, посчитать количество упоминаний каждого товара\n",
    "* сделать числовой признак in_also_view, в котором будет указано, сколько каждый товар упоминается в других товарах в also_view\n",
    "\n",
    "* сделать как с категориями - dummy-переменные для само часто упоминаемых в also_view товарах\n",
    "\n",
    "Однако мы уже явно выбиваемся за отведенные на задание 8 часов. Удалим признак."
   ]
  },
  {
   "cell_type": "code",
   "execution_count": 65,
   "metadata": {
    "execution": {
     "iopub.execute_input": "2020-09-08T18:55:13.038922Z",
     "iopub.status.busy": "2020-09-08T18:55:13.036440Z",
     "iopub.status.idle": "2020-09-08T18:55:14.150880Z",
     "shell.execute_reply": "2020-09-08T18:55:14.151479Z"
    },
    "papermill": {
     "duration": 1.183434,
     "end_time": "2020-09-08T18:55:14.151687",
     "exception": false,
     "start_time": "2020-09-08T18:55:12.968253",
     "status": "completed"
    },
    "tags": []
   },
   "outputs": [],
   "source": [
    "df = df.drop(['also_view'], axis = 1)"
   ]
  },
  {
   "cell_type": "markdown",
   "execution_count": null,
   "metadata": {
    "papermill": {
     "duration": 0.057862,
     "end_time": "2020-09-08T18:55:14.267763",
     "exception": false,
     "start_time": "2020-09-08T18:55:14.209901",
     "status": "completed"
    },
    "tags": []
   },
   "source": [
    "## main_cat"
   ]
  },
  {
   "cell_type": "code",
   "execution_count": 66,
   "metadata": {
    "execution": {
     "iopub.execute_input": "2020-09-08T18:55:14.492977Z",
     "iopub.status.busy": "2020-09-08T18:55:14.492114Z",
     "iopub.status.idle": "2020-09-08T18:55:15.139193Z",
     "shell.execute_reply": "2020-09-08T18:55:15.138332Z"
    },
    "papermill": {
     "duration": 0.814233,
     "end_time": "2020-09-08T18:55:15.139337",
     "exception": false,
     "start_time": "2020-09-08T18:55:14.325104",
     "status": "completed"
    },
    "tags": []
   },
   "outputs": [
    {
     "name": "stdout",
     "output_type": "stream",
     "text": [
      "Количество пропусков: 955,\n",
      "count      846638\n",
      "unique         17\n",
      "top       Grocery\n",
      "freq       802613\n",
      "Name: main_cat, dtype: object,\n",
      "Распределение:\n",
      "Grocery                      802613\n",
      "Health & Personal Care        31705\n",
      "Amazon Home                    7383\n",
      "All Beauty                     1522\n",
      "Sports & Outdoors              1322\n",
      "Industrial & Scientific         902\n",
      "Office Products                 631\n",
      "Toys & Games                    304\n",
      "Pet Supplies                    125\n",
      "Tools & Home Improvement         53\n",
      "Baby                             34\n",
      "Arts, Crafts & Sewing            19\n",
      "Home Audio & Theater              9\n",
      "Camera & Photo                    8\n",
      "Musical Instruments               3\n",
      "Software                          3\n",
      "Cell Phones & Accessories         2\n",
      "Name: main_cat, dtype: int64,\n"
     ]
    }
   ],
   "source": [
    "col_info(df.main_cat)"
   ]
  },
  {
   "cell_type": "markdown",
   "execution_count": null,
   "metadata": {
    "papermill": {
     "duration": 0.056737,
     "end_time": "2020-09-08T18:55:15.253335",
     "exception": false,
     "start_time": "2020-09-08T18:55:15.196598",
     "status": "completed"
    },
    "tags": []
   },
   "source": [
    "Избавимся от пропусков. dummy-переменные для категорий создадим после EDA."
   ]
  },
  {
   "cell_type": "code",
   "execution_count": 67,
   "metadata": {
    "execution": {
     "iopub.execute_input": "2020-09-08T18:55:15.477152Z",
     "iopub.status.busy": "2020-09-08T18:55:15.476315Z",
     "iopub.status.idle": "2020-09-08T18:55:15.533685Z",
     "shell.execute_reply": "2020-09-08T18:55:15.532926Z"
    },
    "papermill": {
     "duration": 0.223841,
     "end_time": "2020-09-08T18:55:15.533825",
     "exception": false,
     "start_time": "2020-09-08T18:55:15.309984",
     "status": "completed"
    },
    "tags": []
   },
   "outputs": [],
   "source": [
    "# Заменим пропуски на категорию \"Other\"\n",
    "df.main_cat = df.main_cat.fillna('Other')"
   ]
  },
  {
   "cell_type": "markdown",
   "execution_count": null,
   "metadata": {
    "papermill": {
     "duration": 0.056376,
     "end_time": "2020-09-08T18:55:15.647024",
     "exception": false,
     "start_time": "2020-09-08T18:55:15.590648",
     "status": "completed"
    },
    "tags": []
   },
   "source": [
    "## price"
   ]
  },
  {
   "cell_type": "code",
   "execution_count": 68,
   "metadata": {
    "execution": {
     "iopub.execute_input": "2020-09-08T18:55:15.854427Z",
     "iopub.status.busy": "2020-09-08T18:55:15.853186Z",
     "iopub.status.idle": "2020-09-08T18:55:16.427339Z",
     "shell.execute_reply": "2020-09-08T18:55:16.426405Z"
    },
    "papermill": {
     "duration": 0.723434,
     "end_time": "2020-09-08T18:55:16.427539",
     "exception": false,
     "start_time": "2020-09-08T18:55:15.704105",
     "status": "completed"
    },
    "tags": []
   },
   "outputs": [
    {
     "name": "stdout",
     "output_type": "stream",
     "text": [
      "Количество пропусков: 258621,\n",
      "count     588972\n",
      "unique      4601\n",
      "top       $14.99\n",
      "freq       14241\n",
      "Name: price, dtype: object,\n",
      "Распределение:\n",
      "$14.99              14241\n",
      "$13.67              10660\n",
      "$19.99               9043\n",
      "$14.79               5632\n",
      "$15.53               5561\n",
      "                    ...  \n",
      "$92.52                  2\n",
      "$44.14                  1\n",
      "$6.93                   1\n",
      "$35.16                  1\n",
      "$19.99 - $295.00        1\n",
      "Name: price, Length: 4601, dtype: int64,\n"
     ]
    }
   ],
   "source": [
    "col_info(df.price)"
   ]
  },
  {
   "cell_type": "markdown",
   "execution_count": null,
   "metadata": {
    "papermill": {
     "duration": 0.057802,
     "end_time": "2020-09-08T18:55:16.544680",
     "exception": false,
     "start_time": "2020-09-08T18:55:16.486878",
     "status": "completed"
    },
    "tags": []
   },
   "source": [
    "У нас довольно много пропусков и есть диапозоны цен, например 19.99-295.00.\n",
    "Заменим такие значения и пропуски на среднее значение.\n",
    "Чтобы найти среднее значение, создадим вспомогательный датасет, удалим в нем пропуски в столбце price и посчитаем среднее."
   ]
  },
  {
   "cell_type": "code",
   "execution_count": 69,
   "metadata": {
    "execution": {
     "iopub.execute_input": "2020-09-08T18:55:16.673324Z",
     "iopub.status.busy": "2020-09-08T18:55:16.672447Z",
     "iopub.status.idle": "2020-09-08T18:55:20.027441Z",
     "shell.execute_reply": "2020-09-08T18:55:20.028489Z"
    },
    "papermill": {
     "duration": 3.424836,
     "end_time": "2020-09-08T18:55:20.028724",
     "exception": false,
     "start_time": "2020-09-08T18:55:16.603888",
     "status": "completed"
    },
    "tags": []
   },
   "outputs": [
    {
     "name": "stdout",
     "output_type": "stream",
     "text": [
      "Количество пропусков: 0,\n",
      "count    585001.000000\n",
      "mean       2069.952270\n",
      "std        1754.135664\n",
      "min           1.000000\n",
      "25%        1155.000000\n",
      "50%        1691.000000\n",
      "75%        2599.000000\n",
      "max       99900.000000\n",
      "Name: price, dtype: float64,\n",
      "Распределение:\n",
      "1499.0    14241\n",
      "1367.0    10660\n",
      "1999.0     9043\n",
      "1479.0     5632\n",
      "1553.0     5561\n",
      "          ...  \n",
      "2504.0        2\n",
      "2848.0        2\n",
      "693.0         1\n",
      "4414.0        1\n",
      "3516.0        1\n",
      "Name: price, Length: 4527, dtype: int64,\n"
     ]
    }
   ],
   "source": [
    "# Скопируем датасет\n",
    "df_price = df.copy()\n",
    "# Избавимся от пропусков\n",
    "df_price = df_price[df_price.price.isna() == False]\n",
    "df_price = df_price[df_price.price != '']\n",
    "# Приведем все к str\n",
    "df_price['price'] = df_price['price'].astype('str')\n",
    "# Удалим все значения кроме числовых\n",
    "df_price['price'] = df_price['price'].apply(lambda x: re.sub('\\D', '', x))\n",
    "# Переведем во float\n",
    "df_price['price'] = df_price['price'].astype('float')\n",
    "# Удалим все, что дороже 9999$ т.к. это, скорее всего, ошибка\n",
    "df_price = df_price[df_price.price < 999999]\n",
    "# Посмотрим на результат\n",
    "col_info(df_price.price)"
   ]
  },
  {
   "cell_type": "markdown",
   "execution_count": null,
   "metadata": {
    "papermill": {
     "duration": 0.057064,
     "end_time": "2020-09-08T18:55:20.145549",
     "exception": false,
     "start_time": "2020-09-08T18:55:20.088485",
     "status": "completed"
    },
    "tags": []
   },
   "source": [
    "На вид все ОК. Теперь мы можем сделать похожую процедуру для основного датасета, заменив нулевые значения и диапазоны цен на среднюю цену."
   ]
  },
  {
   "cell_type": "code",
   "execution_count": 70,
   "metadata": {
    "execution": {
     "iopub.execute_input": "2020-09-08T18:55:20.274547Z",
     "iopub.status.busy": "2020-09-08T18:55:20.273687Z",
     "iopub.status.idle": "2020-09-08T18:55:24.356679Z",
     "shell.execute_reply": "2020-09-08T18:55:24.357480Z"
    },
    "papermill": {
     "duration": 4.153111,
     "end_time": "2020-09-08T18:55:24.357734",
     "exception": false,
     "start_time": "2020-09-08T18:55:20.204623",
     "status": "completed"
    },
    "tags": []
   },
   "outputs": [
    {
     "name": "stdout",
     "output_type": "stream",
     "text": [
      "Количество пропусков: 0,\n",
      "count    847593.000000\n",
      "mean       2069.967057\n",
      "std        1457.295712\n",
      "min           1.000000\n",
      "25%        1398.000000\n",
      "50%        2070.000000\n",
      "75%        2112.000000\n",
      "max       99900.000000\n",
      "Name: price, dtype: float64,\n",
      "Распределение:\n",
      "2070    262805\n",
      "1499     14241\n",
      "1367     10660\n",
      "1999      9043\n",
      "1479      5632\n",
      "         ...  \n",
      "3552         2\n",
      "4906         2\n",
      "693          1\n",
      "3516         1\n",
      "4414         1\n",
      "Name: price, Length: 4527, dtype: int64,\n"
     ]
    }
   ],
   "source": [
    "# Чтобы каждый раз не считать среднее значение, используем переменную\n",
    "df_price_mean = df_price.price.mean()\n",
    "# Приведем все к str\n",
    "df['price'] = df['price'].astype('str')\n",
    "# Удалим все значения кроме числовых\n",
    "df['price'] = df['price'].apply(lambda x: re.sub('\\D', '', x))\n",
    "# Заменим пропуски на среднее значение\n",
    "df['price'] = df['price'].apply(lambda x: round(df_price_mean, 0) if x == '' else x)\n",
    "# Приведем к float\n",
    "df['price'] = df['price'].astype('float')\n",
    "# Заменим большие значения на средние\n",
    "df['price'] = df['price'].apply(lambda x: round(df_price_mean, 0) if x > 999999 else x)\n",
    "# Приведем к int32\n",
    "df['price'] = df['price'].astype('int32')\n",
    "# Смотрим на результат\n",
    "col_info(df.price)"
   ]
  },
  {
   "cell_type": "markdown",
   "execution_count": null,
   "metadata": {
    "papermill": {
     "duration": 0.057006,
     "end_time": "2020-09-08T18:55:24.473436",
     "exception": false,
     "start_time": "2020-09-08T18:55:24.416430",
     "status": "completed"
    },
    "tags": []
   },
   "source": [
    "Поделим цены на 3 категории и создадим dummy-переменные"
   ]
  },
  {
   "cell_type": "code",
   "execution_count": 71,
   "metadata": {
    "execution": {
     "iopub.execute_input": "2020-09-08T18:55:24.598002Z",
     "iopub.status.busy": "2020-09-08T18:55:24.597083Z",
     "iopub.status.idle": "2020-09-08T18:55:25.209259Z",
     "shell.execute_reply": "2020-09-08T18:55:25.208377Z"
    },
    "papermill": {
     "duration": 0.677923,
     "end_time": "2020-09-08T18:55:25.209408",
     "exception": false,
     "start_time": "2020-09-08T18:55:24.531485",
     "status": "completed"
    },
    "tags": []
   },
   "outputs": [],
   "source": [
    "def cat_price(x):\n",
    "    if x < 1397: x = 'low'\n",
    "    elif 1397 <= x <= 2099: x = 'middle'\n",
    "    elif 2099 < x: x = 'high'\n",
    "    return x      \n",
    "\n",
    "df['price'] = df['price'].apply(lambda x: cat_price(x))"
   ]
  },
  {
   "cell_type": "markdown",
   "execution_count": null,
   "metadata": {
    "papermill": {
     "duration": 0.057292,
     "end_time": "2020-09-08T18:55:25.324303",
     "exception": false,
     "start_time": "2020-09-08T18:55:25.267011",
     "status": "completed"
    },
    "tags": []
   },
   "source": [
    "Cоздадим dummy-переменные после EDA"
   ]
  },
  {
   "cell_type": "markdown",
   "execution_count": null,
   "metadata": {
    "papermill": {
     "duration": 0.057575,
     "end_time": "2020-09-08T18:55:25.439404",
     "exception": false,
     "start_time": "2020-09-08T18:55:25.381829",
     "status": "completed"
    },
    "tags": []
   },
   "source": [
    "## also_buy"
   ]
  },
  {
   "cell_type": "code",
   "execution_count": 72,
   "metadata": {
    "execution": {
     "iopub.execute_input": "2020-09-08T18:55:25.562284Z",
     "iopub.status.busy": "2020-09-08T18:55:25.561301Z",
     "iopub.status.idle": "2020-09-08T18:55:25.565213Z",
     "shell.execute_reply": "2020-09-08T18:55:25.566037Z"
    },
    "papermill": {
     "duration": 0.068997,
     "end_time": "2020-09-08T18:55:25.566271",
     "exception": false,
     "start_time": "2020-09-08T18:55:25.497274",
     "status": "completed"
    },
    "tags": []
   },
   "outputs": [
    {
     "name": "stdout",
     "output_type": "stream",
     "text": [
      "['B001FBKO4U', 'B00BJ9URYA', 'B00451ZJB0', 'B0017TMTFM', 'B005H0H6VO', 'B003VTLR5Y', 'B004AJNTTG', 'B00281PIBA', 'B009GJFBOG', 'B00ESMAR4K', 'B0797BZK8L', 'B0030LILPM', 'B00284TRPA', 'B00FZW1B3I', 'B008YX9DBM', 'B000YUOY30', 'B07D83WGWN', 'B079TR46SP', 'B00I5I2ZYI', 'B00006IDJX', 'B00WT4ZC12', 'B00286KM8E', 'B00CAC6XBG', 'B002W90JJY', 'B01N65U0R6', 'B004JUZ502', 'B00GEG40KA', 'B076D91YKH', 'B0010XVRXK', 'B001UBLV1K', 'B00IZC4ZJC', 'B00BKUULEO', 'B0023XKXEA', 'B079K6ZQMJ', 'B00KO3O1BC', 'B00HT91ZPY', 'B00F2PD92O', 'B00BFUFYZK', 'B007JKN0R4', 'B01FF96B94', 'B072DVZRN1', 'B01N6CKOXH', 'B007ZNE5WE', 'B00UII9OEC', 'B0040ZFAQ0', 'B0040ZOVTW', 'B0019QW0CU', 'B00284TOOY', 'B002SQJI98', 'B076MBL7PS', 'B071HM5WC9', 'B004NG8DFQ', 'B00ICT73A6', 'B01LYHE49W', 'B004E2O5T2', 'B008GVJ9S4', 'B00196T0LE', 'B00O3IQJ2I', 'B008O7LUQY', 'B0745HFZLV', 'B076TP8D8X', 'B0016BS29S', 'B001IZG8D4', 'B00XTS39EE', 'B00J0EKV3I', 'B01IPCE0A0', 'B0038ZWUKC', 'B000FOIYS6', 'B0040ZFRSQ', 'B00F2PCKQK', 'B001GM60LE', 'B072FVQNWM', 'B00QSR9PRI', 'B001FA1KJO', 'B003ODXI86', 'B002UQSSHO', 'B004YK2KSM', 'B010OVK234', 'B009LT7LT4', 'B008P731LK', 'B001FVPAOE', 'B005IP06PG', 'B00F3SQBVQ', 'B00HS6FSBA', 'B06XQ2K9TZ', 'B00NGWYBGS', 'B0085SN7J0', 'B0006SW71G', 'B072LVBJHF', 'B008R6LOBS', 'B0018191SM', 'B0040ZOVQA', 'B001E4S6TI', 'B00PPLXMZO']\n"
     ]
    }
   ],
   "source": [
    "print(df.also_buy[25])"
   ]
  },
  {
   "cell_type": "markdown",
   "execution_count": null,
   "metadata": {
    "papermill": {
     "duration": 0.057038,
     "end_time": "2020-09-08T18:55:25.681501",
     "exception": false,
     "start_time": "2020-09-08T18:55:25.624463",
     "status": "completed"
    },
    "tags": []
   },
   "source": [
    "аналогично also_view. Есть идеи, что с этим сделать, но уже давно пора переходить к следующим этапам. Пока что удалим."
   ]
  },
  {
   "cell_type": "code",
   "execution_count": 73,
   "metadata": {
    "execution": {
     "iopub.execute_input": "2020-09-08T18:55:25.804903Z",
     "iopub.status.busy": "2020-09-08T18:55:25.804055Z",
     "iopub.status.idle": "2020-09-08T18:55:26.392078Z",
     "shell.execute_reply": "2020-09-08T18:55:26.391345Z"
    },
    "papermill": {
     "duration": 0.652496,
     "end_time": "2020-09-08T18:55:26.392240",
     "exception": false,
     "start_time": "2020-09-08T18:55:25.739744",
     "status": "completed"
    },
    "tags": []
   },
   "outputs": [],
   "source": [
    "df = df.drop(['also_buy'], axis = 1)"
   ]
  },
  {
   "cell_type": "markdown",
   "execution_count": null,
   "metadata": {
    "papermill": {
     "duration": 0.057525,
     "end_time": "2020-09-08T18:55:26.507765",
     "exception": false,
     "start_time": "2020-09-08T18:55:26.450240",
     "status": "completed"
    },
    "tags": []
   },
   "source": [
    "## image_y"
   ]
  },
  {
   "cell_type": "code",
   "execution_count": 74,
   "metadata": {
    "execution": {
     "iopub.execute_input": "2020-09-08T18:55:26.631648Z",
     "iopub.status.busy": "2020-09-08T18:55:26.630592Z",
     "iopub.status.idle": "2020-09-08T18:55:26.635396Z",
     "shell.execute_reply": "2020-09-08T18:55:26.634705Z"
    },
    "papermill": {
     "duration": 0.069499,
     "end_time": "2020-09-08T18:55:26.635532",
     "exception": false,
     "start_time": "2020-09-08T18:55:26.566033",
     "status": "completed"
    },
    "tags": []
   },
   "outputs": [
    {
     "data": {
      "text/plain": [
       "['https://images-na.ssl-images-amazon.com/images/I/51gJ78gwiuL._SS40_.jpg',\n",
       " 'https://images-na.ssl-images-amazon.com/images/I/51Atu6eGDGL._SS40_.jpg',\n",
       " 'https://images-na.ssl-images-amazon.com/images/I/51IVforY1EL._SS40_.jpg',\n",
       " 'https://images-na.ssl-images-amazon.com/images/I/51TVXVBrfbL._SS40_.jpg',\n",
       " 'https://images-na.ssl-images-amazon.com/images/I/51Prc170IBL._SS40_.jpg',\n",
       " 'https://images-na.ssl-images-amazon.com/images/I/316wiuQhBFL._SS40_.jpg']"
      ]
     },
     "execution_count": 74,
     "metadata": {},
     "output_type": "execute_result"
    }
   ],
   "source": [
    "df.image_y[0]"
   ]
  },
  {
   "cell_type": "markdown",
   "execution_count": null,
   "metadata": {
    "papermill": {
     "duration": 0.057477,
     "end_time": "2020-09-08T18:55:26.750454",
     "exception": false,
     "start_time": "2020-09-08T18:55:26.692977",
     "status": "completed"
    },
    "tags": []
   },
   "source": [
    "Картинки - удаляем"
   ]
  },
  {
   "cell_type": "code",
   "execution_count": 75,
   "metadata": {
    "execution": {
     "iopub.execute_input": "2020-09-08T18:55:26.884402Z",
     "iopub.status.busy": "2020-09-08T18:55:26.883345Z",
     "iopub.status.idle": "2020-09-08T18:55:27.068975Z",
     "shell.execute_reply": "2020-09-08T18:55:27.068130Z"
    },
    "papermill": {
     "duration": 0.260442,
     "end_time": "2020-09-08T18:55:27.069114",
     "exception": false,
     "start_time": "2020-09-08T18:55:26.808672",
     "status": "completed"
    },
    "tags": []
   },
   "outputs": [],
   "source": [
    "df = df.drop(['image_y'], axis = 1)"
   ]
  },
  {
   "cell_type": "markdown",
   "execution_count": null,
   "metadata": {
    "papermill": {
     "duration": 0.059806,
     "end_time": "2020-09-08T18:55:27.187255",
     "exception": false,
     "start_time": "2020-09-08T18:55:27.127449",
     "status": "completed"
    },
    "tags": []
   },
   "source": [
    "## date"
   ]
  },
  {
   "cell_type": "code",
   "execution_count": 76,
   "metadata": {
    "execution": {
     "iopub.execute_input": "2020-09-08T18:55:27.355353Z",
     "iopub.status.busy": "2020-09-08T18:55:27.354146Z",
     "iopub.status.idle": "2020-09-08T18:55:27.582815Z",
     "shell.execute_reply": "2020-09-08T18:55:27.583484Z"
    },
    "papermill": {
     "duration": 0.338235,
     "end_time": "2020-09-08T18:55:27.583685",
     "exception": false,
     "start_time": "2020-09-08T18:55:27.245450",
     "status": "completed"
    },
    "tags": []
   },
   "outputs": [
    {
     "name": "stdout",
     "output_type": "stream",
     "text": [
      "Количество пропусков: 835506,\n",
      "count               12087\n",
      "unique                417\n",
      "top       January 1, 2006\n",
      "freq                  561\n",
      "Name: date, dtype: object,\n",
      "Распределение:\n",
      "January 1, 2006      561\n",
      "May 5, 2003          428\n",
      "October 29, 2003     424\n",
      "January 7, 2008      372\n",
      "March 10, 2004       294\n",
      "                    ... \n",
      "December 22, 2007      2\n",
      "August 2, 2008         2\n",
      "February 21, 2015      1\n",
      "January 18, 2008       1\n",
      "February 13, 2008      1\n",
      "Name: date, Length: 417, dtype: int64,\n"
     ]
    }
   ],
   "source": [
    "col_info(df.date)"
   ]
  },
  {
   "cell_type": "markdown",
   "execution_count": null,
   "metadata": {
    "papermill": {
     "duration": 0.058349,
     "end_time": "2020-09-08T18:55:27.700970",
     "exception": false,
     "start_time": "2020-09-08T18:55:27.642621",
     "status": "completed"
    },
    "tags": []
   },
   "source": [
    "Очень много пропусков, удаляем"
   ]
  },
  {
   "cell_type": "code",
   "execution_count": 77,
   "metadata": {
    "execution": {
     "iopub.execute_input": "2020-09-08T18:55:27.902316Z",
     "iopub.status.busy": "2020-09-08T18:55:27.901422Z",
     "iopub.status.idle": "2020-09-08T18:55:28.049289Z",
     "shell.execute_reply": "2020-09-08T18:55:28.048604Z"
    },
    "papermill": {
     "duration": 0.223445,
     "end_time": "2020-09-08T18:55:28.049453",
     "exception": false,
     "start_time": "2020-09-08T18:55:27.826008",
     "status": "completed"
    },
    "tags": []
   },
   "outputs": [],
   "source": [
    "df = df.drop(['date'], axis = 1)"
   ]
  },
  {
   "cell_type": "markdown",
   "execution_count": null,
   "metadata": {
    "papermill": {
     "duration": 0.059239,
     "end_time": "2020-09-08T18:55:28.169672",
     "exception": false,
     "start_time": "2020-09-08T18:55:28.110433",
     "status": "completed"
    },
    "tags": []
   },
   "source": [
    "## feature"
   ]
  },
  {
   "cell_type": "code",
   "execution_count": 78,
   "metadata": {
    "execution": {
     "iopub.execute_input": "2020-09-08T18:55:28.350267Z",
     "iopub.status.busy": "2020-09-08T18:55:28.349400Z",
     "iopub.status.idle": "2020-09-08T18:55:28.356886Z",
     "shell.execute_reply": "2020-09-08T18:55:28.356194Z"
    },
    "papermill": {
     "duration": 0.127064,
     "end_time": "2020-09-08T18:55:28.357021",
     "exception": false,
     "start_time": "2020-09-08T18:55:28.229957",
     "status": "completed"
    },
    "tags": []
   },
   "outputs": [
    {
     "name": "stdout",
     "output_type": "stream",
     "text": [
      "Количество пропусков: 704859,\n"
     ]
    }
   ],
   "source": [
    "print('Количество пропусков: {},'.format(df.feature.isnull().sum()))"
   ]
  },
  {
   "cell_type": "markdown",
   "execution_count": null,
   "metadata": {
    "papermill": {
     "duration": 0.058177,
     "end_time": "2020-09-08T18:55:28.474497",
     "exception": false,
     "start_time": "2020-09-08T18:55:28.416320",
     "status": "completed"
    },
    "tags": []
   },
   "source": [
    "Очень много пропусков, удаляем"
   ]
  },
  {
   "cell_type": "code",
   "execution_count": 79,
   "metadata": {
    "execution": {
     "iopub.execute_input": "2020-09-08T18:55:28.609747Z",
     "iopub.status.busy": "2020-09-08T18:55:28.608941Z",
     "iopub.status.idle": "2020-09-08T18:55:28.762301Z",
     "shell.execute_reply": "2020-09-08T18:55:28.761429Z"
    },
    "papermill": {
     "duration": 0.22892,
     "end_time": "2020-09-08T18:55:28.762448",
     "exception": false,
     "start_time": "2020-09-08T18:55:28.533528",
     "status": "completed"
    },
    "tags": []
   },
   "outputs": [],
   "source": [
    "df = df.drop(['feature'], axis = 1)"
   ]
  },
  {
   "cell_type": "markdown",
   "execution_count": null,
   "metadata": {
    "papermill": {
     "duration": 0.058846,
     "end_time": "2020-09-08T18:55:28.880856",
     "exception": false,
     "start_time": "2020-09-08T18:55:28.822010",
     "status": "completed"
    },
    "tags": []
   },
   "source": [
    "## details"
   ]
  },
  {
   "cell_type": "code",
   "execution_count": 80,
   "metadata": {
    "execution": {
     "iopub.execute_input": "2020-09-08T18:55:29.007969Z",
     "iopub.status.busy": "2020-09-08T18:55:29.007188Z",
     "iopub.status.idle": "2020-09-08T18:55:29.011761Z",
     "shell.execute_reply": "2020-09-08T18:55:29.012380Z"
    },
    "papermill": {
     "duration": 0.072527,
     "end_time": "2020-09-08T18:55:29.012581",
     "exception": false,
     "start_time": "2020-09-08T18:55:28.940054",
     "status": "completed"
    },
    "tags": []
   },
   "outputs": [
    {
     "data": {
      "text/plain": [
       "'\\n\\n\\n\\n\\n\\n    <div class=\"disclaim\">Size: <strong>60-0.73 oz Envelopes</strong></div>\\n\\n\\n\\n\\n          <div class=\"content\">\\n\\n\\n\\n\\n\\n\\n<ul>\\n\\n\\n\\n\\n\\n\\n\\n\\n\\n\\n\\n\\n\\n                                                                                \\n\\n\\n\\n\\n\\n\\n\\n\\n\\n\\n<li><b>Shipping Weight:</b> 3.4 pounds (<a href=\"/gp/help/seller/shipping.html/ref=dp_pd_shipping?ie=UTF8&amp;asin=B006F63M8U&amp;seller=A2QKP54IWSP4U9\">View shipping rates and policies</a>)</li>\\n\\n\\n\\n\\n\\n\\n\\n\\n\\n\\n\\n\\n\\n\\n\\n\\n\\n<li><b>ASIN: </b>B006F63M8U</li>\\n\\n\\n\\n\\n\\n\\n  <li><b>UPC:</b> 070920474373</li>\\n\\n\\n\\n\\n\\n\\n\\n\\n\\n\\n\\n\\n\\n\\n\\n\\n\\n\\n\\n\\n\\n\\n\\n\\n\\n\\n\\n\\n\\n\\n\\n\\n\\n\\n\\n\\n\\n\\n\\n\\n\\n\\n  \\n  \\n\\n\\n\\n\\n\\n\\n\\n\\n\\n\\n\\n\\n\\n\\n\\n\\n\\n\\n\\n\\n\\n\\n\\n\\n\\n\\n\\n<li><b>Average Customer Review:</b> \\n\\n\\n\\n\\n<span class=\"dpProductDetailB006F63M8U\">\\n  <span class=\"a-declarative\" data-action=\"a-popover\" data-a-popover=\"{&quot;closeButton&quot;:&quot;false&quot;,&quot;max-width&quot;:&quot;700&quot;,&quot;position&quot;:&quot;triggerBottom&quot;,&quot;url&quot;:&quot;/review/widgets/average-customer-review/popover/ref=acr_dpproductdetail_popover?ie=UTF8&amp;asin=B006F63M8U&amp;contextId=dpProductDetail&amp;ref=acr_dpproductdetail_popover&quot;}\">\\n    <a href=\"javascript:void(0)\" class=\"a-popover-trigger a-declarative\">\\n      <a class=\"a-link-normal a-text-normal\" href=\"https://www.amazon.com/product-reviews/B006F63M8U/ref=acr_dpproductdetail_text?ie=UTF8&showViewpoints=1\">\\n        <i class=\"a-icon a-icon-star a-star-4-5\"><span class=\"a-icon-alt\">4.4 out of 5 stars</span></i>\\n      </a>\\n    <i class=\"a-icon a-icon-popover\"></i></a>\\n  </span>\\n  <span class=\"a-letter-space\"></span>\\n  <span class=\"a-size-small\">\\n    <a class=\"a-link-normal\" href=\"https://www.amazon.com/product-reviews/B006F63M8U/ref=acr_dpproductdetail_text?ie=UTF8&showViewpoints=1\">\\n      254 customer reviews\\n    </a>\\n  </span>\\n</span>\\n\\n\\n\\n\\n\\n\\n\\n\\n\\n\\n</li>\\n\\n\\n\\n\\n\\n\\n\\n\\n\\n\\n\\n\\n\\n\\n\\n\\n\\n\\n\\n\\n\\n\\n\\n\\n\\n\\n\\n\\n<li id=\"SalesRank\">\\n<b>Amazon Best Sellers Rank:</b> \\n\\n\\n\\n\\n\\n\\n\\n\\n\\n\\n\\n\\n\\n\\n\\n\\n\\n\\n\\n\\n\\n\\n#5,591 in Grocery & Gourmet Food (<a href=\"https://www.amazon.com/gp/bestsellers/grocery/ref=pd_dp_ts_grocery_1\">See Top 100 in Grocery & Gourmet Food</a>)\\n \\n\\n\\n\\n\\n\\n\\n\\n\\n\\n\\n\\n\\n\\n\\n\\n\\n\\n\\n\\n\\n\\n\\n\\n\\n\\n\\n\\n<style type=\"text/css\">\\n.zg_hrsr { margin: 0; padding: 0; list-style-type: none; }\\n.zg_hrsr_item { margin: 0 0 0 10px; }\\n.zg_hrsr_rank { display: inline-block; width: 80px; text-align: right; }\\n</style>\\n\\n<ul class=\"zg_hrsr\">\\n    <li class=\"zg_hrsr_item\">\\n    <span class=\"zg_hrsr_rank\">#21</span>\\n    <span class=\"zg_hrsr_ladder\">in&nbsp;<a href=\"https://www.amazon.com/gp/bestsellers/grocery/ref=pd_zg_hrsr_grocery_1_1\">Grocery & Gourmet Food</a> &gt; <a href=\"https://www.amazon.com/gp/bestsellers/grocery/16310231/ref=pd_zg_hrsr_grocery_1_2\">Beverages</a> &gt; <a href=\"https://www.amazon.com/gp/bestsellers/grocery/16521305011/ref=pd_zg_hrsr_grocery_1_3\">Coffee, Tea & Cocoa</a> &gt; <b><a href=\"https://www.amazon.com/gp/bestsellers/grocery/16318161/ref=pd_zg_hrsr_grocery_1_4_last\">Cocoa</a></b></span>\\n    </li>\\n</ul>\\n\\n</li>\\n\\n\\n\\n\\n\\n\\t\\t\\n\\t\\n\\t\\t\\n\\t\\n\\t\\t\\n\\t\\n\\t\\t\\t\\n\\t\\t\\t\\n\\t\\t\\t\\n     \\t    \\n            \\n            \\n            \\n            \\n            \\n            <P><div class=\"bucket\">    <script>\\n    P.now(\"A\",\"tellMeMoreLinkData\").execute(function(A,tellMeMoreLinkData){\\n        if(typeof tellMeMoreLinkData !== \\'undefined\\'){\\n            A.state(\\'lowerPricePopoverData\\',{\"trigger\":\"ns_836CZERA45JNC8YZEQ51_13581_1_hmd_pricing_feedback_trigger_product-detail\",\"destination\":\"/gp/pdp/pf/pricingFeedbackForm.html/ref=_pfdpb?ie=UTF8&%2AVersion%2A=1&%2Aentries%2A=0&ASIN=B006F63M8U&PREFIX=ns_836CZERA45JNC8YZEQ51_13581_2_&WDG=grocery_display_on_website&dpRequestId=836CZERA45JNC8YZEQ51&from=product-detail&storeID=groceryencodeURI(\\'&originalURI=\\' + window.location.pathname)\",\"url\":\"/gp/pdp/pf/pricingFeedbackForm.html/ref=_pfdpb?ie=UTF8&%2AVersion%2A=1&%2Aentries%2A=0&ASIN=B006F63M8U&PREFIX=ns_836CZERA45JNC8YZEQ51_13581_2_&WDG=grocery_display_on_website&dpRequestId=836CZERA45JNC8YZEQ51&from=product-detail&storeID=grocery\",\"nsPrefix\":\"ns_836CZERA45JNC8YZEQ51_13581_2_\",\"path\":\"encodeURI(\\'&originalURI=\\' + window.location.pathname)\",\"title\":\"Tell Us About a Lower Price\"});\\n            return {\\n                   key:\"pricing-fbW\",\\n                   method: function(){\\n                                     return {\"trigger\":\"ns_836CZERA45JNC8YZEQ51_13581_1_hmd_pricing_feedback_trigger_product-detail\",\"destination\":\"/gp/pdp/pf/pricingFeedbackForm.html/ref=_pfdpb?ie=UTF8&%2AVersion%2A=1&%2Aentries%2A=0&ASIN=B006F63M8U&PREFIX=ns_836CZERA45JNC8YZEQ51_13581_2_&WDG=grocery_display_on_website&dpRequestId=836CZERA45JNC8YZEQ51&from=product-detail&storeID=groceryencodeURI(\\'&originalURI=\\' + window.location.pathname)\",\"url\":\"/gp/pdp/pf/pricingFeedbackForm.html/ref=_pfdpb?ie=UTF8&%2AVersion%2A=1&%2Aentries%2A=0&ASIN=B006F63M8U&PREFIX=ns_836CZERA45JNC8YZEQ51_13581_2_&WDG=grocery_display_on_website&dpRequestId=836CZERA45JNC8YZEQ51&from=product-detail&storeID=grocery\",\"nsPrefix\":\"ns_836CZERA45JNC8YZEQ51_13581_2_\",\"path\":\"encodeURI(\\'&originalURI=\\' + window.location.pathname)\",\"title\":\"Tell Us About a Lower Price\"};\\n                                     }\\n                   }\\n        }\\n        else{\\n                P.when(\"A\").register(\"tellMeMoreLinkData\",function(A){\\n                    A.state(\\'lowerPricePopoverData\\',{\"trigger\":\"ns_836CZERA45JNC8YZEQ51_13581_1_hmd_pricing_feedback_trigger_product-detail\",\"destination\":\"/gp/pdp/pf/pricingFeedbackForm.html/ref=_pfdpb?ie=UTF8&%2AVersion%2A=1&%2Aentries%2A=0&ASIN=B006F63M8U&PREFIX=ns_836CZERA45JNC8YZEQ51_13581_2_&WDG=grocery_display_on_website&dpRequestId=836CZERA45JNC8YZEQ51&from=product-detail&storeID=groceryencodeURI(\\'&originalURI=\\' + window.location.pathname)\",\"url\":\"/gp/pdp/pf/pricingFeedbackForm.html/ref=_pfdpb?ie=UTF8&%2AVersion%2A=1&%2Aentries%2A=0&ASIN=B006F63M8U&PREFIX=ns_836CZERA45JNC8YZEQ51_13581_2_&WDG=grocery_display_on_website&dpRequestId=836CZERA45JNC8YZEQ51&from=product-detail&storeID=grocery\",\"nsPrefix\":\"ns_836CZERA45JNC8YZEQ51_13581_2_\",\"path\":\"encodeURI(\\'&originalURI=\\' + window.location.pathname)\",\"title\":\"Tell Us About a Lower Price\"});\\n                    return {\\n                           key:\"pricing-fbW\",\\n                           method: function(){\\n                                             return {\"trigger\":\"ns_836CZERA45JNC8YZEQ51_13581_1_hmd_pricing_feedback_trigger_product-detail\",\"destination\":\"/gp/pdp/pf/pricingFeedbackForm.html/ref=_pfdpb?ie=UTF8&%2AVersion%2A=1&%2Aentries%2A=0&ASIN=B006F63M8U&PREFIX=ns_836CZERA45JNC8YZEQ51_13581_2_&WDG=grocery_display_on_website&dpRequestId=836CZERA45JNC8YZEQ51&from=product-detail&storeID=groceryencodeURI(\\'&originalURI=\\' + window.location.pathname)\",\"url\":\"/gp/pdp/pf/pricingFeedbackForm.html/ref=_pfdpb?ie=UTF8&%2AVersion%2A=1&%2Aentries%2A=0&ASIN=B006F63M8U&PREFIX=ns_836CZERA45JNC8YZEQ51_13581_2_&WDG=grocery_display_on_website&dpRequestId=836CZERA45JNC8YZEQ51&from=product-detail&storeID=grocery\",\"nsPrefix\":\"ns_836CZERA45JNC8YZEQ51_13581_2_\",\"path\":\"encodeURI(\\'&originalURI=\\' + window.location.pathname)\",\"title\":\"Tell Us About a Lower Price\"};\\n                                             }\\n                           }\\n\\t\\t\\t    });\\n            }\\n    });\\n    </script>\\nWould you like to <b><a href=\"#\" id=\"ns_836CZERA45JNC8YZEQ51_13581_1_hmd_pricing_feedback_trigger_product-detail\">tell us about a lower price</a></b>?</div></P>\\n\\n\\n\\n</ul>\\n</div>\\n    '"
      ]
     },
     "execution_count": 80,
     "metadata": {},
     "output_type": "execute_result"
    }
   ],
   "source": [
    "df.details[25]"
   ]
  },
  {
   "cell_type": "markdown",
   "execution_count": null,
   "metadata": {
    "papermill": {
     "duration": 0.081883,
     "end_time": "2020-09-08T18:55:29.161018",
     "exception": false,
     "start_time": "2020-09-08T18:55:29.079135",
     "status": "completed"
    },
    "tags": []
   },
   "source": [
    "Похоже на информацию, собранную с других колонок. Удалим."
   ]
  },
  {
   "cell_type": "code",
   "execution_count": 81,
   "metadata": {
    "execution": {
     "iopub.execute_input": "2020-09-08T18:55:29.308775Z",
     "iopub.status.busy": "2020-09-08T18:55:29.306249Z",
     "iopub.status.idle": "2020-09-08T18:55:29.421460Z",
     "shell.execute_reply": "2020-09-08T18:55:29.420598Z"
    },
    "papermill": {
     "duration": 0.193249,
     "end_time": "2020-09-08T18:55:29.421606",
     "exception": false,
     "start_time": "2020-09-08T18:55:29.228357",
     "status": "completed"
    },
    "tags": []
   },
   "outputs": [],
   "source": [
    "df = df.drop(['details'], axis = 1)"
   ]
  },
  {
   "cell_type": "markdown",
   "execution_count": null,
   "metadata": {
    "papermill": {
     "duration": 0.059671,
     "end_time": "2020-09-08T18:55:29.541032",
     "exception": false,
     "start_time": "2020-09-08T18:55:29.481361",
     "status": "completed"
    },
    "tags": []
   },
   "source": [
    "## similar_item"
   ]
  },
  {
   "cell_type": "code",
   "execution_count": 82,
   "metadata": {
    "execution": {
     "iopub.execute_input": "2020-09-08T18:55:29.711470Z",
     "iopub.status.busy": "2020-09-08T18:55:29.710637Z",
     "iopub.status.idle": "2020-09-08T18:55:29.717750Z",
     "shell.execute_reply": "2020-09-08T18:55:29.718445Z"
    },
    "papermill": {
     "duration": 0.117731,
     "end_time": "2020-09-08T18:55:29.718640",
     "exception": false,
     "start_time": "2020-09-08T18:55:29.600909",
     "status": "completed"
    },
    "tags": []
   },
   "outputs": [
    {
     "name": "stdout",
     "output_type": "stream",
     "text": [
      "Количество пропусков: 846455,\n"
     ]
    }
   ],
   "source": [
    "print('Количество пропусков: {},'.format(df.similar_item.isnull().sum()))"
   ]
  },
  {
   "cell_type": "markdown",
   "execution_count": null,
   "metadata": {
    "papermill": {
     "duration": 0.058468,
     "end_time": "2020-09-08T18:55:29.836138",
     "exception": false,
     "start_time": "2020-09-08T18:55:29.777670",
     "status": "completed"
    },
    "tags": []
   },
   "source": [
    "Много пропусков. Возможно, отсюда можно что-то достать. Пока удалим."
   ]
  },
  {
   "cell_type": "code",
   "execution_count": 83,
   "metadata": {
    "execution": {
     "iopub.execute_input": "2020-09-08T18:55:29.973071Z",
     "iopub.status.busy": "2020-09-08T18:55:29.972217Z",
     "iopub.status.idle": "2020-09-08T18:55:30.070770Z",
     "shell.execute_reply": "2020-09-08T18:55:30.070012Z"
    },
    "papermill": {
     "duration": 0.17495,
     "end_time": "2020-09-08T18:55:30.070920",
     "exception": false,
     "start_time": "2020-09-08T18:55:29.895970",
     "status": "completed"
    },
    "tags": []
   },
   "outputs": [],
   "source": [
    "df = df.drop(['similar_item'], axis = 1)"
   ]
  },
  {
   "cell_type": "markdown",
   "execution_count": null,
   "metadata": {
    "papermill": {
     "duration": 0.061057,
     "end_time": "2020-09-08T18:55:30.195264",
     "exception": false,
     "start_time": "2020-09-08T18:55:30.134207",
     "status": "completed"
    },
    "tags": []
   },
   "source": [
    "## tech1"
   ]
  },
  {
   "cell_type": "code",
   "execution_count": 84,
   "metadata": {
    "execution": {
     "iopub.execute_input": "2020-09-08T18:55:30.367051Z",
     "iopub.status.busy": "2020-09-08T18:55:30.366242Z",
     "iopub.status.idle": "2020-09-08T18:55:30.373514Z",
     "shell.execute_reply": "2020-09-08T18:55:30.372608Z"
    },
    "papermill": {
     "duration": 0.118436,
     "end_time": "2020-09-08T18:55:30.373851",
     "exception": false,
     "start_time": "2020-09-08T18:55:30.255415",
     "status": "completed"
    },
    "tags": []
   },
   "outputs": [
    {
     "name": "stdout",
     "output_type": "stream",
     "text": [
      "Количество пропусков: 843221,\n"
     ]
    }
   ],
   "source": [
    "print('Количество пропусков: {},'.format(df.tech1.isnull().sum()))"
   ]
  },
  {
   "cell_type": "markdown",
   "execution_count": null,
   "metadata": {
    "papermill": {
     "duration": 0.058724,
     "end_time": "2020-09-08T18:55:30.493361",
     "exception": false,
     "start_time": "2020-09-08T18:55:30.434637",
     "status": "completed"
    },
    "tags": []
   },
   "source": [
    "Много пропусков. Возможно, отсюда можно что-то достать. Пока удалим."
   ]
  },
  {
   "cell_type": "code",
   "execution_count": 85,
   "metadata": {
    "execution": {
     "iopub.execute_input": "2020-09-08T18:55:30.630461Z",
     "iopub.status.busy": "2020-09-08T18:55:30.629537Z",
     "iopub.status.idle": "2020-09-08T18:55:30.716896Z",
     "shell.execute_reply": "2020-09-08T18:55:30.716037Z"
    },
    "papermill": {
     "duration": 0.164319,
     "end_time": "2020-09-08T18:55:30.717040",
     "exception": false,
     "start_time": "2020-09-08T18:55:30.552721",
     "status": "completed"
    },
    "tags": []
   },
   "outputs": [],
   "source": [
    "df = df.drop(['tech1'], axis = 1)"
   ]
  },
  {
   "cell_type": "markdown",
   "execution_count": null,
   "metadata": {
    "papermill": {
     "duration": 0.059027,
     "end_time": "2020-09-08T18:55:30.835678",
     "exception": false,
     "start_time": "2020-09-08T18:55:30.776651",
     "status": "completed"
    },
    "tags": []
   },
   "source": [
    "## fit"
   ]
  },
  {
   "cell_type": "code",
   "execution_count": 86,
   "metadata": {
    "execution": {
     "iopub.execute_input": "2020-09-08T18:55:31.005754Z",
     "iopub.status.busy": "2020-09-08T18:55:31.004851Z",
     "iopub.status.idle": "2020-09-08T18:55:31.230813Z",
     "shell.execute_reply": "2020-09-08T18:55:31.229944Z"
    },
    "papermill": {
     "duration": 0.335515,
     "end_time": "2020-09-08T18:55:31.230994",
     "exception": false,
     "start_time": "2020-09-08T18:55:30.895479",
     "status": "completed"
    },
    "tags": []
   },
   "outputs": [
    {
     "name": "stdout",
     "output_type": "stream",
     "text": [
      "Количество пропусков: 847593,\n",
      "count       0\n",
      "unique      0\n",
      "top       NaN\n",
      "freq      NaN\n",
      "Name: fit, dtype: object,\n",
      "Распределение:\n",
      "Series([], Name: fit, dtype: int64),\n"
     ]
    }
   ],
   "source": [
    "col_info(df.fit)"
   ]
  },
  {
   "cell_type": "code",
   "execution_count": 87,
   "metadata": {
    "execution": {
     "iopub.execute_input": "2020-09-08T18:55:31.370009Z",
     "iopub.status.busy": "2020-09-08T18:55:31.369155Z",
     "iopub.status.idle": "2020-09-08T18:55:31.446663Z",
     "shell.execute_reply": "2020-09-08T18:55:31.445774Z"
    },
    "papermill": {
     "duration": 0.154709,
     "end_time": "2020-09-08T18:55:31.446850",
     "exception": false,
     "start_time": "2020-09-08T18:55:31.292141",
     "status": "completed"
    },
    "tags": []
   },
   "outputs": [],
   "source": [
    "df = df.drop(['fit'], axis = 1)"
   ]
  },
  {
   "cell_type": "markdown",
   "execution_count": null,
   "metadata": {
    "papermill": {
     "duration": 0.059676,
     "end_time": "2020-09-08T18:55:31.567530",
     "exception": false,
     "start_time": "2020-09-08T18:55:31.507854",
     "status": "completed"
    },
    "tags": []
   },
   "source": [
    "## Посмотрим на результат"
   ]
  },
  {
   "cell_type": "code",
   "execution_count": 88,
   "metadata": {
    "execution": {
     "iopub.execute_input": "2020-09-08T18:55:31.693752Z",
     "iopub.status.busy": "2020-09-08T18:55:31.692949Z",
     "iopub.status.idle": "2020-09-08T18:55:32.179043Z",
     "shell.execute_reply": "2020-09-08T18:55:32.178209Z"
    },
    "papermill": {
     "duration": 0.551897,
     "end_time": "2020-09-08T18:55:32.179206",
     "exception": false,
     "start_time": "2020-09-08T18:55:31.627309",
     "status": "completed"
    },
    "tags": []
   },
   "outputs": [
    {
     "name": "stdout",
     "output_type": "stream",
     "text": [
      "<class 'pandas.core.frame.DataFrame'>\n",
      "Int64Index: 847593 entries, 0 to 847592\n",
      "Data columns (total 10 columns):\n",
      " #   Column          Non-Null Count   Dtype  \n",
      "---  ------          --------------   -----  \n",
      " 0   overall         847593 non-null  int32  \n",
      " 1   verified        847593 non-null  int64  \n",
      " 2   unixReviewTime  847593 non-null  object \n",
      " 3   vote            847593 non-null  object \n",
      " 4   userid          847593 non-null  int64  \n",
      " 5   itemid          847593 non-null  int64  \n",
      " 6   rating          847593 non-null  float64\n",
      " 7   rank            847593 non-null  object \n",
      " 8   main_cat        847593 non-null  object \n",
      " 9   price           847593 non-null  object \n",
      "dtypes: float64(1), int32(1), int64(3), object(5)\n",
      "memory usage: 107.9+ MB\n"
     ]
    }
   ],
   "source": [
    "df.info()"
   ]
  },
  {
   "cell_type": "code",
   "execution_count": 89,
   "metadata": {
    "execution": {
     "iopub.execute_input": "2020-09-08T18:55:32.308560Z",
     "iopub.status.busy": "2020-09-08T18:55:32.307525Z",
     "iopub.status.idle": "2020-09-08T18:55:32.312396Z",
     "shell.execute_reply": "2020-09-08T18:55:32.311779Z"
    },
    "papermill": {
     "duration": 0.072888,
     "end_time": "2020-09-08T18:55:32.312545",
     "exception": false,
     "start_time": "2020-09-08T18:55:32.239657",
     "status": "completed"
    },
    "tags": []
   },
   "outputs": [
    {
     "data": {
      "text/plain": [
       "Index(['overall', 'verified', 'unixReviewTime', 'vote', 'userid', 'itemid',\n",
       "       'rating', 'rank', 'main_cat', 'price'],\n",
       "      dtype='object')"
      ]
     },
     "execution_count": 89,
     "metadata": {},
     "output_type": "execute_result"
    }
   ],
   "source": [
    "df.columns"
   ]
  },
  {
   "cell_type": "markdown",
   "execution_count": null,
   "metadata": {
    "papermill": {
     "duration": 0.060107,
     "end_time": "2020-09-08T18:55:32.433101",
     "exception": false,
     "start_time": "2020-09-08T18:55:32.372994",
     "status": "completed"
    },
    "tags": []
   },
   "source": [
    "Мы видим, что осталось обработать 10 категориальных признаков, из которых \n",
    "* 3 шт. (userid, itemid, rating) мы не трогаем\n",
    "* признак overall отсутствует в тестовом датасете\n",
    "* а для остальных 6 (verified, unixReviewTime, vote, rank, main_cat, price) можем сделать dummy-переменные."
   ]
  },
  {
   "cell_type": "markdown",
   "execution_count": null,
   "metadata": {
    "papermill": {
     "duration": 0.060893,
     "end_time": "2020-09-08T18:55:32.553499",
     "exception": false,
     "start_time": "2020-09-08T18:55:32.492606",
     "status": "completed"
    },
    "tags": []
   },
   "source": [
    "# Анализ категориальных признаков"
   ]
  },
  {
   "cell_type": "markdown",
   "execution_count": null,
   "metadata": {
    "papermill": {
     "duration": 0.059553,
     "end_time": "2020-09-08T18:55:32.673595",
     "exception": false,
     "start_time": "2020-09-08T18:55:32.614042",
     "status": "completed"
    },
    "tags": []
   },
   "source": [
    "Все признаки у нас категориальные и использовать корреляционный анализ не получится. Однако можно посмотреть, различаются ли распределения рейтинга в зависимости от значения этих переменных. Это можно сделать, например, с помощью box-plot или KDE-plot (график показывает плотность распределения переменных).\n",
    "\n",
    "Номинативные переменные, которые осталось рассмотреть: ."
   ]
  },
  {
   "cell_type": "code",
   "execution_count": 90,
   "metadata": {
    "execution": {
     "iopub.execute_input": "2020-09-08T18:55:32.800408Z",
     "iopub.status.busy": "2020-09-08T18:55:32.799582Z",
     "iopub.status.idle": "2020-09-08T18:55:33.793646Z",
     "shell.execute_reply": "2020-09-08T18:55:33.792799Z"
    },
    "papermill": {
     "duration": 1.060231,
     "end_time": "2020-09-08T18:55:33.793803",
     "exception": false,
     "start_time": "2020-09-08T18:55:32.733572",
     "status": "completed"
    },
    "tags": []
   },
   "outputs": [],
   "source": [
    "import matplotlib.pyplot as plt\n",
    "import seaborn as sns\n",
    "from itertools import combinations\n",
    "from scipy.stats import ttest_ind"
   ]
  },
  {
   "cell_type": "code",
   "execution_count": 91,
   "metadata": {
    "execution": {
     "iopub.execute_input": "2020-09-08T18:55:33.926219Z",
     "iopub.status.busy": "2020-09-08T18:55:33.925027Z",
     "iopub.status.idle": "2020-09-08T18:55:33.929228Z",
     "shell.execute_reply": "2020-09-08T18:55:33.928452Z"
    },
    "papermill": {
     "duration": 0.074765,
     "end_time": "2020-09-08T18:55:33.929374",
     "exception": false,
     "start_time": "2020-09-08T18:55:33.854609",
     "status": "completed"
    },
    "tags": []
   },
   "outputs": [],
   "source": [
    "def get_boxplot(column):\n",
    "    fig, ax = plt.subplots(figsize = (14, 4))\n",
    "    sns.boxplot(x=column, y='overall', \n",
    "                data=df.loc[df.loc[:, column].isin(df.loc[:, column].value_counts().index[:10])],\n",
    "               ax=ax)\n",
    "    plt.xticks(rotation=45)\n",
    "    ax.set_title('Boxplot for ' + column)\n",
    "    plt.show()"
   ]
  },
  {
   "cell_type": "code",
   "execution_count": 92,
   "metadata": {
    "execution": {
     "iopub.execute_input": "2020-09-08T18:55:34.068714Z",
     "iopub.status.busy": "2020-09-08T18:55:34.067474Z",
     "iopub.status.idle": "2020-09-08T18:55:39.447503Z",
     "shell.execute_reply": "2020-09-08T18:55:39.446666Z"
    },
    "papermill": {
     "duration": 5.456962,
     "end_time": "2020-09-08T18:55:39.447650",
     "exception": false,
     "start_time": "2020-09-08T18:55:33.990688",
     "status": "completed"
    },
    "tags": []
   },
   "outputs": [
    {
     "data": {
      "image/png": "[encoded data removed]",
      "text/plain": [
       "<Figure size 1008x288 with 1 Axes>"
      ]
     },
     "metadata": {
      "needs_background": "light"
     },
     "output_type": "display_data"
    },
    {
     "data": {
      "image/png": "[encoded data removed]",
      "text/plain": [
       "<Figure size 1008x288 with 1 Axes>"
      ]
     },
     "metadata": {
      "needs_background": "light"
     },
     "output_type": "display_data"
    },
    {
     "data": {
      "image/png": "[encoded data removed]",
      "text/plain": [
       "<Figure size 1008x288 with 1 Axes>"
      ]
     },
     "metadata": {
      "needs_background": "light"
     },
     "output_type": "display_data"
    },
    {
     "data": {
      "image/png": "[encoded data removed]",
      "text/plain": [
       "<Figure size 1008x288 with 1 Axes>"
      ]
     },
     "metadata": {
      "needs_background": "light"
     },
     "output_type": "display_data"
    },
    {
     "data": {
      "image/png": "[encoded data removed]",
      "text/plain": [
       "<Figure size 1008x288 with 1 Axes>"
      ]
     },
     "metadata": {
      "needs_background": "light"
     },
     "output_type": "display_data"
    },
    {
     "data": {
      "image/png": "[encoded data removed]",
      "text/plain": [
       "<Figure size 1008x288 with 1 Axes>"
      ]
     },
     "metadata": {
      "needs_background": "light"
     },
     "output_type": "display_data"
    }
   ],
   "source": [
    "for col in ['verified', 'unixReviewTime', 'vote', 'rank', 'main_cat', 'price']:\n",
    "    get_boxplot(col)"
   ]
  },
  {
   "cell_type": "markdown",
   "execution_count": null,
   "metadata": {
    "papermill": {
     "duration": 0.063387,
     "end_time": "2020-09-08T18:55:39.575468",
     "exception": false,
     "start_time": "2020-09-08T18:55:39.512081",
     "status": "completed"
    },
    "tags": []
   },
   "source": [
    "По графикам сильных различий не видно. Однако графики являются лишь вспомогательным инструментом, настоящую значимость различий может помочь распознать статистика. Проверим, есть ли статистическая разница в распределении оценок по номинативным признакам, с помощью теста Стьюдента. Проверим нулевую гипотезу о том, что распределения оценок пользователей по различным параметрам неразличимы:"
   ]
  },
  {
   "cell_type": "code",
   "execution_count": 93,
   "metadata": {
    "execution": {
     "iopub.execute_input": "2020-09-08T18:55:39.715679Z",
     "iopub.status.busy": "2020-09-08T18:55:39.714772Z",
     "iopub.status.idle": "2020-09-08T18:55:39.718643Z",
     "shell.execute_reply": "2020-09-08T18:55:39.717949Z"
    },
    "papermill": {
     "duration": 0.077669,
     "end_time": "2020-09-08T18:55:39.718796",
     "exception": false,
     "start_time": "2020-09-08T18:55:39.641127",
     "status": "completed"
    },
    "tags": []
   },
   "outputs": [],
   "source": [
    "def get_stat_dif(column):\n",
    "    cols = df.loc[:, column].value_counts().index[:10]\n",
    "    combinations_all = list(combinations(cols, 2))\n",
    "    for comb in combinations_all:\n",
    "        if ttest_ind(df.loc[df.loc[:, column] == comb[0], 'overall'], \n",
    "                        df.loc[df.loc[:, column] == comb[1], 'overall']).pvalue \\\n",
    "            <= 0.05/len(combinations_all): # Учли поправку Бонферони\n",
    "            print('Найдены статистически значимые различия для колонки', column)\n",
    "            break"
   ]
  },
  {
   "cell_type": "code",
   "execution_count": 94,
   "metadata": {
    "execution": {
     "iopub.execute_input": "2020-09-08T18:55:39.853686Z",
     "iopub.status.busy": "2020-09-08T18:55:39.852719Z",
     "iopub.status.idle": "2020-09-08T18:55:43.718379Z",
     "shell.execute_reply": "2020-09-08T18:55:43.717602Z"
    },
    "papermill": {
     "duration": 3.936277,
     "end_time": "2020-09-08T18:55:43.718538",
     "exception": false,
     "start_time": "2020-09-08T18:55:39.782261",
     "status": "completed"
    },
    "tags": []
   },
   "outputs": [
    {
     "name": "stdout",
     "output_type": "stream",
     "text": [
      "Найдены статистически значимые различия для колонки verified\n",
      "Найдены статистически значимые различия для колонки unixReviewTime\n",
      "Найдены статистически значимые различия для колонки vote\n",
      "Найдены статистически значимые различия для колонки rank\n",
      "Найдены статистически значимые различия для колонки main_cat\n",
      "Найдены статистически значимые различия для колонки price\n"
     ]
    }
   ],
   "source": [
    "for col in ['verified', 'unixReviewTime', 'vote', 'rank', 'main_cat', 'price']:\n",
    "    get_stat_dif(col)"
   ]
  },
  {
   "cell_type": "markdown",
   "execution_count": null,
   "metadata": {
    "papermill": {
     "duration": 0.062925,
     "end_time": "2020-09-08T18:55:43.844988",
     "exception": false,
     "start_time": "2020-09-08T18:55:43.782063",
     "status": "completed"
    },
    "tags": []
   },
   "source": [
    "Как мы видим, распределение оценок серьезно различается по всем шести параметрам."
   ]
  },
  {
   "cell_type": "markdown",
   "execution_count": null,
   "metadata": {
    "papermill": {
     "duration": 0.0628,
     "end_time": "2020-09-08T18:55:43.971154",
     "exception": false,
     "start_time": "2020-09-08T18:55:43.908354",
     "status": "completed"
    },
    "tags": []
   },
   "source": [
    "Удалим признак overall"
   ]
  },
  {
   "cell_type": "code",
   "execution_count": 95,
   "metadata": {
    "execution": {
     "iopub.execute_input": "2020-09-08T18:55:44.113895Z",
     "iopub.status.busy": "2020-09-08T18:55:44.113019Z",
     "iopub.status.idle": "2020-09-08T18:55:44.187092Z",
     "shell.execute_reply": "2020-09-08T18:55:44.187750Z"
    },
    "papermill": {
     "duration": 0.151332,
     "end_time": "2020-09-08T18:55:44.187946",
     "exception": false,
     "start_time": "2020-09-08T18:55:44.036614",
     "status": "completed"
    },
    "tags": []
   },
   "outputs": [],
   "source": [
    "df = df.drop('overall', axis=1)"
   ]
  },
  {
   "cell_type": "markdown",
   "execution_count": null,
   "metadata": {
    "papermill": {
     "duration": 0.062987,
     "end_time": "2020-09-08T18:55:44.314092",
     "exception": false,
     "start_time": "2020-09-08T18:55:44.251105",
     "status": "completed"
    },
    "tags": []
   },
   "source": [
    "# Создадим dummy-переменные"
   ]
  },
  {
   "cell_type": "markdown",
   "execution_count": null,
   "metadata": {
    "papermill": {
     "duration": 0.063711,
     "end_time": "2020-09-08T18:55:44.441127",
     "exception": false,
     "start_time": "2020-09-08T18:55:44.377416",
     "status": "completed"
    },
    "tags": []
   },
   "source": [
    "Для verified dummy-переменные не нужны т.к. там и так бинарные значения."
   ]
  },
  {
   "cell_type": "code",
   "execution_count": 96,
   "metadata": {
    "execution": {
     "iopub.execute_input": "2020-09-08T18:55:44.577470Z",
     "iopub.status.busy": "2020-09-08T18:55:44.576142Z",
     "iopub.status.idle": "2020-09-08T18:55:44.581148Z",
     "shell.execute_reply": "2020-09-08T18:55:44.580361Z"
    },
    "papermill": {
     "duration": 0.076475,
     "end_time": "2020-09-08T18:55:44.581339",
     "exception": false,
     "start_time": "2020-09-08T18:55:44.504864",
     "status": "completed"
    },
    "tags": []
   },
   "outputs": [
    {
     "data": {
      "text/plain": [
       "\"for column in ['unixReviewTime', 'vote', 'rank', 'main_cat', 'price']:\\n    dummies = pd.get_dummies(df[column], prefix = df[column].name)\\n    # Удаляем исходный столбец и добавляем dummies\\n    df = df.drop(df[column].name, axis=1).join(dummies)\""
      ]
     },
     "execution_count": 96,
     "metadata": {},
     "output_type": "execute_result"
    }
   ],
   "source": [
    "# В процессе изучения документации пришло осознание, что dummy-переменные делать не обязательно, мы будем делать нечто похожее при создании item_features в отдельном ноутбуке.\n",
    "'''for column in ['unixReviewTime', 'vote', 'rank', 'main_cat', 'price']:\n",
    "    dummies = pd.get_dummies(df[column], prefix = df[column].name)\n",
    "    # Удаляем исходный столбец и добавляем dummies\n",
    "    df = df.drop(df[column].name, axis=1).join(dummies)'''"
   ]
  },
  {
   "cell_type": "code",
   "execution_count": 97,
   "metadata": {
    "execution": {
     "iopub.execute_input": "2020-09-08T18:55:44.717929Z",
     "iopub.status.busy": "2020-09-08T18:55:44.716770Z",
     "iopub.status.idle": "2020-09-08T18:55:44.722287Z",
     "shell.execute_reply": "2020-09-08T18:55:44.721607Z"
    },
    "papermill": {
     "duration": 0.076986,
     "end_time": "2020-09-08T18:55:44.722475",
     "exception": false,
     "start_time": "2020-09-08T18:55:44.645489",
     "status": "completed"
    },
    "tags": []
   },
   "outputs": [
    {
     "data": {
      "text/plain": [
       "Index(['verified', 'unixReviewTime', 'vote', 'userid', 'itemid', 'rating',\n",
       "       'rank', 'main_cat', 'price'],\n",
       "      dtype='object')"
      ]
     },
     "execution_count": 97,
     "metadata": {},
     "output_type": "execute_result"
    }
   ],
   "source": [
    "df.columns"
   ]
  },
  {
   "cell_type": "code",
   "execution_count": 98,
   "metadata": {
    "execution": {
     "iopub.execute_input": "2020-09-08T18:55:44.860469Z",
     "iopub.status.busy": "2020-09-08T18:55:44.859375Z",
     "iopub.status.idle": "2020-09-08T18:55:45.346578Z",
     "shell.execute_reply": "2020-09-08T18:55:45.345628Z"
    },
    "papermill": {
     "duration": 0.560551,
     "end_time": "2020-09-08T18:55:45.346755",
     "exception": false,
     "start_time": "2020-09-08T18:55:44.786204",
     "status": "completed"
    },
    "tags": []
   },
   "outputs": [
    {
     "name": "stdout",
     "output_type": "stream",
     "text": [
      "<class 'pandas.core.frame.DataFrame'>\n",
      "Int64Index: 847593 entries, 0 to 847592\n",
      "Data columns (total 9 columns):\n",
      " #   Column          Non-Null Count   Dtype  \n",
      "---  ------          --------------   -----  \n",
      " 0   verified        847593 non-null  int64  \n",
      " 1   unixReviewTime  847593 non-null  object \n",
      " 2   vote            847593 non-null  object \n",
      " 3   userid          847593 non-null  int64  \n",
      " 4   itemid          847593 non-null  int64  \n",
      " 5   rating          847593 non-null  float64\n",
      " 6   rank            847593 non-null  object \n",
      " 7   main_cat        847593 non-null  object \n",
      " 8   price           847593 non-null  object \n",
      "dtypes: float64(1), int64(3), object(5)\n",
      "memory usage: 104.7+ MB\n"
     ]
    }
   ],
   "source": [
    "df.info()"
   ]
  },
  {
   "cell_type": "markdown",
   "execution_count": null,
   "metadata": {
    "papermill": {
     "duration": 0.065314,
     "end_time": "2020-09-08T18:55:45.476866",
     "exception": false,
     "start_time": "2020-09-08T18:55:45.411552",
     "status": "completed"
    },
    "tags": []
   },
   "source": [
    "# Итоги EDA"
   ]
  },
  {
   "cell_type": "markdown",
   "execution_count": null,
   "metadata": {
    "papermill": {
     "duration": 0.065029,
     "end_time": "2020-09-08T18:55:45.606657",
     "exception": false,
     "start_time": "2020-09-08T18:55:45.541628",
     "status": "completed"
    },
    "tags": []
   },
   "source": [
    "Кратко напишем, что мы сделали с каждым признаком:"
   ]
  },
  {
   "cell_type": "markdown",
   "execution_count": null,
   "metadata": {
    "papermill": {
     "duration": 0.064048,
     "end_time": "2020-09-08T18:55:45.735339",
     "exception": false,
     "start_time": "2020-09-08T18:55:45.671291",
     "status": "completed"
    },
    "tags": []
   },
   "source": [
    "*  **overall**         - оценки от 1 до 5. Нет в тестовой выборке, использовали как вспомогательный признак для анализа.\n",
    "*  **verified**        - привели значения к 0 и 1\n",
    "*  **reviewTime**      - удалили признак т.к. есть unixReviewTime\n",
    "*  **asin**            - удалили признак т.к. не использовали, хотя наверное могли бы для also_buy, also_view, similar_item\n",
    "*  **reviewerName**    - удалили т.к. есть userid\n",
    "*  **reviewText**      - выдилили самые часто встречающиеся слова, сделали (все подготовили и закомментировали для скорости) dummy-переменные. Но все оказалось зря т.к. признака нет в тестовой выборке\n",
    "*  **summary**         - удалили т.к. нет в тестовом датасете\n",
    "*  **unixReviewTime**  - сделали 4 категории в зависимости от даты отзыва, сделали dummy-переменные\n",
    "*  **vote**            - сделали 3 категории в зависимости от количества голосов, сделали dummy-переменные\n",
    "*  **style**           - удалили т.к. больше половины пропусков\n",
    "*  **image_x**         - удалили\n",
    "*  **userid**          - оставили для модели\n",
    "*  **itemid**          - оставили для модели\n",
    "*  **rating**          - оставили для модели - целевая переменная\n",
    "*  **category**        - выдилили самые часто встречающиеся категории, сделали (все подготовили и закомментировали для скорости) dummy-переменные\n",
    "*  **description**     - выдилили самые часто встречающиеся слова, сделали (все подготовили и закомментировали для скорости) dummy-переменные\n",
    "*  **title**           - удалили т.к. сильно похож на description\n",
    "*  **brand**           - выдилили самых часто встречающихся производителей, сделали (все подготовили и закомментировали для скорости) dummy-переменные\n",
    "*  **rank**            - сделали 3 категории в зависимости от ранга, сделали dummy-переменные\n",
    "*  **also_view**       - удалили, но наверное можно было бы использовать\n",
    "*  **main_cat**        - сделали dummy-переменные\n",
    "*  **price**           - сделали 3 категории в зависимости от цены, сделали dummy-переменные\n",
    "*  **also_buy**        - удалили, но наверное можно было бы использовать\n",
    "*  **image_y**         - удалили\n",
    "*  **date**            - удалили\n",
    "*  **feature**         - удалили\n",
    "*  **details**         - удалили\n",
    "*  **similar_item**    - удалили, но наверное можно было бы использовать. Много пропусков.\n",
    "*  **tech1**           - удалили\n",
    "*  **fit**             - удалили"
   ]
  },
  {
   "cell_type": "markdown",
   "execution_count": null,
   "metadata": {
    "papermill": {
     "duration": 0.068957,
     "end_time": "2020-09-08T18:55:45.868221",
     "exception": false,
     "start_time": "2020-09-08T18:55:45.799264",
     "status": "completed"
    },
    "tags": []
   },
   "source": [
    "В итоге получили большое количество признаков, которые можем использовать в нашей модели."
   ]
  },
  {
   "cell_type": "markdown",
   "execution_count": null,
   "metadata": {
    "papermill": {
     "duration": 0.066021,
     "end_time": "2020-09-08T18:55:45.999051",
     "exception": false,
     "start_time": "2020-09-08T18:55:45.933030",
     "status": "completed"
    },
    "tags": []
   },
   "source": [
    "# Построение гибридной рекомендательной системы"
   ]
  },
  {
   "cell_type": "markdown",
   "execution_count": null,
   "metadata": {
    "papermill": {
     "duration": 0.065589,
     "end_time": "2020-09-08T18:55:46.130301",
     "exception": false,
     "start_time": "2020-09-08T18:55:46.064712",
     "status": "completed"
    },
    "tags": []
   },
   "source": [
    "Данный раздел вынесли в отдельный ноутбук т.к. добавление фичей результат не улучшило\n",
    "https://www.kaggle.com/fedorazarov/project-20-group-1-fa"
   ]
  },
  {
   "cell_type": "markdown",
   "execution_count": null,
   "metadata": {
    "papermill": {
     "duration": 0.063228,
     "end_time": "2020-09-08T18:55:46.258225",
     "exception": false,
     "start_time": "2020-09-08T18:55:46.194997",
     "status": "completed"
    },
    "tags": []
   },
   "source": [
    "# Предсказания без использования фичей"
   ]
  },
  {
   "cell_type": "code",
   "execution_count": 99,
   "metadata": {
    "execution": {
     "iopub.execute_input": "2020-09-08T18:55:46.393512Z",
     "iopub.status.busy": "2020-09-08T18:55:46.392656Z",
     "iopub.status.idle": "2020-09-08T18:55:46.515326Z",
     "shell.execute_reply": "2020-09-08T18:55:46.514563Z"
    },
    "papermill": {
     "duration": 0.193526,
     "end_time": "2020-09-08T18:55:46.515469",
     "exception": false,
     "start_time": "2020-09-08T18:55:46.321943",
     "status": "completed"
    },
    "tags": []
   },
   "outputs": [],
   "source": [
    "import scipy.sparse as sparse\n",
    "\n",
    "from lightfm import LightFM\n",
    "from lightfm.cross_validation import random_train_test_split\n",
    "from lightfm.evaluation import auc_score, precision_at_k, recall_at_k\n",
    "import sklearn\n",
    "from sklearn.model_selection import train_test_split\n",
    "\n",
    "import scipy.sparse as sparse"
   ]
  },
  {
   "cell_type": "markdown",
   "execution_count": null,
   "metadata": {
    "papermill": {
     "duration": 0.063847,
     "end_time": "2020-09-08T18:55:46.643910",
     "exception": false,
     "start_time": "2020-09-08T18:55:46.580063",
     "status": "completed"
    },
    "tags": []
   },
   "source": [
    "Разделим тренировочный датасет на тренировочную и тестовую выборки"
   ]
  },
  {
   "cell_type": "code",
   "execution_count": 100,
   "metadata": {
    "execution": {
     "iopub.execute_input": "2020-09-08T18:55:46.780045Z",
     "iopub.status.busy": "2020-09-08T18:55:46.778819Z",
     "iopub.status.idle": "2020-09-08T18:55:48.101377Z",
     "shell.execute_reply": "2020-09-08T18:55:48.102089Z"
    },
    "papermill": {
     "duration": 1.393897,
     "end_time": "2020-09-08T18:55:48.102321",
     "exception": false,
     "start_time": "2020-09-08T18:55:46.708424",
     "status": "completed"
    },
    "tags": []
   },
   "outputs": [],
   "source": [
    "train_data, test_data = train_test_split(train,random_state=32, shuffle=True)"
   ]
  },
  {
   "cell_type": "markdown",
   "execution_count": null,
   "metadata": {
    "papermill": {
     "duration": 0.06329,
     "end_time": "2020-09-08T18:55:48.232730",
     "exception": false,
     "start_time": "2020-09-08T18:55:48.169440",
     "status": "completed"
    },
    "tags": []
   },
   "source": [
    "Чтобы работать с моделями в библиотеке LightFm, нам нужно создать разреженные матрицы. Мы будем хранить данные в формате COO (координатный формат представления данных). Вместо хранения всех значений, которые включают нулевые значения, мы будем хранить только ненулевые значения. В COO данные представлены в виде (строка, столбец, значение)."
   ]
  },
  {
   "cell_type": "code",
   "execution_count": 101,
   "metadata": {
    "execution": {
     "iopub.execute_input": "2020-09-08T18:55:48.370050Z",
     "iopub.status.busy": "2020-09-08T18:55:48.368719Z",
     "iopub.status.idle": "2020-09-08T18:55:48.383772Z",
     "shell.execute_reply": "2020-09-08T18:55:48.382981Z"
    },
    "papermill": {
     "duration": 0.086735,
     "end_time": "2020-09-08T18:55:48.383923",
     "exception": false,
     "start_time": "2020-09-08T18:55:48.297188",
     "status": "completed"
    },
    "tags": []
   },
   "outputs": [],
   "source": [
    "ratings_coo = sparse.coo_matrix((train_data['rating'].astype(int),\n",
    "                                 (train_data['userid'],\n",
    "                                  train_data['itemid'],)))"
   ]
  },
  {
   "cell_type": "markdown",
   "execution_count": null,
   "metadata": {
    "papermill": {
     "duration": 0.063368,
     "end_time": "2020-09-08T18:55:48.511733",
     "exception": false,
     "start_time": "2020-09-08T18:55:48.448365",
     "status": "completed"
    },
    "tags": []
   },
   "source": [
    "Обучим модель"
   ]
  },
  {
   "cell_type": "code",
   "execution_count": 102,
   "metadata": {
    "execution": {
     "iopub.execute_input": "2020-09-08T18:55:48.651066Z",
     "iopub.status.busy": "2020-09-08T18:55:48.649697Z",
     "iopub.status.idle": "2020-09-08T18:56:40.064042Z",
     "shell.execute_reply": "2020-09-08T18:56:40.065651Z"
    },
    "papermill": {
     "duration": 51.489825,
     "end_time": "2020-09-08T18:56:40.065953",
     "exception": false,
     "start_time": "2020-09-08T18:55:48.576128",
     "status": "completed"
    },
    "tags": []
   },
   "outputs": [],
   "source": [
    "LR = 0.089\n",
    "NUM_THREADS = 12 #число потоков\n",
    "NUM_COMPONENTS = 160 #число параметров вектора \n",
    "NUM_EPOCHS = 25 #число эпох обучения\n",
    "LEARNING_SCHEDULE = 'adagrad'\n",
    "LOSS_FUNCTION = 'logistic'\n",
    "RANDOM_STATE = 20\n",
    "\n",
    "model = LightFM(\n",
    "    learning_rate=LR,\n",
    "    loss=LOSS_FUNCTION,\n",
    "    no_components=NUM_COMPONENTS,\n",
    "    learning_schedule = LEARNING_SCHEDULE,\n",
    "    random_state = RANDOM_STATE\n",
    ")\n",
    "model = model.fit(\n",
    "    ratings_coo,\n",
    "    epochs=NUM_EPOCHS,\n",
    "    num_threads=NUM_THREADS\n",
    ")"
   ]
  },
  {
   "cell_type": "markdown",
   "execution_count": null,
   "metadata": {
    "papermill": {
     "duration": 0.065869,
     "end_time": "2020-09-08T18:56:40.225908",
     "exception": false,
     "start_time": "2020-09-08T18:56:40.160039",
     "status": "completed"
    },
    "tags": []
   },
   "source": [
    "Получим предсказания"
   ]
  },
  {
   "cell_type": "code",
   "execution_count": 103,
   "metadata": {
    "execution": {
     "iopub.execute_input": "2020-09-08T18:56:40.360900Z",
     "iopub.status.busy": "2020-09-08T18:56:40.360095Z",
     "iopub.status.idle": "2020-09-08T18:56:40.550278Z",
     "shell.execute_reply": "2020-09-08T18:56:40.549448Z"
    },
    "papermill": {
     "duration": 0.260196,
     "end_time": "2020-09-08T18:56:40.550424",
     "exception": false,
     "start_time": "2020-09-08T18:56:40.290228",
     "status": "completed"
    },
    "tags": []
   },
   "outputs": [],
   "source": [
    "preds = model.predict(test_data.userid.values,\n",
    "                      test_data.itemid.values)"
   ]
  },
  {
   "cell_type": "markdown",
   "execution_count": null,
   "metadata": {
    "papermill": {
     "duration": 0.064111,
     "end_time": "2020-09-08T18:56:40.678952",
     "exception": false,
     "start_time": "2020-09-08T18:56:40.614841",
     "status": "completed"
    },
    "tags": []
   },
   "source": [
    "Посчитаем метрику roc_auc_score"
   ]
  },
  {
   "cell_type": "code",
   "execution_count": 104,
   "metadata": {
    "execution": {
     "iopub.execute_input": "2020-09-08T18:56:40.816254Z",
     "iopub.status.busy": "2020-09-08T18:56:40.815389Z",
     "iopub.status.idle": "2020-09-08T18:56:40.917270Z",
     "shell.execute_reply": "2020-09-08T18:56:40.916584Z"
    },
    "papermill": {
     "duration": 0.173026,
     "end_time": "2020-09-08T18:56:40.917421",
     "exception": false,
     "start_time": "2020-09-08T18:56:40.744395",
     "status": "completed"
    },
    "tags": []
   },
   "outputs": [
    {
     "data": {
      "text/plain": [
       "0.7287024939593095"
      ]
     },
     "execution_count": 104,
     "metadata": {},
     "output_type": "execute_result"
    }
   ],
   "source": [
    "sklearn.metrics.roc_auc_score(test_data.rating,preds)\n"
   ]
  },
  {
   "cell_type": "markdown",
   "execution_count": null,
   "metadata": {
    "papermill": {
     "duration": 0.129932,
     "end_time": "2020-09-08T18:56:41.112649",
     "exception": false,
     "start_time": "2020-09-08T18:56:40.982717",
     "status": "completed"
    },
    "tags": []
   },
   "source": [
    "В качестве эксперимента создадим ещё одну модель, которую обучим на всем тренировочном датасете"
   ]
  },
  {
   "cell_type": "code",
   "execution_count": 105,
   "metadata": {
    "execution": {
     "iopub.execute_input": "2020-09-08T18:56:41.254745Z",
     "iopub.status.busy": "2020-09-08T18:56:41.253847Z",
     "iopub.status.idle": "2020-09-08T18:57:48.510846Z",
     "shell.execute_reply": "2020-09-08T18:57:48.512225Z"
    },
    "papermill": {
     "duration": 67.333068,
     "end_time": "2020-09-08T18:57:48.512495",
     "exception": false,
     "start_time": "2020-09-08T18:56:41.179427",
     "status": "completed"
    },
    "tags": []
   },
   "outputs": [],
   "source": [
    "# Создадим разреженную матрицу\n",
    "ratings_coo2 = sparse.coo_matrix((train['rating'].astype(int),\n",
    "                                 (train['userid'],\n",
    "                                  train['itemid'],)))\n",
    "\n",
    "# Обучим модель\n",
    "model2 = LightFM(\n",
    "    learning_rate=LR,\n",
    "    loss=LOSS_FUNCTION,\n",
    "    no_components=NUM_COMPONENTS,\n",
    "    learning_schedule = LEARNING_SCHEDULE,\n",
    "    random_state = RANDOM_STATE\n",
    ")\n",
    "model2 = model.fit(\n",
    "    ratings_coo2,\n",
    "    epochs=NUM_EPOCHS,\n",
    "    num_threads=NUM_THREADS\n",
    ")"
   ]
  },
  {
   "cell_type": "markdown",
   "execution_count": null,
   "metadata": {
    "papermill": {
     "duration": 0.064775,
     "end_time": "2020-09-08T18:57:48.676983",
     "exception": false,
     "start_time": "2020-09-08T18:57:48.612208",
     "status": "completed"
    },
    "tags": []
   },
   "source": [
    "# Предсказание на тестовом датасете"
   ]
  },
  {
   "cell_type": "markdown",
   "execution_count": null,
   "metadata": {
    "papermill": {
     "duration": 0.064331,
     "end_time": "2020-09-08T18:57:48.806419",
     "exception": false,
     "start_time": "2020-09-08T18:57:48.742088",
     "status": "completed"
    },
    "tags": []
   },
   "source": [
    "Получим предсказания на тестовом датасете"
   ]
  },
  {
   "cell_type": "code",
   "execution_count": 106,
   "metadata": {
    "execution": {
     "iopub.execute_input": "2020-09-08T18:57:48.945351Z",
     "iopub.status.busy": "2020-09-08T18:57:48.943946Z",
     "iopub.status.idle": "2020-09-08T18:57:49.513309Z",
     "shell.execute_reply": "2020-09-08T18:57:49.512425Z"
    },
    "papermill": {
     "duration": 0.641898,
     "end_time": "2020-09-08T18:57:49.513460",
     "exception": false,
     "start_time": "2020-09-08T18:57:48.871562",
     "status": "completed"
    },
    "tags": []
   },
   "outputs": [],
   "source": [
    "preds = model.predict(test.userid.values,\n",
    "                      test.itemid.values)\n",
    "preds2 = model2.predict(test.userid.values,\n",
    "                      test.itemid.values)"
   ]
  },
  {
   "cell_type": "markdown",
   "execution_count": null,
   "metadata": {
    "papermill": {
     "duration": 0.064086,
     "end_time": "2020-09-08T18:57:49.642938",
     "exception": false,
     "start_time": "2020-09-08T18:57:49.578852",
     "status": "completed"
    },
    "tags": []
   },
   "source": [
    "Нормализуем предсказания"
   ]
  },
  {
   "cell_type": "code",
   "execution_count": 107,
   "metadata": {
    "execution": {
     "iopub.execute_input": "2020-09-08T18:57:49.780924Z",
     "iopub.status.busy": "2020-09-08T18:57:49.779631Z",
     "iopub.status.idle": "2020-09-08T18:57:49.788558Z",
     "shell.execute_reply": "2020-09-08T18:57:49.787803Z"
    },
    "papermill": {
     "duration": 0.0811,
     "end_time": "2020-09-08T18:57:49.788701",
     "exception": false,
     "start_time": "2020-09-08T18:57:49.707601",
     "status": "completed"
    },
    "tags": []
   },
   "outputs": [],
   "source": [
    "normalized_preds = (preds - preds.min())/(preds - preds.min()).max()\n",
    "normalized_preds2 = (preds2 - preds2.min())/(preds2 - preds2.min()).max()"
   ]
  },
  {
   "cell_type": "markdown",
   "execution_count": null,
   "metadata": {
    "papermill": {
     "duration": 0.0643,
     "end_time": "2020-09-08T18:57:49.917811",
     "exception": false,
     "start_time": "2020-09-08T18:57:49.853511",
     "status": "completed"
    },
    "tags": []
   },
   "source": [
    "\n",
    "# Submission"
   ]
  },
  {
   "cell_type": "code",
   "execution_count": 108,
   "metadata": {
    "execution": {
     "iopub.execute_input": "2020-09-08T18:57:50.062673Z",
     "iopub.status.busy": "2020-09-08T18:57:50.061712Z",
     "iopub.status.idle": "2020-09-08T18:57:51.460244Z",
     "shell.execute_reply": "2020-09-08T18:57:51.459449Z"
    },
    "papermill": {
     "duration": 1.474181,
     "end_time": "2020-09-08T18:57:51.460405",
     "exception": false,
     "start_time": "2020-09-08T18:57:49.986224",
     "status": "completed"
    },
    "tags": []
   },
   "outputs": [],
   "source": [
    "submission['rating']= normalized_preds\n",
    "submission.to_csv('submission_fastai.csv', index=False)"
   ]
  },
  {
   "cell_type": "code",
   "execution_count": 109,
   "metadata": {
    "execution": {
     "iopub.execute_input": "2020-09-08T18:57:51.611466Z",
     "iopub.status.busy": "2020-09-08T18:57:51.610525Z",
     "iopub.status.idle": "2020-09-08T18:57:52.954794Z",
     "shell.execute_reply": "2020-09-08T18:57:52.954082Z"
    },
    "papermill": {
     "duration": 1.421419,
     "end_time": "2020-09-08T18:57:52.954961",
     "exception": false,
     "start_time": "2020-09-08T18:57:51.533542",
     "status": "completed"
    },
    "tags": []
   },
   "outputs": [],
   "source": [
    "submission['rating']= normalized_preds2\n",
    "submission.to_csv('submission_train_log.csv', index=False)"
   ]
  },
  {
   "cell_type": "markdown",
   "execution_count": null,
   "metadata": {
    "papermill": {
     "duration": 0.072798,
     "end_time": "2020-09-08T18:57:53.098434",
     "exception": false,
     "start_time": "2020-09-08T18:57:53.025636",
     "status": "completed"
    },
    "tags": []
   },
   "source": [
    "# Итоги работы\n",
    "\n",
    "В результате мы провели подробный анализ данных, сгенерировали большое количество дополнительных признаков и познакомились с основными принципами работы рекомендательных систем. Также нам удалось улучшить baseline и получить значение rocauc выше 0.76."
   ]
  }
 ],
 "metadata": {
  "kernelspec": {
   "display_name": "Python 3",
   "language": "python",
   "name": "python3"
  },
  "language_info": {
   "codemirror_mode": {
    "name": "ipython",
    "version": 3
   },
   "file_extension": ".py",
   "mimetype": "text/x-python",
   "name": "python",
   "nbconvert_exporter": "python",
   "pygments_lexer": "ipython3",
   "version": "3.7.6"
  },
  "papermill": {
   "duration": 285.309946,
   "end_time": "2020-09-08T18:57:54.208997",
   "environment_variables": {},
   "exception": null,
   "input_path": "__notebook__.ipynb",
   "output_path": "__notebook__.ipynb",
   "parameters": {},
   "start_time": "2020-09-08T18:53:08.899051",
   "version": "2.1.0"
  }
 },
 "nbformat": 4,
 "nbformat_minor": 4
}
