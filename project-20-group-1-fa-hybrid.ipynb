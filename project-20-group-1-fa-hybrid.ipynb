{
 "cells": [
  {
   "cell_type": "markdown",
   "execution_count": null,
   "metadata": {
    "papermill": {
     "duration": 0.018012,
     "end_time": "2020-09-08T11:33:00.423340",
     "exception": false,
     "start_time": "2020-09-08T11:33:00.405328",
     "status": "completed"
    },
    "tags": []
   },
   "source": [
    "# LightFM - Гибридная рекомендательная система"
   ]
  },
  {
   "cell_type": "markdown",
   "execution_count": null,
   "metadata": {
    "papermill": {
     "duration": 0.016719,
     "end_time": "2020-09-08T11:33:00.455882",
     "exception": false,
     "start_time": "2020-09-08T11:33:00.439163",
     "status": "completed"
    },
    "tags": []
   },
   "source": [
    "Рассмотрим возможность добавления item_features и user_features в модель LightFM при помощи lightfm.dataset"
   ]
  },
  {
   "cell_type": "markdown",
   "execution_count": null,
   "metadata": {
    "papermill": {
     "duration": 0.015352,
     "end_time": "2020-09-08T11:33:00.486839",
     "exception": false,
     "start_time": "2020-09-08T11:33:00.471487",
     "status": "completed"
    },
    "tags": []
   },
   "source": [
    "Основной ноутбук: https://www.kaggle.com/fedorazarov/project-20-group-1-fa"
   ]
  },
  {
   "cell_type": "markdown",
   "execution_count": null,
   "metadata": {
    "papermill": {
     "duration": 0.01536,
     "end_time": "2020-09-08T11:33:00.517907",
     "exception": false,
     "start_time": "2020-09-08T11:33:00.502547",
     "status": "completed"
    },
    "tags": []
   },
   "source": [
    "# Подготовка данных"
   ]
  },
  {
   "cell_type": "code",
   "execution_count": 1,
   "metadata": {
    "_cell_guid": "b1076dfc-b9ad-4769-8c92-a6c4dae69d19",
    "_uuid": "8f2839f25d086af736a60e9eeb907d3b93b6e0e5",
    "execution": {
     "iopub.execute_input": "2020-09-08T11:33:00.563180Z",
     "iopub.status.busy": "2020-09-08T11:33:00.562114Z",
     "iopub.status.idle": "2020-09-08T11:33:58.464425Z",
     "shell.execute_reply": "2020-09-08T11:33:58.463673Z"
    },
    "papermill": {
     "duration": 57.930863,
     "end_time": "2020-09-08T11:33:58.464583",
     "exception": false,
     "start_time": "2020-09-08T11:33:00.533720",
     "status": "completed"
    },
    "tags": []
   },
   "outputs": [
    {
     "name": "stdout",
     "output_type": "stream",
     "text": [
      "/kaggle/input/recommendationsv4/meta_Grocery_and_Gourmet_Food.json\n",
      "/kaggle/input/recommendationsv4/sample_submission.csv\n",
      "/kaggle/input/recommendationsv4/test.csv\n",
      "/kaggle/input/recommendationsv4/train.csv\n"
     ]
    },
    {
     "name": "stderr",
     "output_type": "stream",
     "text": [
      "/opt/conda/lib/python3.7/site-packages/IPython/core/interactiveshell.py:3063: DtypeWarning: Columns (8) have mixed types.Specify dtype option on import or set low_memory=False.\n",
      "  interactivity=interactivity, compiler=compiler, result=result)\n",
      "/opt/conda/lib/python3.7/site-packages/IPython/core/interactiveshell.py:3063: DtypeWarning: Columns (5) have mixed types.Specify dtype option on import or set low_memory=False.\n",
      "  interactivity=interactivity, compiler=compiler, result=result)\n"
     ]
    }
   ],
   "source": [
    "import numpy as np\n",
    "import pandas as pd\n",
    "from collections import Counter\n",
    "import json\n",
    "import re\n",
    "\n",
    "import os\n",
    "for dirname, _, filenames in os.walk('/kaggle/input'):\n",
    "    for filename in filenames:\n",
    "        print(os.path.join(dirname, filename))\n",
    "\n",
    "# Загружаем датасеты\n",
    "train = pd.read_csv('/kaggle/input/recommendationsv4/train.csv')\n",
    "test = pd.read_csv('/kaggle/input/recommendationsv4/test.csv')\n",
    "submission = pd.read_csv('/kaggle/input/recommendationsv4/sample_submission.csv')\n",
    "\n",
    "# Постройчно прочитаем json с метаданными и положим результат в датасет \"meta\"\n",
    "with open('/kaggle/input/recommendationsv4/meta_Grocery_and_Gourmet_Food.json') as f:\n",
    "    meta_list = []\n",
    "    for line in f.readlines():\n",
    "        meta_list.append(json.loads(line))\n",
    "        \n",
    "meta = pd.DataFrame(meta_list)\n",
    "\n",
    "# Удалим дубликаты из тренировочного датасета\n",
    "train.drop_duplicates(inplace = True)\n",
    "\n",
    "# Объединим тренировочный датасет и данные из meta по идентификатору asin (Amazon Standard Identification Number)\n",
    "df = pd.merge(train, meta, on='asin')\n",
    "#df_new_test = pd.merge(test, meta, on='asin')"
   ]
  },
  {
   "cell_type": "markdown",
   "execution_count": null,
   "metadata": {
    "papermill": {
     "duration": 0.01541,
     "end_time": "2020-09-08T11:33:58.495935",
     "exception": false,
     "start_time": "2020-09-08T11:33:58.480525",
     "status": "completed"
    },
    "tags": []
   },
   "source": [
    "Обработаем только по одному признаку для пользователей и продуктов для скорости работы ноутбука: verified и main_cat"
   ]
  },
  {
   "cell_type": "code",
   "execution_count": 2,
   "metadata": {
    "execution": {
     "iopub.execute_input": "2020-09-08T11:33:58.535461Z",
     "iopub.status.busy": "2020-09-08T11:33:58.534581Z",
     "iopub.status.idle": "2020-09-08T11:33:58.644881Z",
     "shell.execute_reply": "2020-09-08T11:33:58.645553Z"
    },
    "papermill": {
     "duration": 0.13385,
     "end_time": "2020-09-08T11:33:58.645794",
     "exception": false,
     "start_time": "2020-09-08T11:33:58.511944",
     "status": "completed"
    },
    "tags": []
   },
   "outputs": [],
   "source": [
    "dic_verified = {\n",
    "    True: 1,\n",
    "    False: 0\n",
    "}\n",
    "df['verified'] = df['verified'].map(dic_verified)"
   ]
  },
  {
   "cell_type": "code",
   "execution_count": 3,
   "metadata": {
    "execution": {
     "iopub.execute_input": "2020-09-08T11:33:58.813343Z",
     "iopub.status.busy": "2020-09-08T11:33:58.811280Z",
     "iopub.status.idle": "2020-09-08T11:33:58.857559Z",
     "shell.execute_reply": "2020-09-08T11:33:58.858151Z"
    },
    "papermill": {
     "duration": 0.189695,
     "end_time": "2020-09-08T11:33:58.858366",
     "exception": false,
     "start_time": "2020-09-08T11:33:58.668671",
     "status": "completed"
    },
    "tags": []
   },
   "outputs": [],
   "source": [
    "# Заменим пропуски в main_cat на категорию \"Other\"\n",
    "df.main_cat = df.main_cat.fillna('Other')"
   ]
  },
  {
   "cell_type": "code",
   "execution_count": 4,
   "metadata": {
    "execution": {
     "iopub.execute_input": "2020-09-08T11:33:58.898973Z",
     "iopub.status.busy": "2020-09-08T11:33:58.897863Z",
     "iopub.status.idle": "2020-09-08T11:33:58.902995Z",
     "shell.execute_reply": "2020-09-08T11:33:58.903626Z"
    },
    "papermill": {
     "duration": 0.029714,
     "end_time": "2020-09-08T11:33:58.903802",
     "exception": false,
     "start_time": "2020-09-08T11:33:58.874088",
     "status": "completed"
    },
    "tags": []
   },
   "outputs": [
    {
     "data": {
      "text/plain": [
       "Index(['overall', 'verified', 'reviewTime', 'asin', 'reviewerName',\n",
       "       'reviewText', 'summary', 'unixReviewTime', 'vote', 'style', 'image_x',\n",
       "       'userid', 'itemid', 'rating', 'category', 'description', 'title',\n",
       "       'brand', 'rank', 'also_view', 'main_cat', 'price', 'also_buy',\n",
       "       'image_y', 'date', 'feature', 'details', 'similar_item', 'tech1',\n",
       "       'fit'],\n",
       "      dtype='object')"
      ]
     },
     "execution_count": 4,
     "metadata": {},
     "output_type": "execute_result"
    }
   ],
   "source": [
    "df.columns"
   ]
  },
  {
   "cell_type": "code",
   "execution_count": 5,
   "metadata": {
    "execution": {
     "iopub.execute_input": "2020-09-08T11:33:58.945161Z",
     "iopub.status.busy": "2020-09-08T11:33:58.944307Z",
     "iopub.status.idle": "2020-09-08T11:34:00.338885Z",
     "shell.execute_reply": "2020-09-08T11:34:00.337928Z"
    },
    "papermill": {
     "duration": 1.41859,
     "end_time": "2020-09-08T11:34:00.339028",
     "exception": false,
     "start_time": "2020-09-08T11:33:58.920438",
     "status": "completed"
    },
    "tags": []
   },
   "outputs": [],
   "source": [
    "features_user = df[['userid', 'verified']]\n",
    "features_item = df[['itemid', 'main_cat']]\n",
    "df = df[['userid','itemid','rating']]"
   ]
  },
  {
   "cell_type": "markdown",
   "execution_count": null,
   "metadata": {
    "papermill": {
     "duration": 0.016189,
     "end_time": "2020-09-08T11:34:00.371593",
     "exception": false,
     "start_time": "2020-09-08T11:34:00.355404",
     "status": "completed"
    },
    "tags": []
   },
   "source": [
    "Нам нужно вызвать метод fit, чтобы сообщить LightFM id пользователей, id продуктов, и дополнительные фичи пользователя или продукта. \n",
    "\n",
    "Мы передадим методу fit три параметра:\n",
    "\n",
    "    users: список всех пользователей\n",
    "    items: список всех продуктов\n",
    "    item_features: список дополнительных фичей продукта\n",
    "\n",
    "Передача списка пользователей и продуктов довольно проста - просто используем столбцы «userid» и «itemid» из df.\n",
    "\n",
    "Когда дело доходит до передачи item_features, я рекомендуется передать список, в котором каждый элемент имеет формат, подобный 'feature_name: feature_value'.\n",
    "\n",
    "Это означает, что наши item_features должны выглядеть примерно так:\n",
    "['feature1: 0', 'feature1: 1', 'feature2: 0', 'feature2: 1', 'feature3: 0', 'feature3: 1' ...].\n",
    "\n",
    "Этот список должен быть создан с учетом всех возможных пар feature_name, feature_value, которые могут встретиться в обучающем датасете. Например, для feature_name, равного verified, может быть два feature_value, а именно 0 и 1.\n",
    "\n",
    "Ниже небольшой фрагмент кода, который позволяет создать такой список (назовем его item_f):"
   ]
  },
  {
   "cell_type": "code",
   "execution_count": 6,
   "metadata": {
    "execution": {
     "iopub.execute_input": "2020-09-08T11:34:00.415937Z",
     "iopub.status.busy": "2020-09-08T11:34:00.414991Z",
     "iopub.status.idle": "2020-09-08T11:34:00.605531Z",
     "shell.execute_reply": "2020-09-08T11:34:00.603745Z"
    },
    "papermill": {
     "duration": 0.217563,
     "end_time": "2020-09-08T11:34:00.605749",
     "exception": false,
     "start_time": "2020-09-08T11:34:00.388186",
     "status": "completed"
    },
    "tags": []
   },
   "outputs": [
    {
     "name": "stdout",
     "output_type": "stream",
     "text": [
      "main_cat:Grocery\n",
      "main_cat:Health & Personal Care\n",
      "main_cat:Office Products\n",
      "main_cat:Sports & Outdoors\n",
      "main_cat:Amazon Home\n",
      "main_cat:Toys & Games\n",
      "main_cat:Other\n",
      "main_cat:Industrial & Scientific\n",
      "main_cat:All Beauty\n",
      "main_cat:Tools & Home Improvement\n",
      "main_cat:Baby\n",
      "main_cat:Pet Supplies\n",
      "main_cat:Home Audio & Theater\n",
      "main_cat:Arts, Crafts & Sewing\n",
      "main_cat:Camera & Photo\n",
      "main_cat:Cell Phones & Accessories\n",
      "main_cat:Software\n",
      "main_cat:Musical Instruments\n"
     ]
    }
   ],
   "source": [
    "item_f = []\n",
    "col = []\n",
    "unique_f1 = []\n",
    "for column in features_item.drop(['itemid'], axis=1):\n",
    "    col += [column]*len(features_item[column].unique())\n",
    "    unique_f1 += list(features_item[column].unique())\n",
    "for x,y in zip(col, unique_f1):\n",
    "    res = str(x)+ \":\" +str(y)\n",
    "    item_f.append(res)\n",
    "    print(res)"
   ]
  },
  {
   "cell_type": "markdown",
   "execution_count": null,
   "metadata": {
    "papermill": {
     "duration": 0.01636,
     "end_time": "2020-09-08T11:34:00.639343",
     "exception": false,
     "start_time": "2020-09-08T11:34:00.622983",
     "status": "completed"
    },
    "tags": []
   },
   "source": [
    "Аналогично для features_user"
   ]
  },
  {
   "cell_type": "code",
   "execution_count": 7,
   "metadata": {
    "execution": {
     "iopub.execute_input": "2020-09-08T11:34:00.684814Z",
     "iopub.status.busy": "2020-09-08T11:34:00.681031Z",
     "iopub.status.idle": "2020-09-08T11:34:00.700133Z",
     "shell.execute_reply": "2020-09-08T11:34:00.698527Z"
    },
    "papermill": {
     "duration": 0.044634,
     "end_time": "2020-09-08T11:34:00.700386",
     "exception": false,
     "start_time": "2020-09-08T11:34:00.655752",
     "status": "completed"
    },
    "tags": []
   },
   "outputs": [
    {
     "name": "stdout",
     "output_type": "stream",
     "text": [
      "verified:1\n",
      "verified:0\n"
     ]
    }
   ],
   "source": [
    "user_f = []\n",
    "col = []\n",
    "unique_f1 = []\n",
    "for column in features_user.drop(['userid'], axis=1):\n",
    "    col += [column]*len(features_user[column].unique())\n",
    "    unique_f1 += list(features_user[column].unique())\n",
    "for x,y in zip(col, unique_f1):\n",
    "    res = str(x)+ \":\" +str(y)\n",
    "    user_f.append(res)\n",
    "    print(res)"
   ]
  },
  {
   "cell_type": "markdown",
   "execution_count": null,
   "metadata": {
    "papermill": {
     "duration": 0.015964,
     "end_time": "2020-09-08T11:34:00.733113",
     "exception": false,
     "start_time": "2020-09-08T11:34:00.717149",
     "status": "completed"
    },
    "tags": []
   },
   "source": [
    "Вызовем метод fit для нашего датасета"
   ]
  },
  {
   "cell_type": "code",
   "execution_count": 8,
   "metadata": {
    "execution": {
     "iopub.execute_input": "2020-09-08T11:34:00.775103Z",
     "iopub.status.busy": "2020-09-08T11:34:00.774155Z",
     "iopub.status.idle": "2020-09-08T11:34:02.906012Z",
     "shell.execute_reply": "2020-09-08T11:34:02.905142Z"
    },
    "papermill": {
     "duration": 2.155838,
     "end_time": "2020-09-08T11:34:02.906155",
     "exception": false,
     "start_time": "2020-09-08T11:34:00.750317",
     "status": "completed"
    },
    "tags": []
   },
   "outputs": [],
   "source": [
    "from lightfm.data import Dataset\n",
    "# we call fit to supply userid, item id and user/item features\n",
    "dataset1 = Dataset()\n",
    "dataset1.fit(\n",
    "        df['userid'].unique(), # all the users\n",
    "        df['itemid'].unique(), # all the items\n",
    "        user_features = user_f,\n",
    "        item_features = item_f\n",
    ")"
   ]
  },
  {
   "cell_type": "markdown",
   "execution_count": null,
   "metadata": {
    "papermill": {
     "duration": 0.016727,
     "end_time": "2020-09-08T11:34:02.939688",
     "exception": false,
     "start_time": "2020-09-08T11:34:02.922961",
     "status": "completed"
    },
    "tags": []
   },
   "source": [
    "Теперь, когда у нас есть готовый скелет датасета, мы готовы добавить в него фактические взаимодействия (interactions) и оценки (ratings)."
   ]
  },
  {
   "cell_type": "markdown",
   "execution_count": null,
   "metadata": {
    "papermill": {
     "duration": 0.016452,
     "end_time": "2020-09-08T11:34:02.972932",
     "exception": false,
     "start_time": "2020-09-08T11:34:02.956480",
     "status": "completed"
    },
    "tags": []
   },
   "source": [
    "# Building interactions - построение взаимодействий"
   ]
  },
  {
   "cell_type": "markdown",
   "execution_count": null,
   "metadata": {
    "papermill": {
     "duration": 0.016679,
     "end_time": "2020-09-08T11:34:03.006507",
     "exception": false,
     "start_time": "2020-09-08T11:34:02.989828",
     "status": "completed"
    },
    "tags": []
   },
   "source": [
    "Входные данные метода build_interactions - это итерация взаимодействий, где каждое взаимодействие представляет собой кортеж, содержащий три элемента:\n",
    "\n",
    "     пользователь\n",
    "     продукт\n",
    "     вес взаимодействия (опционально)\n",
    "\n",
    "Вес взаимодействия  означает, что если пользователь «u» взаимодействовал с элементом «i», насколько важно это взаимодействие. С точки зрения нашего примера, вес - это рейтинг, который у нас есть для каждой пары (пользователь, элемент)."
   ]
  },
  {
   "cell_type": "code",
   "execution_count": 9,
   "metadata": {
    "execution": {
     "iopub.execute_input": "2020-09-08T11:34:03.047545Z",
     "iopub.status.busy": "2020-09-08T11:34:03.046692Z",
     "iopub.status.idle": "2020-09-08T11:34:14.189993Z",
     "shell.execute_reply": "2020-09-08T11:34:14.190618Z"
    },
    "papermill": {
     "duration": 11.167086,
     "end_time": "2020-09-08T11:34:14.190813",
     "exception": false,
     "start_time": "2020-09-08T11:34:03.023727",
     "status": "completed"
    },
    "tags": []
   },
   "outputs": [],
   "source": [
    "# plugging in the interactions and their weights\n",
    "(interactions, weights) = dataset1.build_interactions([(x[0], x[1], x[2]) for x in df.values ])"
   ]
  },
  {
   "cell_type": "markdown",
   "execution_count": null,
   "metadata": {
    "papermill": {
     "duration": 0.016453,
     "end_time": "2020-09-08T11:34:14.224685",
     "exception": false,
     "start_time": "2020-09-08T11:34:14.208232",
     "status": "completed"
    },
    "tags": []
   },
   "source": [
    "Таким образом, матрица взаимодействий сообщает нам, взаимодействовал ли вообще пользователь с элементом, а матрица весов дает количественную оценку этого конкретного взаимодействия."
   ]
  },
  {
   "cell_type": "markdown",
   "execution_count": null,
   "metadata": {
    "papermill": {
     "duration": 0.016513,
     "end_time": "2020-09-08T11:34:14.258543",
     "exception": false,
     "start_time": "2020-09-08T11:34:14.242030",
     "status": "completed"
    },
    "tags": []
   },
   "source": [
    "Мы можем проверить, как выглядят эти две выходные матрицы. Поскольку это разреженные матрицы, мы можем использовать метод .todense (). В обеих матрицах строки - это пользователи, а столбцы - это элементы."
   ]
  },
  {
   "cell_type": "code",
   "execution_count": 10,
   "metadata": {
    "execution": {
     "iopub.execute_input": "2020-09-08T11:34:14.298351Z",
     "iopub.status.busy": "2020-09-08T11:34:14.297486Z",
     "iopub.status.idle": "2020-09-08T11:34:16.656838Z",
     "shell.execute_reply": "2020-09-08T11:34:16.655917Z"
    },
    "papermill": {
     "duration": 2.381517,
     "end_time": "2020-09-08T11:34:16.656988",
     "exception": false,
     "start_time": "2020-09-08T11:34:14.275471",
     "status": "completed"
    },
    "tags": []
   },
   "outputs": [
    {
     "data": {
      "text/plain": [
       "matrix([[1, 0, 0, ..., 0, 0, 0],\n",
       "        [1, 0, 0, ..., 0, 0, 0],\n",
       "        [1, 0, 0, ..., 0, 0, 0],\n",
       "        ...,\n",
       "        [0, 0, 0, ..., 0, 0, 0],\n",
       "        [0, 0, 0, ..., 0, 0, 0],\n",
       "        [0, 0, 0, ..., 0, 0, 0]], dtype=int32)"
      ]
     },
     "execution_count": 10,
     "metadata": {},
     "output_type": "execute_result"
    }
   ],
   "source": [
    "interactions.todense()"
   ]
  },
  {
   "cell_type": "code",
   "execution_count": 11,
   "metadata": {
    "execution": {
     "iopub.execute_input": "2020-09-08T11:34:16.699573Z",
     "iopub.status.busy": "2020-09-08T11:34:16.698545Z",
     "iopub.status.idle": "2020-09-08T11:34:20.226113Z",
     "shell.execute_reply": "2020-09-08T11:34:20.226761Z"
    },
    "papermill": {
     "duration": 3.55215,
     "end_time": "2020-09-08T11:34:20.226955",
     "exception": false,
     "start_time": "2020-09-08T11:34:16.674805",
     "status": "completed"
    },
    "tags": []
   },
   "outputs": [
    {
     "data": {
      "text/plain": [
       "matrix([[1., 0., 0., ..., 0., 0., 0.],\n",
       "        [1., 0., 0., ..., 0., 0., 0.],\n",
       "        [0., 0., 0., ..., 0., 0., 0.],\n",
       "        ...,\n",
       "        [0., 0., 0., ..., 0., 0., 0.],\n",
       "        [0., 0., 0., ..., 0., 0., 0.],\n",
       "        [0., 0., 0., ..., 0., 0., 0.]], dtype=float32)"
      ]
     },
     "execution_count": 11,
     "metadata": {},
     "output_type": "execute_result"
    }
   ],
   "source": [
    "weights.todense()"
   ]
  },
  {
   "cell_type": "markdown",
   "execution_count": null,
   "metadata": {
    "papermill": {
     "duration": 0.018668,
     "end_time": "2020-09-08T11:34:20.263629",
     "exception": false,
     "start_time": "2020-09-08T11:34:20.244961",
     "status": "completed"
    },
    "tags": []
   },
   "source": [
    "# Строим Item Features"
   ]
  },
  {
   "cell_type": "markdown",
   "execution_count": null,
   "metadata": {
    "papermill": {
     "duration": 0.017418,
     "end_time": "2020-09-08T11:34:20.299960",
     "exception": false,
     "start_time": "2020-09-08T11:34:20.282542",
     "status": "completed"
    },
    "tags": []
   },
   "source": [
    "Метод build_item_features требует ввода в следующем формате:\n",
    "* [\n",
    "* (User1, [feature1, feature2, feature3, ....]),\n",
    "* (User2, [feature1, feature2, feature3, ....]),\n",
    "* (User3, [feature1, feature2, feature3, ....]),\n",
    "* .\n",
    "* .\n",
    "* ]\n",
    "\n",
    "     Здесь следует помнить одну очень важную вещь: feature1, feature2, feature3 и т.д. должны быть одним из элементов, присутствующих в списке item_features, который мы передали методу fit в начале.\n",
    "\n",
    "Вот как сейчас выглядит наш список item_features:\n",
    "[verified:1, verified:0, unixReviewTime:middle_new, unixReviewTime:new, unixReviewTime:middle_old ... ].\n",
    "\n",
    "\n",
    "Напишем код, который позволит создать список в требуемом формате:"
   ]
  },
  {
   "cell_type": "code",
   "execution_count": 12,
   "metadata": {
    "execution": {
     "iopub.execute_input": "2020-09-08T11:34:20.346161Z",
     "iopub.status.busy": "2020-09-08T11:34:20.345365Z",
     "iopub.status.idle": "2020-09-08T11:34:20.376060Z",
     "shell.execute_reply": "2020-09-08T11:34:20.377024Z"
    },
    "papermill": {
     "duration": 0.058798,
     "end_time": "2020-09-08T11:34:20.377231",
     "exception": false,
     "start_time": "2020-09-08T11:34:20.318433",
     "status": "completed"
    },
    "tags": []
   },
   "outputs": [
    {
     "name": "stdout",
     "output_type": "stream",
     "text": [
      "['main_cat:']\n"
     ]
    }
   ],
   "source": [
    "ll = []\n",
    "for column in features_item.drop(['itemid'], axis=1):\n",
    "    ll.append(column + ':')\n",
    "print(ll)"
   ]
  },
  {
   "cell_type": "code",
   "execution_count": 13,
   "metadata": {
    "execution": {
     "iopub.execute_input": "2020-09-08T11:34:20.422690Z",
     "iopub.status.busy": "2020-09-08T11:34:20.421088Z",
     "iopub.status.idle": "2020-09-08T11:34:20.426697Z",
     "shell.execute_reply": "2020-09-08T11:34:20.425757Z"
    },
    "papermill": {
     "duration": 0.031913,
     "end_time": "2020-09-08T11:34:20.426846",
     "exception": false,
     "start_time": "2020-09-08T11:34:20.394933",
     "status": "completed"
    },
    "tags": []
   },
   "outputs": [],
   "source": [
    "def feature_colon_value(my_list):\n",
    "    \"\"\"\n",
    "    Takes as input a list and prepends the columns names to respective values in the list.\n",
    "    For example: if my_list = [1,1,0,'del'],\n",
    "    resultant output = ['f1:1', 'f2:1', 'f3:0', 'loc:del']\n",
    "\n",
    "    \"\"\"\n",
    "    result = []\n",
    "    aa = my_list\n",
    "    for x,y in zip(ll,aa):\n",
    "        res = str(x) +\"\"+ str(y)\n",
    "        result.append(res)\n",
    "    return result"
   ]
  },
  {
   "cell_type": "code",
   "execution_count": 14,
   "metadata": {
    "execution": {
     "iopub.execute_input": "2020-09-08T11:34:20.474878Z",
     "iopub.status.busy": "2020-09-08T11:34:20.473867Z",
     "iopub.status.idle": "2020-09-08T11:34:24.915078Z",
     "shell.execute_reply": "2020-09-08T11:34:24.913371Z"
    },
    "papermill": {
     "duration": 4.468859,
     "end_time": "2020-09-08T11:34:24.915409",
     "exception": false,
     "start_time": "2020-09-08T11:34:20.446550",
     "status": "completed"
    },
    "tags": []
   },
   "outputs": [
    {
     "name": "stdout",
     "output_type": "stream",
     "text": [
      "Final output: [['main_cat:Grocery'], ['main_cat:Grocery'], ['main_cat:Grocery'], ['main_cat:Grocery'], ['main_cat:Grocery']]\n"
     ]
    }
   ],
   "source": [
    "ad_subset = features_item.drop(['itemid'], axis=1)\n",
    "ad_list = [x.tolist() for x in ad_subset.values]\n",
    "item_feature_list = []\n",
    "for item in ad_list:\n",
    "    item_feature_list.append(feature_colon_value(item))\n",
    "print(f'Final output: {item_feature_list[0:5]}')"
   ]
  },
  {
   "cell_type": "markdown",
   "execution_count": null,
   "metadata": {
    "papermill": {
     "duration": 0.017202,
     "end_time": "2020-09-08T11:34:24.950934",
     "exception": false,
     "start_time": "2020-09-08T11:34:24.933732",
     "status": "completed"
    },
    "tags": []
   },
   "source": [
    "Наконец, мы должны связать каждый элемент item_feature_list с соответствующими идентификаторами продуктов."
   ]
  },
  {
   "cell_type": "code",
   "execution_count": 15,
   "metadata": {
    "execution": {
     "iopub.execute_input": "2020-09-08T11:34:26.267012Z",
     "iopub.status.busy": "2020-09-08T11:34:26.264819Z",
     "iopub.status.idle": "2020-09-08T11:34:26.272790Z",
     "shell.execute_reply": "2020-09-08T11:34:26.271898Z"
    },
    "papermill": {
     "duration": 1.304119,
     "end_time": "2020-09-08T11:34:26.272944",
     "exception": false,
     "start_time": "2020-09-08T11:34:24.968825",
     "status": "completed"
    },
    "tags": []
   },
   "outputs": [
    {
     "data": {
      "text/plain": [
       "[(37138, ['main_cat:Grocery']),\n",
       " (37138, ['main_cat:Grocery']),\n",
       " (37138, ['main_cat:Grocery']),\n",
       " (37138, ['main_cat:Grocery']),\n",
       " (37138, ['main_cat:Grocery'])]"
      ]
     },
     "execution_count": 15,
     "metadata": {},
     "output_type": "execute_result"
    }
   ],
   "source": [
    "item_tuple = list(zip(features_item.itemid, item_feature_list))\n",
    "item_tuple[0:5]"
   ]
  },
  {
   "cell_type": "markdown",
   "execution_count": null,
   "metadata": {
    "papermill": {
     "duration": 0.016942,
     "end_time": "2020-09-08T11:34:26.307271",
     "exception": false,
     "start_time": "2020-09-08T11:34:26.290329",
     "status": "completed"
    },
    "tags": []
   },
   "source": [
    "Мы получили желаемый вид для ввода данных для метода build_item_features. Вызовем этот метод."
   ]
  },
  {
   "cell_type": "code",
   "execution_count": 16,
   "metadata": {
    "execution": {
     "iopub.execute_input": "2020-09-08T11:34:26.393762Z",
     "iopub.status.busy": "2020-09-08T11:34:26.356944Z",
     "iopub.status.idle": "2020-09-08T11:34:31.213793Z",
     "shell.execute_reply": "2020-09-08T11:34:31.214684Z"
    },
    "papermill": {
     "duration": 4.890421,
     "end_time": "2020-09-08T11:34:31.214937",
     "exception": false,
     "start_time": "2020-09-08T11:34:26.324516",
     "status": "completed"
    },
    "tags": []
   },
   "outputs": [
    {
     "data": {
      "text/plain": [
       "matrix([[1., 0., 0., ..., 0., 0., 0.],\n",
       "        [0., 1., 0., ..., 0., 0., 0.],\n",
       "        [0., 0., 1., ..., 0., 0., 0.],\n",
       "        ...,\n",
       "        [0., 0., 0., ..., 0., 0., 0.],\n",
       "        [0., 0., 0., ..., 0., 0., 0.],\n",
       "        [0., 0., 0., ..., 0., 0., 0.]], dtype=float32)"
      ]
     },
     "execution_count": 16,
     "metadata": {},
     "output_type": "execute_result"
    }
   ],
   "source": [
    "item_features = dataset1.build_item_features(item_tuple, normalize= False)\n",
    "item_features.todense()"
   ]
  },
  {
   "cell_type": "markdown",
   "execution_count": null,
   "metadata": {
    "papermill": {
     "duration": 0.017462,
     "end_time": "2020-09-08T11:34:31.251592",
     "exception": false,
     "start_time": "2020-09-08T11:34:31.234130",
     "status": "completed"
    },
    "tags": []
   },
   "source": [
    "В приведенной выше матрице item_features строки - это продукты, а столбцы - это фичи продуктов. 1 присутствует всякий раз, когда у этого продукта есть эта конкретная  фича, присутствующая в тренировочном датасете."
   ]
  },
  {
   "cell_type": "markdown",
   "execution_count": null,
   "metadata": {
    "papermill": {
     "duration": 0.017908,
     "end_time": "2020-09-08T11:34:31.286860",
     "exception": false,
     "start_time": "2020-09-08T11:34:31.268952",
     "status": "completed"
    },
    "tags": []
   },
   "source": [
    "# Создадим user_features"
   ]
  },
  {
   "cell_type": "markdown",
   "execution_count": null,
   "metadata": {
    "papermill": {
     "duration": 0.01732,
     "end_time": "2020-09-08T11:34:31.321929",
     "exception": false,
     "start_time": "2020-09-08T11:34:31.304609",
     "status": "completed"
    },
    "tags": []
   },
   "source": [
    "Аналогично item_features"
   ]
  },
  {
   "cell_type": "code",
   "execution_count": 17,
   "metadata": {
    "execution": {
     "iopub.execute_input": "2020-09-08T11:34:31.368297Z",
     "iopub.status.busy": "2020-09-08T11:34:31.367347Z",
     "iopub.status.idle": "2020-09-08T11:34:31.370715Z",
     "shell.execute_reply": "2020-09-08T11:34:31.371340Z"
    },
    "papermill": {
     "duration": 0.031662,
     "end_time": "2020-09-08T11:34:31.371499",
     "exception": false,
     "start_time": "2020-09-08T11:34:31.339837",
     "status": "completed"
    },
    "tags": []
   },
   "outputs": [
    {
     "name": "stdout",
     "output_type": "stream",
     "text": [
      "['verified:']\n"
     ]
    }
   ],
   "source": [
    "ll = []\n",
    "for column in features_user.drop(['userid'], axis=1):\n",
    "    ll.append(column + ':')\n",
    "print(ll)"
   ]
  },
  {
   "cell_type": "code",
   "execution_count": 18,
   "metadata": {
    "execution": {
     "iopub.execute_input": "2020-09-08T11:34:31.428353Z",
     "iopub.status.busy": "2020-09-08T11:34:31.422985Z",
     "iopub.status.idle": "2020-09-08T11:34:35.559797Z",
     "shell.execute_reply": "2020-09-08T11:34:35.559067Z"
    },
    "papermill": {
     "duration": 4.170883,
     "end_time": "2020-09-08T11:34:35.559933",
     "exception": false,
     "start_time": "2020-09-08T11:34:31.389050",
     "status": "completed"
    },
    "tags": []
   },
   "outputs": [
    {
     "name": "stdout",
     "output_type": "stream",
     "text": [
      "Final output: [['verified:1'], ['verified:0'], ['verified:1'], ['verified:0'], ['verified:0']]\n"
     ]
    }
   ],
   "source": [
    "ad_subset = features_user.drop(['userid'], axis=1)\n",
    "ad_list = [x.tolist() for x in ad_subset.values]\n",
    "user_feature_list = []\n",
    "for user in ad_list:\n",
    "    user_feature_list.append(feature_colon_value(user))\n",
    "print(f'Final output: {user_feature_list[0:5]}')"
   ]
  },
  {
   "cell_type": "code",
   "execution_count": 19,
   "metadata": {
    "execution": {
     "iopub.execute_input": "2020-09-08T11:34:37.104544Z",
     "iopub.status.busy": "2020-09-08T11:34:37.103709Z",
     "iopub.status.idle": "2020-09-08T11:34:37.107949Z",
     "shell.execute_reply": "2020-09-08T11:34:37.107302Z"
    },
    "papermill": {
     "duration": 1.477066,
     "end_time": "2020-09-08T11:34:37.108097",
     "exception": false,
     "start_time": "2020-09-08T11:34:35.631031",
     "status": "completed"
    },
    "tags": []
   },
   "outputs": [],
   "source": [
    "user_tuple = list(zip(features_user.userid, user_feature_list))"
   ]
  },
  {
   "cell_type": "code",
   "execution_count": 20,
   "metadata": {
    "execution": {
     "iopub.execute_input": "2020-09-08T11:34:37.160007Z",
     "iopub.status.busy": "2020-09-08T11:34:37.154768Z",
     "iopub.status.idle": "2020-09-08T11:34:43.555975Z",
     "shell.execute_reply": "2020-09-08T11:34:43.556674Z"
    },
    "papermill": {
     "duration": 6.430036,
     "end_time": "2020-09-08T11:34:43.556856",
     "exception": false,
     "start_time": "2020-09-08T11:34:37.126820",
     "status": "completed"
    },
    "tags": []
   },
   "outputs": [
    {
     "data": {
      "text/plain": [
       "matrix([[1., 0., 0., ..., 0., 6., 0.],\n",
       "        [0., 1., 0., ..., 0., 4., 1.],\n",
       "        [0., 0., 1., ..., 0., 6., 1.],\n",
       "        ...,\n",
       "        [0., 0., 0., ..., 0., 1., 0.],\n",
       "        [0., 0., 0., ..., 0., 1., 0.],\n",
       "        [0., 0., 0., ..., 1., 1., 0.]], dtype=float32)"
      ]
     },
     "execution_count": 20,
     "metadata": {},
     "output_type": "execute_result"
    }
   ],
   "source": [
    "user_features = dataset1.build_user_features(user_tuple, normalize= False)\n",
    "user_features.todense()"
   ]
  },
  {
   "cell_type": "markdown",
   "execution_count": null,
   "metadata": {
    "papermill": {
     "duration": 0.019776,
     "end_time": "2020-09-08T11:34:43.595127",
     "exception": false,
     "start_time": "2020-09-08T11:34:43.575351",
     "status": "completed"
    },
    "tags": []
   },
   "source": [
    "# Обучаем модель"
   ]
  },
  {
   "cell_type": "markdown",
   "execution_count": null,
   "metadata": {
    "papermill": {
     "duration": 0.018343,
     "end_time": "2020-09-08T11:34:43.632224",
     "exception": false,
     "start_time": "2020-09-08T11:34:43.613881",
     "status": "completed"
    },
    "tags": []
   },
   "source": [
    "Создадим словари, с помощью которых по id в датасете LightFM мы сможем находить id в датасете df. "
   ]
  },
  {
   "cell_type": "code",
   "execution_count": 21,
   "metadata": {
    "execution": {
     "iopub.execute_input": "2020-09-08T11:34:43.680005Z",
     "iopub.status.busy": "2020-09-08T11:34:43.679040Z",
     "iopub.status.idle": "2020-09-08T11:34:43.684120Z",
     "shell.execute_reply": "2020-09-08T11:34:43.683256Z"
    },
    "papermill": {
     "duration": 0.02987,
     "end_time": "2020-09-08T11:34:43.684315",
     "exception": false,
     "start_time": "2020-09-08T11:34:43.654445",
     "status": "completed"
    },
    "tags": []
   },
   "outputs": [],
   "source": [
    "user_id_map, user_feature_map, item_id_map, item_feature_map = dataset1.mapping()"
   ]
  },
  {
   "cell_type": "code",
   "execution_count": 22,
   "metadata": {
    "execution": {
     "iopub.execute_input": "2020-09-08T11:34:43.735166Z",
     "iopub.status.busy": "2020-09-08T11:34:43.734119Z",
     "iopub.status.idle": "2020-09-08T11:34:43.817667Z",
     "shell.execute_reply": "2020-09-08T11:34:43.816500Z"
    },
    "papermill": {
     "duration": 0.109622,
     "end_time": "2020-09-08T11:34:43.817917",
     "exception": false,
     "start_time": "2020-09-08T11:34:43.708295",
     "status": "completed"
    },
    "tags": []
   },
   "outputs": [],
   "source": [
    "import scipy.sparse as sparse\n",
    "\n",
    "from lightfm import LightFM\n",
    "from lightfm.cross_validation import random_train_test_split\n",
    "from lightfm.evaluation import auc_score, precision_at_k, recall_at_k\n",
    "import sklearn\n",
    "from sklearn.model_selection import train_test_split"
   ]
  },
  {
   "cell_type": "code",
   "execution_count": 23,
   "metadata": {
    "execution": {
     "iopub.execute_input": "2020-09-08T11:34:43.874614Z",
     "iopub.status.busy": "2020-09-08T11:34:43.873508Z",
     "iopub.status.idle": "2020-09-08T11:35:09.314047Z",
     "shell.execute_reply": "2020-09-08T11:35:09.313162Z"
    },
    "papermill": {
     "duration": 25.472382,
     "end_time": "2020-09-08T11:35:09.314212",
     "exception": false,
     "start_time": "2020-09-08T11:34:43.841830",
     "status": "completed"
    },
    "tags": []
   },
   "outputs": [
    {
     "data": {
      "text/plain": [
       "<lightfm.lightfm.LightFM at 0x7fdeaae1c0d0>"
      ]
     },
     "execution_count": 23,
     "metadata": {},
     "output_type": "execute_result"
    }
   ],
   "source": [
    "model = LightFM(loss='warp')\n",
    "model.fit(interactions, # spase matrix representing whether user u and item i interacted\n",
    "    user_features = user_features,\n",
    "    item_features = item_features, # we have built the sparse matrix above\n",
    "    sample_weight = weights, # spase matrix representing how much value to give to user u and item i inetraction: i.e ratings\n",
    "    epochs=10)"
   ]
  },
  {
   "cell_type": "markdown",
   "execution_count": null,
   "metadata": {
    "papermill": {
     "duration": 0.018402,
     "end_time": "2020-09-08T11:35:09.351567",
     "exception": false,
     "start_time": "2020-09-08T11:35:09.333165",
     "status": "completed"
    },
    "tags": []
   },
   "source": [
    "## Получим значение AUC"
   ]
  },
  {
   "cell_type": "code",
   "execution_count": 24,
   "metadata": {
    "execution": {
     "iopub.execute_input": "2020-09-08T11:35:09.396252Z",
     "iopub.status.busy": "2020-09-08T11:35:09.394821Z",
     "iopub.status.idle": "2020-09-08T11:35:09.399271Z",
     "shell.execute_reply": "2020-09-08T11:35:09.398592Z"
    },
    "papermill": {
     "duration": 0.029157,
     "end_time": "2020-09-08T11:35:09.399428",
     "exception": false,
     "start_time": "2020-09-08T11:35:09.370271",
     "status": "completed"
    },
    "tags": []
   },
   "outputs": [],
   "source": [
    "# Довольно долго считает, так что закомментируем\n",
    "# train_auc = auc_score(model,\n",
    "#                       interactions,\n",
    "#                       user_features = user_features,\n",
    "#                       item_features=item_features\n",
    "#                      ).mean()\n",
    "# print('Hybrid training set AUC: %s' % train_auc)"
   ]
  },
  {
   "cell_type": "markdown",
   "execution_count": null,
   "metadata": {
    "papermill": {
     "duration": 0.018817,
     "end_time": "2020-09-08T11:35:09.436891",
     "exception": false,
     "start_time": "2020-09-08T11:35:09.418074",
     "status": "completed"
    },
    "tags": []
   },
   "source": [
    "## Предсказания"
   ]
  },
  {
   "cell_type": "markdown",
   "execution_count": null,
   "metadata": {
    "papermill": {
     "duration": 0.01826,
     "end_time": "2020-09-08T11:35:09.473870",
     "exception": false,
     "start_time": "2020-09-08T11:35:09.455610",
     "status": "completed"
    },
    "tags": []
   },
   "source": [
    "Метод predict принимает три параметра на вход:\n",
    "\n",
    "*      мэппинги (отображения) id пользователей (например: для получения прогнозов для первого пользователя необходимо передать 0; для второго 1 и т. д.). Эти мэппинги доступны из словаря user_id_map.\n",
    "*      список id продуктов (опять же не itemid из датасета df, а мэппинги (отображение), которые доступны из item_id_map), для которых вы хотите получить рекомендации.\n",
    "*      item_features"
   ]
  },
  {
   "cell_type": "markdown",
   "execution_count": null,
   "metadata": {
    "papermill": {
     "duration": 0.018177,
     "end_time": "2020-09-08T11:35:09.510669",
     "exception": false,
     "start_time": "2020-09-08T11:35:09.492492",
     "status": "completed"
    },
    "tags": []
   },
   "source": [
    "Предскажем пока на известных данных тренировочного датасета"
   ]
  },
  {
   "cell_type": "code",
   "execution_count": 25,
   "metadata": {
    "execution": {
     "iopub.execute_input": "2020-09-08T11:35:09.555577Z",
     "iopub.status.busy": "2020-09-08T11:35:09.554721Z",
     "iopub.status.idle": "2020-09-08T11:35:12.283437Z",
     "shell.execute_reply": "2020-09-08T11:35:12.282733Z"
    },
    "papermill": {
     "duration": 2.754323,
     "end_time": "2020-09-08T11:35:12.283594",
     "exception": false,
     "start_time": "2020-09-08T11:35:09.529271",
     "status": "completed"
    },
    "tags": []
   },
   "outputs": [],
   "source": [
    "user_ids = df.userid.apply(lambda x: user_id_map[x])\n",
    "item_ids = df.itemid.apply(lambda x: item_id_map[x])\n",
    "preds = model.predict(user_ids.values, item_ids.values, user_features=user_features, item_features=item_features)"
   ]
  },
  {
   "cell_type": "code",
   "execution_count": 26,
   "metadata": {
    "execution": {
     "iopub.execute_input": "2020-09-08T11:35:12.327520Z",
     "iopub.status.busy": "2020-09-08T11:35:12.326654Z",
     "iopub.status.idle": "2020-09-08T11:35:12.733396Z",
     "shell.execute_reply": "2020-09-08T11:35:12.732558Z"
    },
    "papermill": {
     "duration": 0.431243,
     "end_time": "2020-09-08T11:35:12.733535",
     "exception": false,
     "start_time": "2020-09-08T11:35:12.302292",
     "status": "completed"
    },
    "tags": []
   },
   "outputs": [
    {
     "data": {
      "text/plain": [
       "0.510843338294099"
      ]
     },
     "execution_count": 26,
     "metadata": {},
     "output_type": "execute_result"
    }
   ],
   "source": [
    "sklearn.metrics.roc_auc_score(df.rating,preds)"
   ]
  },
  {
   "cell_type": "markdown",
   "execution_count": null,
   "metadata": {
    "papermill": {
     "duration": 0.018439,
     "end_time": "2020-09-08T11:35:12.770719",
     "exception": false,
     "start_time": "2020-09-08T11:35:12.752280",
     "status": "completed"
    },
    "tags": []
   },
   "source": [
    "Видим, что добавление фичей негативно сказывается на метрике roc_auc"
   ]
  },
  {
   "cell_type": "markdown",
   "execution_count": null,
   "metadata": {
    "papermill": {
     "duration": 0.01844,
     "end_time": "2020-09-08T11:35:12.807934",
     "exception": false,
     "start_time": "2020-09-08T11:35:12.789494",
     "status": "completed"
    },
    "tags": []
   },
   "source": [
    "## Предсказания для новых пользователей/продуктов"
   ]
  },
  {
   "cell_type": "markdown",
   "execution_count": null,
   "metadata": {
    "papermill": {
     "duration": 0.018709,
     "end_time": "2020-09-08T11:35:12.845495",
     "exception": false,
     "start_time": "2020-09-08T11:35:12.826786",
     "status": "completed"
    },
    "tags": []
   },
   "source": [
    "Именно поэтому мы в первую очередь создавали гибридную рекомендательную систему.\n",
    "Для нового пользователя это то, что мы знаем - у него есть значения для feature1, feature2, feature3 как 1,1 и 0 соответственно. Кроме того, verified = 1.\n",
    "\n",
    "item_feature_list = ['feature: 1', 'feature2: 1', 'feature3: 0', 'verified: 1']\n",
    "\n",
    "Теперь мы не можем передать это напрямую методу predict. Мы должны преобразовать этот формат в вид, понятный нашей модели lightFM.\n",
    "В идеале входные данные должны выглядеть как одна из строк в матрице item_features.\n",
    "\n",
    "Функции ниже преобразует item_feature_list и user_feature_list в требуемый формат."
   ]
  },
  {
   "cell_type": "code",
   "execution_count": 27,
   "metadata": {
    "execution": {
     "iopub.execute_input": "2020-09-08T11:35:12.911656Z",
     "iopub.status.busy": "2020-09-08T11:35:12.910522Z",
     "iopub.status.idle": "2020-09-08T11:35:12.914535Z",
     "shell.execute_reply": "2020-09-08T11:35:12.913852Z"
    },
    "papermill": {
     "duration": 0.049615,
     "end_time": "2020-09-08T11:35:12.914684",
     "exception": false,
     "start_time": "2020-09-08T11:35:12.865069",
     "status": "completed"
    },
    "tags": []
   },
   "outputs": [],
   "source": [
    "item_feature_list = ['main_cat:Other']\n",
    "user_feature_list = ['verified:1']"
   ]
  },
  {
   "cell_type": "code",
   "execution_count": 28,
   "metadata": {
    "execution": {
     "iopub.execute_input": "2020-09-08T11:35:12.964642Z",
     "iopub.status.busy": "2020-09-08T11:35:12.963697Z",
     "iopub.status.idle": "2020-09-08T11:35:12.973628Z",
     "shell.execute_reply": "2020-09-08T11:35:12.972825Z"
    },
    "papermill": {
     "duration": 0.038867,
     "end_time": "2020-09-08T11:35:12.973778",
     "exception": false,
     "start_time": "2020-09-08T11:35:12.934911",
     "status": "completed"
    },
    "tags": []
   },
   "outputs": [],
   "source": [
    "from scipy import sparse\n",
    "\n",
    "def format_newitem_input(item_feature_map, item_feature_list): \n",
    "    num_features = len(item_feature_list)\n",
    "    normalised_val = 1.0 \n",
    "    target_indices = []\n",
    "    for feature in item_feature_list:\n",
    "        try:\n",
    "            target_indices.append(item_feature_map[feature])\n",
    "        except KeyError:\n",
    "            print(\"new item feature encountered '{}'\".format(feature))\n",
    "            pass\n",
    "\n",
    "    new_item_features = np.zeros(len(item_feature_map.keys()))\n",
    "    for i in target_indices:\n",
    "        new_item_features[i] = normalised_val\n",
    "    new_item_features = sparse.csr_matrix(new_item_features)\n",
    "    return(new_item_features)\n",
    "\n",
    "def format_newuser_input(user_feature_map, user_feature_list):\n",
    "    num_features = len(user_feature_list)\n",
    "    normalised_val = 1.0 \n",
    "    target_indices = []\n",
    "    for feature in user_feature_list:\n",
    "        try:\n",
    "            target_indices.append(user_feature_map[feature])\n",
    "        except KeyError:\n",
    "            print(\"new user feature encountered '{}'\".format(feature))\n",
    "            pass\n",
    "\n",
    "    new_user_features = np.zeros(len(user_feature_map.keys()))\n",
    "    for i in target_indices:\n",
    "        new_user_features[i] = normalised_val\n",
    "    new_user_features = sparse.csr_matrix(new_user_features)\n",
    "    return(new_user_features)"
   ]
  },
  {
   "cell_type": "markdown",
   "execution_count": null,
   "metadata": {
    "papermill": {
     "duration": 0.01927,
     "end_time": "2020-09-08T11:35:13.013232",
     "exception": false,
     "start_time": "2020-09-08T11:35:12.993962",
     "status": "completed"
    },
    "tags": []
   },
   "source": [
    "Наконец, мы можем сделать предсказания для нового пользователя:"
   ]
  },
  {
   "cell_type": "code",
   "execution_count": 29,
   "metadata": {
    "execution": {
     "iopub.execute_input": "2020-09-08T11:35:13.060332Z",
     "iopub.status.busy": "2020-09-08T11:35:13.059442Z",
     "iopub.status.idle": "2020-09-08T11:35:13.133783Z",
     "shell.execute_reply": "2020-09-08T11:35:13.132879Z"
    },
    "papermill": {
     "duration": 0.100499,
     "end_time": "2020-09-08T11:35:13.133928",
     "exception": false,
     "start_time": "2020-09-08T11:35:13.033429",
     "status": "completed"
    },
    "tags": []
   },
   "outputs": [],
   "source": [
    "new_user_features = format_newuser_input(user_feature_map, user_feature_list)\n",
    "preds = model.predict(0, item_ids.values, user_features=new_user_features, item_features=item_features)"
   ]
  },
  {
   "cell_type": "markdown",
   "execution_count": null,
   "metadata": {
    "papermill": {
     "duration": 0.018887,
     "end_time": "2020-09-08T11:35:13.172028",
     "exception": false,
     "start_time": "2020-09-08T11:35:13.153141",
     "status": "completed"
    },
    "tags": []
   },
   "source": [
    "Здесь первый аргумент, то есть 0, больше не относится к отображаемому идентификатору для первого продукта в датасете. Вместо этого это означает - выберите первую строку разреженной матрицы new_item_features. Передача любого значения, отличного от 0, вызовет ошибку, и это правильно, поскольку в new_item_features нет строк кроме первой строки row0."
   ]
  },
  {
   "cell_type": "markdown",
   "execution_count": null,
   "metadata": {
    "papermill": {
     "duration": 0.018703,
     "end_time": "2020-09-08T11:35:13.209657",
     "exception": false,
     "start_time": "2020-09-08T11:35:13.190954",
     "status": "completed"
    },
    "tags": []
   },
   "source": [
    "Аналогично для нового продукта"
   ]
  },
  {
   "cell_type": "code",
   "execution_count": 30,
   "metadata": {
    "execution": {
     "iopub.execute_input": "2020-09-08T11:35:13.255874Z",
     "iopub.status.busy": "2020-09-08T11:35:13.255016Z",
     "iopub.status.idle": "2020-09-08T11:35:13.661974Z",
     "shell.execute_reply": "2020-09-08T11:35:13.662638Z"
    },
    "papermill": {
     "duration": 0.432919,
     "end_time": "2020-09-08T11:35:13.662847",
     "exception": false,
     "start_time": "2020-09-08T11:35:13.229928",
     "status": "completed"
    },
    "tags": []
   },
   "outputs": [],
   "source": [
    "new_item_features = format_newitem_input(item_feature_map, item_feature_list)\n",
    "preds2 = model.predict(user_ids.values, len(user_ids.values)*[0], user_features=user_features, item_features=new_item_features)"
   ]
  },
  {
   "cell_type": "markdown",
   "execution_count": null,
   "metadata": {
    "papermill": {
     "duration": 0.020106,
     "end_time": "2020-09-08T11:35:13.703267",
     "exception": false,
     "start_time": "2020-09-08T11:35:13.683161",
     "status": "completed"
    },
    "tags": []
   },
   "source": [
    "И в случае нового пользователя и нового продукта"
   ]
  },
  {
   "cell_type": "code",
   "execution_count": 31,
   "metadata": {
    "execution": {
     "iopub.execute_input": "2020-09-08T11:35:13.749629Z",
     "iopub.status.busy": "2020-09-08T11:35:13.748453Z",
     "iopub.status.idle": "2020-09-08T11:35:13.752891Z",
     "shell.execute_reply": "2020-09-08T11:35:13.752106Z"
    },
    "papermill": {
     "duration": 0.030513,
     "end_time": "2020-09-08T11:35:13.753032",
     "exception": false,
     "start_time": "2020-09-08T11:35:13.722519",
     "status": "completed"
    },
    "tags": []
   },
   "outputs": [],
   "source": [
    "preds3 = model.predict(0, [0], user_features=new_user_features, item_features=new_item_features)"
   ]
  },
  {
   "cell_type": "markdown",
   "execution_count": null,
   "metadata": {
    "papermill": {
     "duration": 0.018768,
     "end_time": "2020-09-08T11:35:13.791250",
     "exception": false,
     "start_time": "2020-09-08T11:35:13.772482",
     "status": "completed"
    },
    "tags": []
   },
   "source": [
    "# Заключение"
   ]
  },
  {
   "cell_type": "markdown",
   "execution_count": null,
   "metadata": {
    "papermill": {
     "duration": 0.018868,
     "end_time": "2020-09-08T11:35:13.829399",
     "exception": false,
     "start_time": "2020-09-08T11:35:13.810531",
     "status": "completed"
    },
    "tags": []
   },
   "source": [
    "Таким образом, с помощью добавления item_features и user_features, появляется возможность обойти проблему холодного старта. Мы можем получить информацию о пользователе, например, при регистрации, и использовать эти данные для получения рекомендаций."
   ]
  },
  {
   "cell_type": "markdown",
   "execution_count": null,
   "metadata": {
    "papermill": {
     "duration": 0.018772,
     "end_time": "2020-09-08T11:35:13.867479",
     "exception": false,
     "start_time": "2020-09-08T11:35:13.848707",
     "status": "completed"
    },
    "tags": []
   },
   "source": [
    "### Что можно было бы улучшить?"
   ]
  },
  {
   "cell_type": "markdown",
   "execution_count": null,
   "metadata": {
    "papermill": {
     "duration": 0.019044,
     "end_time": "2020-09-08T11:35:13.905840",
     "exception": false,
     "start_time": "2020-09-08T11:35:13.886796",
     "status": "completed"
    },
    "tags": []
   },
   "source": [
    "Заметно высокое потребление памяти. При том, что мы добавляем только по одной фичи для пользователя и продукта, нам едва хватает 16 GB RAM на Kaggle для работы ноутбука. Однокурсником удавалось обойти эту проблему. Возможно, у нас где-то ошибка или выбран не самый оптимальный подход для добавление фичей."
   ]
  },
  {
   "cell_type": "code",
   "execution_count": null,
   "metadata": {
    "papermill": {
     "duration": 0.020117,
     "end_time": "2020-09-08T11:35:13.945293",
     "exception": false,
     "start_time": "2020-09-08T11:35:13.925176",
     "status": "completed"
    },
    "tags": []
   },
   "outputs": [],
   "source": []
  }
 ],
 "metadata": {
  "kernelspec": {
   "display_name": "Python 3",
   "language": "python",
   "name": "python3"
  },
  "language_info": {
   "codemirror_mode": {
    "name": "ipython",
    "version": 3
   },
   "file_extension": ".py",
   "mimetype": "text/x-python",
   "name": "python",
   "nbconvert_exporter": "python",
   "pygments_lexer": "ipython3",
   "version": "3.7.6"
  },
  "papermill": {
   "duration": 140.238972,
   "end_time": "2020-09-08T11:35:14.876623",
   "environment_variables": {},
   "exception": null,
   "input_path": "__notebook__.ipynb",
   "output_path": "__notebook__.ipynb",
   "parameters": {},
   "start_time": "2020-09-08T11:32:54.637651",
   "version": "2.1.0"
  }
 },
 "nbformat": 4,
 "nbformat_minor": 4
}
